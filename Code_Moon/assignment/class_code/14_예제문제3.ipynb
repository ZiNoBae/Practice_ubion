{
 "cells": [
  {
   "attachments": {},
   "cell_type": "markdown",
   "metadata": {},
   "source": [
    "## 객실 사용 여부 관련 데이터\n",
    "1. 데이터를 탐색하고 시각화(EDA)\n",
    "2. 결측치를 탐색하고 대체 \n",
    "3. 데이터의 불균형을 시각화\n",
    "4. 데이터 오버샘플링\n",
    "5. 원데이터를 포함하여 랜덤오버샘플링과 SMOTE의 데이터 셋 구성\n",
    "6. 랜덤포레스트 분류분석으로 3개의 데이터셋의 정확도와 속도 측면으로 어떠한가 확인"
   ]
  },
  {
   "cell_type": "code",
   "execution_count": 17,
   "metadata": {},
   "outputs": [
    {
     "data": {
      "text/plain": [
       "is_canceled                          0\n",
       "deposit_type                         0\n",
       "lead_time                            5\n",
       "stays_in_weekend_nights              0\n",
       "stays_in_week_nights                 0\n",
       "is_repeated_guest                  358\n",
       "previous_cancellations               0\n",
       "previous_bookings_not_canceled       0\n",
       "booking_changes                      0\n",
       "days_in_waiting_list                 0\n",
       "adr                               1063\n",
       "dtype: int64"
      ]
     },
     "execution_count": 17,
     "metadata": {},
     "output_type": "execute_result"
    }
   ],
   "source": [
    "import pandas as pd\n",
    "import numpy as np \n",
    "hotel = pd.read_csv('./data/hotel_bookings.csv')\n",
    "hotel\n",
    "\n",
    "# 결측치 확인\n",
    "hotel.isna().sum()"
   ]
  },
  {
   "cell_type": "code",
   "execution_count": 18,
   "metadata": {},
   "outputs": [
    {
     "name": "stdout",
     "output_type": "stream",
     "text": [
      "<class 'pandas.core.frame.DataFrame'>\n",
      "RangeIndex: 20000 entries, 0 to 19999\n",
      "Data columns (total 11 columns):\n",
      " #   Column                          Non-Null Count  Dtype  \n",
      "---  ------                          --------------  -----  \n",
      " 0   is_canceled                     20000 non-null  int64  \n",
      " 1   deposit_type                    20000 non-null  object \n",
      " 2   lead_time                       19995 non-null  float64\n",
      " 3   stays_in_weekend_nights         20000 non-null  int64  \n",
      " 4   stays_in_week_nights            20000 non-null  int64  \n",
      " 5   is_repeated_guest               19642 non-null  float64\n",
      " 6   previous_cancellations          20000 non-null  int64  \n",
      " 7   previous_bookings_not_canceled  20000 non-null  int64  \n",
      " 8   booking_changes                 20000 non-null  int64  \n",
      " 9   days_in_waiting_list            20000 non-null  int64  \n",
      " 10  adr                             18937 non-null  float64\n",
      "dtypes: float64(3), int64(7), object(1)\n",
      "memory usage: 1.7+ MB\n"
     ]
    }
   ],
   "source": [
    "## 데이터 타입\n",
    "hotel.info()"
   ]
  },
  {
   "cell_type": "code",
   "execution_count": 19,
   "metadata": {},
   "outputs": [
    {
     "data": {
      "text/plain": [
       "count          20000\n",
       "unique             3\n",
       "top       No Deposit\n",
       "freq           19138\n",
       "Name: deposit_type, dtype: object"
      ]
     },
     "execution_count": 19,
     "metadata": {},
     "output_type": "execute_result"
    }
   ],
   "source": [
    "## 종속 변수 특징 파악\n",
    "hotel.deposit_type.describe()"
   ]
  },
  {
   "cell_type": "code",
   "execution_count": 20,
   "metadata": {},
   "outputs": [
    {
     "data": {
      "text/plain": [
       "deposit_type\n",
       "No Deposit    101.965190\n",
       "Non Refund     89.689476\n",
       "Refundable     67.456154\n",
       "Name: adr, dtype: float64"
      ]
     },
     "execution_count": 20,
     "metadata": {},
     "output_type": "execute_result"
    }
   ],
   "source": [
    "hotel.groupby(hotel['deposit_type']).mean()['adr']"
   ]
  },
  {
   "attachments": {},
   "cell_type": "markdown",
   "metadata": {},
   "source": [
    "- 결측치의 존재 여부\n",
    "    - 결측치가 존재하는 변수는 3개\n",
    "    - 결측치의 총 개수는 1426개\n",
    "    - 결측치가 존재하는 변수들은 비율과 분포에 따라 각각 다른 결측치 대체 방식을 사용\n",
    "- 데이터의 타입\n",
    "    - 종속변수는 int\n",
    "    - 독립변수는 object와 int, float \n",
    "    - object 타입은 인코딩을 통하여 변환\n",
    "- 종속변수 특징\n",
    "    - object 형태의 데이터\n",
    "    - 변수는 20000개 중 19138개의 관측치가 No Deposit"
   ]
  },
  {
   "cell_type": "code",
   "execution_count": 21,
   "metadata": {},
   "outputs": [
    {
     "name": "stdout",
     "output_type": "stream",
     "text": [
      "lead time 결측치 비율: 0.03%\n",
      "is repeated guest 결측치 비율: 1.79%\n",
      "adr 결측치 비율: 5.32%\n"
     ]
    }
   ],
   "source": [
    "#결측치 비율 확인\n",
    "print('lead time 결측치 비율: {}%'.format(round(5 /len(hotel)*100, 2)))\n",
    "print('is repeated guest 결측치 비율: {}%'.format(round(358/len(hotel)*100, 2)))\n",
    "print('adr 결측치 비율: {}%'.format(round(1063 /len(hotel)*100, 2)))"
   ]
  },
  {
   "attachments": {},
   "cell_type": "markdown",
   "metadata": {},
   "source": [
    "- load_time 변수는 결측치가 1% 미만이므로, 결측치가 있는 행을 삭제\n",
    "- is_repeated_guest 변수의 결측치는 최빈값으로 대체\n",
    "- adr 변수의 결측치는 deposit_type별 평균으로 adr 대체"
   ]
  },
  {
   "cell_type": "code",
   "execution_count": 22,
   "metadata": {},
   "outputs": [
    {
     "name": "stderr",
     "output_type": "stream",
     "text": [
      "C:\\Users\\moons\\AppData\\Local\\Temp\\ipykernel_1372\\3071591139.py:13: FutureWarning: Dropping of nuisance columns in DataFrame reductions (with 'numeric_only=None') is deprecated; in a future version this will raise TypeError.  Select only valid columns before calling the reduction.\n",
      "  fill_mean_func = lambda g: g.fillna(g.mean())\n"
     ]
    },
    {
     "data": {
      "text/plain": [
       "is_canceled                       0\n",
       "deposit_type                      0\n",
       "lead_time                         0\n",
       "stays_in_weekend_nights           0\n",
       "stays_in_week_nights              0\n",
       "is_repeated_guest                 0\n",
       "previous_cancellations            0\n",
       "previous_bookings_not_canceled    0\n",
       "booking_changes                   0\n",
       "days_in_waiting_list              0\n",
       "adr                               0\n",
       "dtype: int64"
      ]
     },
     "execution_count": 22,
     "metadata": {},
     "output_type": "execute_result"
    }
   ],
   "source": [
    "hotel_nonull=hotel\n",
    "## lead time 변수의 결측치는 1%가 되지 않음\n",
    "## 제거한다\n",
    "hotel_nonull.dropna(subset=['lead_time'], axis =0, inplace =True)\n",
    "\n",
    "## is_repeated_guest 변수는 binary이기 때문에\n",
    "## 최빈값으로 대체한다\n",
    "hotel_nonull['is_repeated_guest'].fillna(0)\n",
    "\n",
    "## adr 변수는 연속형 변수이기 때문에 평균대치법을 사용한다.\n",
    "## 다만, 보증금 유형에 따라 adr이 다르기 때문에\n",
    "## adr그룹별 평균을 이용해 결측값을 대체한다.\n",
    "fill_mean_func = lambda g: g.fillna(g.mean())\n",
    "hotel_nonull=hotel_nonull.groupby('deposit_type').apply(fill_mean_func)\n",
    "\n",
    "# hotel_nonull\n",
    "# hotel_nonull.index =hotel_nonull.index.droplevel(0)\n",
    "# hotel_nonull.sort_index(inplace =True )\n",
    "\n",
    "hotel_nonull.isna().sum()"
   ]
  },
  {
   "cell_type": "code",
   "execution_count": 23,
   "metadata": {},
   "outputs": [
    {
     "data": {
      "image/png": "[encoded data removed]",
      "text/plain": [
       "<Figure size 432x288 with 1 Axes>"
      ]
     },
     "metadata": {
      "needs_background": "light"
     },
     "output_type": "display_data"
    },
    {
     "name": "stdout",
     "output_type": "stream",
     "text": [
      "0 비율: 88.0%\n",
      "1 비율: 12.0%\n"
     ]
    }
   ],
   "source": [
    "import seaborn as sns\n",
    "import matplotlib.pyplot as plt\n",
    "from matplotlib import font_manager, rc\n",
    "font_path ='C:/Windows/Fonts/NGULIM.TTF'\n",
    "font = font_manager.FontProperties(fname =font_path).get_name()\n",
    "rc('font', family =font)\n",
    "\n",
    "sns.countplot(x='is_canceled', data =hotel_nonull)\n",
    "plt.title('데이터 불균형 시각화', fontsize =14)\n",
    "plt.show()\n",
    "ratio0 = round(len(hotel_nonull[hotel_nonull['is_canceled']==0])/len(hotel_nonull)*100, 2)\n",
    "ratio1 = round(len(hotel_nonull[hotel_nonull['is_canceled']==1])/len(hotel_nonull)*100, 2)\n",
    "print('0 비율: {}%'.format(ratio0))\n",
    "print('1 비율: {}%'.format(ratio1))"
   ]
  },
  {
   "cell_type": "code",
   "execution_count": 24,
   "metadata": {},
   "outputs": [
    {
     "name": "stdout",
     "output_type": "stream",
     "text": [
      "time : 0.009803056716918945\n"
     ]
    }
   ],
   "source": [
    "# 먼저 hotel_null 데이터의 object 형태 변수를 one_hot_encoding함\n",
    "hotel_nonull=pd.get_dummies(hotel_nonull)\n",
    "\n",
    "from imblearn.over_sampling import RandomOverSampler, SMOTE\n",
    "import time\n",
    "# 원본 데이터 (hotel_nonull)\n",
    "X = hotel_nonull[hotel_nonull.columns.difference(['is_canceled'])]\n",
    "y = hotel_nonull['is_canceled']\n",
    "\n",
    "start = time.time() # 시작 시간 저장\n",
    "# Random Oversampling\n",
    "ros = RandomOverSampler(random_state =42)\n",
    "X_ro, y_ro = ros.fit_resample(X, y)\n",
    "print('time :', time.time() - start) # 현재시각 - 시작시간 = 실행 시간"
   ]
  },
  {
   "cell_type": "code",
   "execution_count": 25,
   "metadata": {},
   "outputs": [
    {
     "name": "stdout",
     "output_type": "stream",
     "text": [
      "time : 0.010390758514404297\n"
     ]
    }
   ],
   "source": [
    "start = time.time() # 시작 시간 저장\n",
    "# SMOTE\n",
    "sm = SMOTE(random_state =42)\n",
    "X_sm, y_sm = ros.fit_resample(X, y)\n",
    "print('time :', time.time() - start) # 현재시각 - 시작시간 = 실행 시간"
   ]
  },
  {
   "cell_type": "code",
   "execution_count": 26,
   "metadata": {},
   "outputs": [
    {
     "name": "stdout",
     "output_type": "stream",
     "text": [
      "train 정확도 : 0.932733183295824 \n",
      "\n",
      "              precision    recall  f1-score   support\n",
      "\n",
      "           0       0.93      1.00      0.96      3519\n",
      "           1       0.97      0.44      0.60       480\n",
      "\n",
      "    accuracy                           0.93      3999\n",
      "   macro avg       0.95      0.72      0.78      3999\n",
      "weighted avg       0.93      0.93      0.92      3999\n",
      "\n",
      "time : 1.1828482151031494\n"
     ]
    }
   ],
   "source": [
    "from sklearn.model_selection import train_test_split\n",
    "from sklearn.ensemble import RandomForestClassifier\n",
    "from sklearn.metrics import classification_report\n",
    "\n",
    "start = time.time() # 시작 시간 저장\n",
    "X_train, X_test, y_train, y_test = train_test_split(X, y, test_size =0.2, stratify =y, random_state =100)\n",
    "clf = RandomForestClassifier(n_estimators =100, min_samples_split =10)\n",
    "clf.fit(X_train, y_train)\n",
    "print('train 정확도 :', clf.score(X_train, y_train), '\\n')\n",
    "pred=clf.predict(X_test)\n",
    "print(classification_report(y_test, pred))\n",
    "print('time :', time.time() - start) # 현재시각 - 시작시간 = 실행 시간"
   ]
  },
  {
   "cell_type": "code",
   "execution_count": 27,
   "metadata": {},
   "outputs": [
    {
     "name": "stdout",
     "output_type": "stream",
     "text": [
      "train 정확도 : 0.9849744245524297 \n",
      "\n",
      "              precision    recall  f1-score   support\n",
      "\n",
      "           0       0.97      0.93      0.95      3519\n",
      "           1       0.93      0.98      0.95      3519\n",
      "\n",
      "    accuracy                           0.95      7038\n",
      "   macro avg       0.95      0.95      0.95      7038\n",
      "weighted avg       0.95      0.95      0.95      7038\n",
      "\n",
      "time : 2.032484292984009\n"
     ]
    }
   ],
   "source": [
    "start = time.time() # 시작 시간 저장\n",
    "X_ro_train, X_ro_test, y_ro_train, y_ro_test = train_test_split(X_ro, y_ro, test_size =0.2, stratify =y_ro, random_state =100)\n",
    "clf_ro = RandomForestClassifier(n_estimators =100, min_samples_split=10, random_state =100)\n",
    "clf_ro.fit(X_ro_train, y_ro_train)\n",
    "print('train 정확도 :', clf_ro.score(X_ro_train, y_ro_train), '\\n')\n",
    "pred_ro=clf_ro.predict(X_ro_test)\n",
    "print(classification_report(y_ro_test, pred_ro))\n",
    "print('time :', time.time() - start) # 현재시각 - 시작시간 = 실행 시간"
   ]
  },
  {
   "cell_type": "code",
   "execution_count": 28,
   "metadata": {},
   "outputs": [
    {
     "name": "stdout",
     "output_type": "stream",
     "text": [
      "train 정확도 : 0.9849744245524297 \n",
      "\n",
      "              precision    recall  f1-score   support\n",
      "\n",
      "           0       0.97      0.93      0.95      3519\n",
      "           1       0.93      0.98      0.95      3519\n",
      "\n",
      "    accuracy                           0.95      7038\n",
      "   macro avg       0.95      0.95      0.95      7038\n",
      "weighted avg       0.95      0.95      0.95      7038\n",
      "\n",
      "time : 2.020390510559082\n"
     ]
    }
   ],
   "source": [
    "start = time.time() # 시작 시간 저장\n",
    "X_sm_train, X_sm_test, y_sm_train, y_sm_test = train_test_split(X_sm, y_sm, test_size =0.2, stratify =y_sm, random_state =100)\n",
    "clf_sm = RandomForestClassifier(n_estimators =100, min_samples_split=10, random_state =100)\n",
    "clf_sm.fit(X_sm_train, y_sm_train)\n",
    "print('train 정확도 :', clf_sm.score(X_sm_train, y_sm_train), '\\n')\n",
    "pred_sm=clf_sm.predict(X_sm_test)\n",
    "print(classification_report(y_sm_test, pred_sm))\n",
    "print('time :', time.time() - start) # 현재시각 - 시작시간 = 실행 시간"
   ]
  },
  {
   "cell_type": "code",
   "execution_count": 29,
   "metadata": {},
   "outputs": [
    {
     "name": "stdout",
     "output_type": "stream",
     "text": [
      "원본 데이터세트의 모델링 수행속도:  \t 1.7477023601531982\n",
      "RO 데이터세트의 모델링 수행속도:  \t 3.053262233734131\n",
      "SMOTE 데이터세트의 모델링 수행속도:  \t 3.2734808921813965\n"
     ]
    }
   ],
   "source": [
    "raw=0 +1.7477023601531982\n",
    "ro=0.03391218185424805+3.019350051879883\n",
    "sm=0.0389096736907959+3.2345712184906006\n",
    "print('원본 데이터세트의 모델링 수행속도: ','\\t', raw)\n",
    "print('RO 데이터세트의 모델링 수행속도: ','\\t', ro)\n",
    "print('SMOTE 데이터세트의 모델링 수행속도: ','\\t', sm) "
   ]
  },
  {
   "cell_type": "code",
   "execution_count": null,
   "metadata": {},
   "outputs": [],
   "source": []
  }
 ],
 "metadata": {
  "kernelspec": {
   "display_name": "Python 3",
   "language": "python",
   "name": "python3"
  },
  "language_info": {
   "codemirror_mode": {
    "name": "ipython",
    "version": 3
   },
   "file_extension": ".py",
   "mimetype": "text/x-python",
   "name": "python",
   "nbconvert_exporter": "python",
   "pygments_lexer": "ipython3",
   "version": "3.10.4 (tags/v3.10.4:9d38120, Mar 23 2022, 23:13:41) [MSC v.1929 64 bit (AMD64)]"
  },
  "orig_nbformat": 4,
  "vscode": {
   "interpreter": {
    "hash": "eccee16ee1f2ca6b29c61e3c4642a90ff58e47b250cd293abf19e9e3b8422bd1"
   }
  }
 },
 "nbformat": 4,
 "nbformat_minor": 2
}
