{
 "cells": [
  {
   "attachments": {},
   "cell_type": "markdown",
   "metadata": {},
   "source": [
    "### 파킨슨병 데이터\n",
    "- 환자들의 뇌를 촬영한 사진의 상태를 기록한 자료에 각 환자의 상태 status(1: 파킨슨병 진단, 0: 파킨슨병 아님)로 추가한 테이블\n",
    "- (data/parkinsons.csv)\n",
    "1. 파킨슨 병을 예측하는 모델로 로지스틱 회귀모형을 적용하여 생성\n",
    "2. 파킨슨병을 예측하는데 영향을 미치는 변수를 중요한 순서대로 3개 선정\n",
    "3. 파킨슨 병을 진단하는 기준를 함수로 생성하여(매개변수명 = threshold, 함수명 = cutoff)을 0.5로 했을 때와 0.8로 했을 때 F1-스코어를 비교\n",
    "    - 분석 조건\n",
    "        - 필요 없는 컬럼 name을 삭제\n",
    "        - 데이터의 정규화는 min-max 스케일러 사용\n",
    "        - 로지스틱 회귀를 위한 상수항 추가\n",
    "        - status는 카테고리 타입으로 변환\n",
    "        - 트레이닝셋과 테스트셋 비율은 9:1\n",
    "        - 모델은 로지스틱 회귀분석 사용\n",
    "        - 모델의 최적화 방법론은 \"bfgs\" 사용"
   ]
  }
 ],
 "metadata": {
  "kernelspec": {
   "display_name": "Python 3",
   "language": "python",
   "name": "python3"
  },
  "language_info": {
   "codemirror_mode": {
    "name": "ipython",
    "version": 3
   },
   "file_extension": ".py",
   "mimetype": "text/x-python",
   "name": "python",
   "nbconvert_exporter": "python",
   "pygments_lexer": "ipython3",
   "version": "3.10.4 (tags/v3.10.4:9d38120, Mar 23 2022, 23:13:41) [MSC v.1929 64 bit (AMD64)]"
  },
  "orig_nbformat": 4,
  "vscode": {
   "interpreter": {
    "hash": "eccee16ee1f2ca6b29c61e3c4642a90ff58e47b250cd293abf19e9e3b8422bd1"
   }
  }
 },
 "nbformat": 4,
 "nbformat_minor": 2
}
