{
 "cells": [
  {
   "attachments": {},
   "cell_type": "markdown",
   "metadata": {},
   "source": [
    "# Class 생성\n",
    "\n",
    "1. class 이름은 User\n",
    "2. 생성자 함수 (__init__)에서 유저의 이름, 휴대폰 번호, 생년월일 매개변수를 이용하여, self 변수를 만들어서 저장 \n",
    "3. info() 함수를 생성하여 유저의 정보를 출력하는 함수 생성"
   ]
  },
  {
   "cell_type": "code",
   "execution_count": 3,
   "metadata": {},
   "outputs": [],
   "source": [
    "# class 선언 \n",
    "\n",
    "class User :\n",
    "\n",
    "    # 생성자 함수 생성 : self를 제외한 매개변수는 3개\n",
    "    def __init__(self, _name, _phone, _birth) :\n",
    "        self.name = _name\n",
    "        self.phone = _phone\n",
    "        self.birth = _birth\n",
    "    \n",
    "    def info(self) :\n",
    "        return (self.name, self.phone, self.birth)\n",
    "    \n",
    "    \n",
    "\n",
    "    \n",
    "\n"
   ]
  },
  {
   "cell_type": "code",
   "execution_count": 4,
   "metadata": {},
   "outputs": [],
   "source": [
    "# test\n",
    "\n",
    "# class 생성\n",
    "\n",
    "test = User('test', '01012345678', '940603')"
   ]
  },
  {
   "cell_type": "code",
   "execution_count": 5,
   "metadata": {},
   "outputs": [
    {
     "data": {
      "text/plain": [
       "'test'"
      ]
     },
     "execution_count": 5,
     "metadata": {},
     "output_type": "execute_result"
    }
   ],
   "source": [
    "test.name"
   ]
  },
  {
   "cell_type": "code",
   "execution_count": 6,
   "metadata": {},
   "outputs": [
    {
     "data": {
      "text/plain": [
       "'940603'"
      ]
     },
     "execution_count": 6,
     "metadata": {},
     "output_type": "execute_result"
    }
   ],
   "source": [
    "test.birth"
   ]
  },
  {
   "cell_type": "code",
   "execution_count": 7,
   "metadata": {},
   "outputs": [
    {
     "data": {
      "text/plain": [
       "'01012345678'"
      ]
     },
     "execution_count": 7,
     "metadata": {},
     "output_type": "execute_result"
    }
   ],
   "source": [
    "test.phone"
   ]
  },
  {
   "cell_type": "code",
   "execution_count": 8,
   "metadata": {},
   "outputs": [
    {
     "data": {
      "text/plain": [
       "('test', '01012345678', '940603')"
      ]
     },
     "execution_count": 8,
     "metadata": {},
     "output_type": "execute_result"
    }
   ],
   "source": [
    "test.info()"
   ]
  },
  {
   "attachments": {},
   "cell_type": "markdown",
   "metadata": {},
   "source": [
    "# 지갑 클래스 선언\n",
    "\n",
    "1. 클래스의 이름은 Wallet \n",
    "2. 생성자 함수에는 소유자 이름, 지갑의 브랜드, 지갑의 가치, 잔액 \n",
    "3. 잔액은 기본값 : 0\n",
    "4. work() 함수 생성 : 매개변수에 일의 종류, 일의 종류가 'TM'이면 지갑의 잔액 500 증가, alba이면 지갑의 잔액 300 증가, serving 이면 잔액 400 증가 \n",
    "5. wallet_info() 함수 생성 : 지갑의 정보(소유자의 이름, 지갑의 브랜드, 지갑의 가치, 잔액) 출력\n"
   ]
  },
  {
   "cell_type": "code",
   "execution_count": 112,
   "metadata": {},
   "outputs": [],
   "source": [
    "# ZiNo \n",
    "class Wallet2() : \n",
    "    \n",
    "    def __init__(self, _name, _brand, _value, _balance = 0) : \n",
    "        self.name = _name\n",
    "        self.brand = _brand\n",
    "        self.value = _value\n",
    "        self.balance = _balance\n",
    "\n",
    "    def work(self, _job) :\n",
    "        if _job == 'TM' :\n",
    "            self.balance += 500\n",
    "        elif _job == 'alba' :\n",
    "            self.balance += 300\n",
    "        elif _job == 'serving' :\n",
    "            self.balance += 400\n",
    "        else : \n",
    "            return '직업의 귀천은 없지만, 그 직업은 .. 아앗'\n",
    "\n",
    "        # return self.wallet_info()  <- zino\n",
    "        \n",
    "        return f\"{_job}의 일을 완료하였습니다. 현재 잔액은 {self.balance}입니다.\"\n",
    "    \n",
    "    # 구매하는 함수 생성 _Moon\n",
    "    \n",
    "    def buy(self, _item) : \n",
    "        _item_price = {'cash' : 200, 'food':300, 'clothes' : 500}\n",
    "        \n",
    "        if self.balance >= _item_price[_item] :  \n",
    "            if _item == 'cash' :\n",
    "                self.balance -= _item_price['cash']\n",
    "            elif _item == 'food' :\n",
    "                self.balance -= _item_price['food']\n",
    "            elif _item == 'clothes' :\n",
    "                self.balance -= _item_price['clothes']\n",
    "            else :\n",
    "                return 'item의 타입이 맞지 않습니다.'\n",
    "            return f\"{_item}을(를) 구매하였습니다. 현재 잔액은 {self.balance}입니다.\"\n",
    "\n",
    "        else :\n",
    "            return f\"{self.balance}원 밖에 없으면서, 어딜\"\n",
    "\n",
    "    \n",
    "    def wallet_info(self) : \n",
    "        return (self.name, self.brand, self.value, self.balance)\n"
   ]
  },
  {
   "cell_type": "code",
   "execution_count": 114,
   "metadata": {},
   "outputs": [],
   "source": [
    "# Moon\n",
    "\n",
    "class Wallet1() :  \n",
    "\n",
    "    #클래스 변수 생성 -> 클래쓰 안에서 공유하는 변수 \n",
    "    work_type = {\n",
    "        'TM' : 500, \n",
    "        'alba' : 300,\n",
    "        'serving' : 400\n",
    "    }\n",
    "\n",
    "    item_type = {\n",
    "        'cash' : 200, \n",
    "        'food' : 300,\n",
    "        'clothes' : 500\n",
    "    }\n",
    "    \n",
    "    def __init__(self, _name, _brand, _value, _balance = 0) : \n",
    "        self.name = _name\n",
    "        self.brand = _brand\n",
    "        self.value = _value\n",
    "        self.balance = _balance\n",
    "\n",
    "    def work(self, _type) :\n",
    "        # if _type == 'TM' :\n",
    "        #     self.balance += 500\n",
    "        # elif _type == 'alba' :\n",
    "        #     self.balance += 300\n",
    "        # elif _type == 'serving' :\n",
    "        #     self.balance += 400\n",
    "        # else : \n",
    "        #     return '직업의 귀천은 없지만, 그 직업은 .. 아앗'\n",
    "\n",
    "        # # return self.wallet_info()  <- zino\n",
    "        \n",
    "        # return f\"{_job}의 일을 완료하였습니다. 현재 잔액은 {self.balance}입니다.\"\n",
    "\n",
    "        if _type in self.work_type.keys() : \n",
    "            self.balance += self.work_type[_type]\n",
    "        else : \n",
    "            return \"일의 타입이 맞지 않습니다.\"\n",
    "        return f\"{_type}의 일을 완료하였습니다. 현재 잔액은 {self.balance}입니다.\"\n",
    "\n",
    "    def buy(self, _item) : \n",
    "        if _item in self.item_type.keys() :\n",
    "            if self.balance >= self.item_type[_item] : \n",
    "                self.balance -= self.item_type[_item]\n",
    "                \n",
    "            else : \n",
    "                return \"잔액 부족\"\n",
    "            \n",
    "        else : \n",
    "            return \"구매 목록이 잘못되었습니다.\"\n",
    "        \n",
    "        return f\"{_item}을(를) 구매하였습니다. 현재의 잔액은 {self.balance}입니다.\"\n",
    "    # 일과 구매의 목록을 추가하는 함수 생성 \n",
    "    def add_type(self, _choose, _key, _value):\n",
    "        # _choose : 일이냐, 구매냐 \n",
    "        # _key : dict의 키 값\n",
    "        # _value : dict의 value 값\n",
    "        if _choose == 'work' : \n",
    "            if _key not in self.work_type.keys() : \n",
    "                self.work_type[_key] = _value\n",
    "            else : \n",
    "                return '일 목록이 존재합니다.'  \n",
    "        elif _choose == 'buy' :\n",
    "            if _key not in self.item_type.keys() :\n",
    "                self.item_type[_key] = _value\n",
    "            else :\n",
    "                return '구매 목록이 존재합니다.'\n",
    "        else : \n",
    "            return \"choose 값이 잘못 되었습니다.\"\n",
    "        \n",
    "        return f\"{_choose}의 목록이 추가되었습니다.\"\n",
    "    \n",
    "    \n",
    "\n",
    "\n",
    "\n",
    "\n",
    "    def wallet_info(self) : \n",
    "        return (self.name, self.brand, self.value, self.balance)\n",
    "\n",
    "    "
   ]
  },
  {
   "cell_type": "code",
   "execution_count": 128,
   "metadata": {},
   "outputs": [],
   "source": [
    "# 상속\n",
    "\n",
    "class Wallet(User) :  \n",
    "\n",
    "    #클래스 변수 생성 -> 클래쓰 안에서 공유하는 변수 \n",
    "    work_type = {\n",
    "        'TM' : 500, \n",
    "        'alba' : 300,\n",
    "        'serving' : 400\n",
    "    }\n",
    "\n",
    "    item_type = {\n",
    "        'cash' : 200, \n",
    "        'food' : 300,\n",
    "        'clothes' : 500\n",
    "    }\n",
    "    \n",
    "    def __init__(self, _name, _phone, _birth, _brand, _value, _balance = 0) : \n",
    "        # self.name = _name <- User의 init에 있는 변수이름 겹치니까 지우자\n",
    "\n",
    "        # 부모 클래쓰의 __init__함수 실행 \n",
    "        super().__init__(_name, _phone, _birth)\n",
    "        self.brand = _brand\n",
    "        self.value = _value\n",
    "        self.balance = _balance\n",
    "\n",
    "    def work(self, _type) :\n",
    "        # if _type == 'TM' :\n",
    "        #     self.balance += 500\n",
    "        # elif _type == 'alba' :\n",
    "        #     self.balance += 300\n",
    "        # elif _type == 'serving' :\n",
    "        #     self.balance += 400\n",
    "        # else : \n",
    "        #     return '직업의 귀천은 없지만, 그 직업은 .. 아앗'\n",
    "\n",
    "        # # return self.wallet_info()  <- zino\n",
    "        \n",
    "        # return f\"{_job}의 일을 완료하였습니다. 현재 잔액은 {self.balance}입니다.\"\n",
    "\n",
    "        if _type in self.work_type.keys() : \n",
    "            self.balance += self.work_type[_type]\n",
    "        else : \n",
    "            return \"일의 타입이 맞지 않습니다.\"\n",
    "        return f\"{_type}의 일을 완료하였습니다. 현재 잔액은 {self.balance}입니다.\"\n",
    "\n",
    "    def buy(self, _item) : \n",
    "        if _item in self.item_type.keys() :\n",
    "            if self.balance >= self.item_type[_item] : \n",
    "                self.balance -= self.item_type[_item]\n",
    "                \n",
    "            else : \n",
    "                return \"잔액 부족\"\n",
    "            \n",
    "        else : \n",
    "            return \"구매 목록이 잘못되었습니다.\"\n",
    "        \n",
    "        return f\"{_item}을(를) 구매하였습니다. 현재의 잔액은 {self.balance}입니다.\"\n",
    "    # 일과 구매의 목록을 추가하는 함수 생성 \n",
    "    def add_type(self, _choose, _key, _value):\n",
    "        # _choose : 일이냐, 구매냐 \n",
    "        # _key : dict의 키 값\n",
    "        # _value : dict의 value 값\n",
    "        if _choose == 'work' : \n",
    "            if _key not in self.work_type.keys() : \n",
    "                self.work_type[_key] = _value\n",
    "            else : \n",
    "                return '일 목록이 존재합니다.'  \n",
    "        elif _choose == 'buy' :\n",
    "            if _key not in self.item_type.keys() :\n",
    "                self.item_type[_key] = _value\n",
    "            else :\n",
    "                return '구매 목록이 존재합니다.'\n",
    "        else : \n",
    "            return \"choose 값이 잘못 되었습니다.\"\n",
    "        \n",
    "        return f\"{_choose}의 목록이 추가되었습니다.\"\n",
    "    \n",
    "    \n",
    "\n",
    "\n",
    "\n",
    "\n",
    "    def info(self) : # <- 부모의 info()함수를 손상시키지 않고, 자식 info() 덮어서 써버리기 ~\n",
    "                        # 함수명을 똑같이 해야만 '오버라이딩'했다고 할 수 있음\n",
    "        return (self.brand, self.value, self.balance)\n",
    "\n",
    "    "
   ]
  },
  {
   "cell_type": "code",
   "execution_count": 124,
   "metadata": {},
   "outputs": [],
   "source": [
    "test = Wallet(\"test\", \"01012345678\", '940603', 'Gucci', '5000')"
   ]
  },
  {
   "cell_type": "code",
   "execution_count": 125,
   "metadata": {},
   "outputs": [
    {
     "data": {
      "text/plain": [
       "('Gucci', '5000', 0)"
      ]
     },
     "execution_count": 125,
     "metadata": {},
     "output_type": "execute_result"
    }
   ],
   "source": [
    "test.info() # <- 부모 클래쓰인 info()함수도 쓸 수 있게 되어써"
   ]
  },
  {
   "cell_type": "code",
   "execution_count": 126,
   "metadata": {},
   "outputs": [],
   "source": [
    "test2 = User('test2', '01011112222', '000101')\n",
    "\n"
   ]
  },
  {
   "cell_type": "code",
   "execution_count": 127,
   "metadata": {},
   "outputs": [
    {
     "data": {
      "text/plain": [
       "('test2', '01011112222', '000101')"
      ]
     },
     "execution_count": 127,
     "metadata": {},
     "output_type": "execute_result"
    }
   ],
   "source": [
    "test2.info()"
   ]
  },
  {
   "cell_type": "code",
   "execution_count": null,
   "metadata": {},
   "outputs": [],
   "source": []
  },
  {
   "cell_type": "code",
   "execution_count": 101,
   "metadata": {},
   "outputs": [
    {
     "data": {
      "text/plain": [
       "'일 목록이 존재합니다.'"
      ]
     },
     "execution_count": 101,
     "metadata": {},
     "output_type": "execute_result"
    }
   ],
   "source": [
    "test.add_type('work', 'teach', 250)"
   ]
  },
  {
   "cell_type": "code",
   "execution_count": 110,
   "metadata": {},
   "outputs": [
    {
     "data": {
      "text/plain": [
       "'buy의 목록이 추가되었습니다.'"
      ]
     },
     "execution_count": 110,
     "metadata": {},
     "output_type": "execute_result"
    }
   ],
   "source": [
    "test.add_type('buy', 'coffee', 100)"
   ]
  },
  {
   "cell_type": "code",
   "execution_count": 111,
   "metadata": {},
   "outputs": [
    {
     "data": {
      "text/plain": [
       "'coffee을(를) 구매하였습니다. 현재의 잔액은 800입니다.'"
      ]
     },
     "execution_count": 111,
     "metadata": {},
     "output_type": "execute_result"
    }
   ],
   "source": [
    "test.buy('coffee')\n"
   ]
  },
  {
   "cell_type": "code",
   "execution_count": 103,
   "metadata": {},
   "outputs": [
    {
     "data": {
      "text/plain": [
       "('ZiNo', 'sister', 'priceless', 300)"
      ]
     },
     "execution_count": 103,
     "metadata": {},
     "output_type": "execute_result"
    }
   ],
   "source": [
    "test.wallet_info()"
   ]
  },
  {
   "cell_type": "code",
   "execution_count": 105,
   "metadata": {},
   "outputs": [],
   "source": [
    "test = Wallet2('ZiNo', 'sister', 'priceless')"
   ]
  },
  {
   "cell_type": "code",
   "execution_count": 109,
   "metadata": {},
   "outputs": [
    {
     "data": {
      "text/plain": [
       "'alba의 일을 완료하였습니다. 현재 잔액은 900입니다.'"
      ]
     },
     "execution_count": 109,
     "metadata": {},
     "output_type": "execute_result"
    }
   ],
   "source": [
    "test.work('alba')"
   ]
  },
  {
   "cell_type": "code",
   "execution_count": 107,
   "metadata": {},
   "outputs": [
    {
     "data": {
      "text/plain": [
       "'잔액 부족'"
      ]
     },
     "execution_count": 107,
     "metadata": {},
     "output_type": "execute_result"
    }
   ],
   "source": [
    "test.buy('clothes')"
   ]
  },
  {
   "cell_type": "code",
   "execution_count": 88,
   "metadata": {},
   "outputs": [
    {
     "data": {
      "text/plain": [
       "('ZiNo', 'sister', 'priceless', 700)"
      ]
     },
     "execution_count": 88,
     "metadata": {},
     "output_type": "execute_result"
    }
   ],
   "source": [
    "test.wallet_info()"
   ]
  },
  {
   "cell_type": "code",
   "execution_count": 87,
   "metadata": {},
   "outputs": [
    {
     "data": {
      "text/plain": [
       "'serving의 일을 완료하였습니다. 현재 잔액은 700입니다.'"
      ]
     },
     "execution_count": 87,
     "metadata": {},
     "output_type": "execute_result"
    }
   ],
   "source": [
    "test.work('serving')"
   ]
  },
  {
   "cell_type": "code",
   "execution_count": 85,
   "metadata": {},
   "outputs": [
    {
     "data": {
      "text/plain": [
       "'일의 타입이 맞지 않습니다.'"
      ]
     },
     "execution_count": 85,
     "metadata": {},
     "output_type": "execute_result"
    }
   ],
   "source": [
    "test.work('teach')"
   ]
  },
  {
   "cell_type": "code",
   "execution_count": 42,
   "metadata": {},
   "outputs": [
    {
     "data": {
      "text/plain": [
       "'TM의 일을 완료하였습니다. 현재 잔액은 1500입니다.'"
      ]
     },
     "execution_count": 42,
     "metadata": {},
     "output_type": "execute_result"
    }
   ],
   "source": [
    "test2.work('TM')"
   ]
  },
  {
   "cell_type": "code",
   "execution_count": 46,
   "metadata": {},
   "outputs": [
    {
     "data": {
      "text/plain": [
       "'cash을(를) 구매하였습니다. 현재 잔액은 1300입니다.'"
      ]
     },
     "execution_count": 46,
     "metadata": {},
     "output_type": "execute_result"
    }
   ],
   "source": [
    "test2.buy('cash')"
   ]
  },
  {
   "cell_type": "code",
   "execution_count": 48,
   "metadata": {},
   "outputs": [
    {
     "data": {
      "text/plain": [
       "'food을(를) 구매하였습니다. 현재 잔액은 1000입니다.'"
      ]
     },
     "execution_count": 48,
     "metadata": {},
     "output_type": "execute_result"
    }
   ],
   "source": [
    "test2.buy('food')"
   ]
  },
  {
   "cell_type": "code",
   "execution_count": 50,
   "metadata": {},
   "outputs": [
    {
     "data": {
      "text/plain": [
       "'item의 타입이 맞지 않습니다.'"
      ]
     },
     "execution_count": 50,
     "metadata": {},
     "output_type": "execute_result"
    }
   ],
   "source": [
    "test2.buy('computer')"
   ]
  },
  {
   "cell_type": "code",
   "execution_count": 51,
   "metadata": {},
   "outputs": [
    {
     "data": {
      "text/plain": [
       "('ZiNo', 'Gucci', 10000, 1000)"
      ]
     },
     "execution_count": 51,
     "metadata": {},
     "output_type": "execute_result"
    }
   ],
   "source": [
    "test2.wallet_info()"
   ]
  },
  {
   "cell_type": "code",
   "execution_count": 44,
   "metadata": {},
   "outputs": [],
   "source": [
    "test3 = Wallet('showni', 'Channel', 100, 100)"
   ]
  },
  {
   "cell_type": "code",
   "execution_count": 45,
   "metadata": {},
   "outputs": [
    {
     "data": {
      "text/plain": [
       "'alba의 일을 완료하였습니다. 현재 잔액은 400입니다.'"
      ]
     },
     "execution_count": 45,
     "metadata": {},
     "output_type": "execute_result"
    }
   ],
   "source": [
    "test3.work('alba')"
   ]
  },
  {
   "cell_type": "code",
   "execution_count": 34,
   "metadata": {},
   "outputs": [
    {
     "data": {
      "text/plain": [
       "('showni', 'Channel', 100, 400)"
      ]
     },
     "execution_count": 34,
     "metadata": {},
     "output_type": "execute_result"
    }
   ],
   "source": [
    "test3.wallet_info()"
   ]
  },
  {
   "cell_type": "code",
   "execution_count": null,
   "metadata": {},
   "outputs": [],
   "source": []
  }
 ],
 "metadata": {
  "kernelspec": {
   "display_name": "Python 3",
   "language": "python",
   "name": "python3"
  },
  "language_info": {
   "codemirror_mode": {
    "name": "ipython",
    "version": 3
   },
   "file_extension": ".py",
   "mimetype": "text/x-python",
   "name": "python",
   "nbconvert_exporter": "python",
   "pygments_lexer": "ipython3",
   "version": "3.11.2"
  },
  "orig_nbformat": 4
 },
 "nbformat": 4,
 "nbformat_minor": 2
}
