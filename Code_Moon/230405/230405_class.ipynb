{
 "cells": [
  {
   "attachments": {},
   "cell_type": "markdown",
   "metadata": {},
   "source": [
    "### Review\n",
    "\n",
    "1. is\n",
    "    1. is - 뒤에 인자값을 넣어서,\n",
    "    2. isna - 결측치가 있으면 True\n",
    "    3. isin - 뒤에 나오는거에 앞에꺼가 있으면 True\n",
    "\n",
    "2. loc & iloc   필터함수\n",
    "    1. loc(행의 조건, 열의 조건)\n",
    "    2. iloc(행의 위치, 열의 위치)\n",
    "\n",
    "3. describe : 통계요약정보\n",
    "\n",
    "4. drop & drop na\n",
    "\n",
    "5. sort\n",
    "    - 차순 정렬 True = 오름차순, False = 내림차순\n",
    "    - index 기준 \n",
    "    - value 기준 "
   ]
  },
  {
   "cell_type": "code",
   "execution_count": 1,
   "metadata": {},
   "outputs": [],
   "source": [
    "import pandas as pd\n"
   ]
  },
  {
   "attachments": {},
   "cell_type": "markdown",
   "metadata": {},
   "source": [
    "### 연습문제 \n",
    "1. csv 폴더에 있는 Sales Records.csv 파일 로드 \n",
    "2. 'Order ID', 'Total Revenue', 'Total Cost', 'Total Profit', 'Sales Channel' 컬럼을 삭제\n",
    "3. 컬럼의 이름을 변경 -> ['권역', '국가', '상품종류', '우선순위', '주문일자', '발송일자', '단가', '원가']\n",
    "4. 권역과 국가를 기준으로 오름차순으로 정렬\n",
    "5. index를 초기화하고 기존의 인덱스는 삭제"
   ]
  },
  {
   "cell_type": "code",
   "execution_count": 35,
   "metadata": {},
   "outputs": [],
   "source": [
    "_sales = pd.read_csv('../csv/Sales Records.csv')"
   ]
  },
  {
   "cell_type": "code",
   "execution_count": 36,
   "metadata": {},
   "outputs": [],
   "source": [
    "# _sales.head(3)\n",
    "\n",
    "# _sales 컬럼 삭제 - chatGPT한테 물어봐서 알게 된 labels =[] \n",
    "\n",
    "_sales.drop(labels = [\"Order ID\", 'Total Revenue', 'Total Cost', 'Total Profit', 'Sales Channel'], axis = 1, inplace = True)\n",
    "\n",
    "# _sales.head(3)\n",
    "\n"
   ]
  },
  {
   "cell_type": "code",
   "execution_count": 37,
   "metadata": {},
   "outputs": [
    {
     "data": {
      "text/html": [
       "<div>\n",
       "<style scoped>\n",
       "    .dataframe tbody tr th:only-of-type {\n",
       "        vertical-align: middle;\n",
       "    }\n",
       "\n",
       "    .dataframe tbody tr th {\n",
       "        vertical-align: top;\n",
       "    }\n",
       "\n",
       "    .dataframe thead th {\n",
       "        text-align: right;\n",
       "    }\n",
       "</style>\n",
       "<table border=\"1\" class=\"dataframe\">\n",
       "  <thead>\n",
       "    <tr style=\"text-align: right;\">\n",
       "      <th></th>\n",
       "      <th>권역</th>\n",
       "      <th>국가</th>\n",
       "      <th>상품종류</th>\n",
       "      <th>우선순위</th>\n",
       "      <th>주문일자</th>\n",
       "      <th>발송일자</th>\n",
       "      <th>판매단위</th>\n",
       "      <th>단가</th>\n",
       "      <th>원가</th>\n",
       "    </tr>\n",
       "  </thead>\n",
       "  <tbody>\n",
       "    <tr>\n",
       "      <th>0</th>\n",
       "      <td>Sub-Saharan Africa</td>\n",
       "      <td>Chad</td>\n",
       "      <td>Office Supplies</td>\n",
       "      <td>L</td>\n",
       "      <td>1/27/2011</td>\n",
       "      <td>2/12/2011</td>\n",
       "      <td>4484</td>\n",
       "      <td>651.21</td>\n",
       "      <td>524.96</td>\n",
       "    </tr>\n",
       "    <tr>\n",
       "      <th>1</th>\n",
       "      <td>Europe</td>\n",
       "      <td>Latvia</td>\n",
       "      <td>Beverages</td>\n",
       "      <td>C</td>\n",
       "      <td>12/28/2015</td>\n",
       "      <td>1/23/2016</td>\n",
       "      <td>1075</td>\n",
       "      <td>47.45</td>\n",
       "      <td>31.79</td>\n",
       "    </tr>\n",
       "    <tr>\n",
       "      <th>2</th>\n",
       "      <td>Middle East and North Africa</td>\n",
       "      <td>Pakistan</td>\n",
       "      <td>Vegetables</td>\n",
       "      <td>C</td>\n",
       "      <td>1/13/2011</td>\n",
       "      <td>2/1/2011</td>\n",
       "      <td>6515</td>\n",
       "      <td>154.06</td>\n",
       "      <td>90.93</td>\n",
       "    </tr>\n",
       "  </tbody>\n",
       "</table>\n",
       "</div>"
      ],
      "text/plain": [
       "                             권역        국가             상품종류 우선순위        주문일자  \\\n",
       "0            Sub-Saharan Africa      Chad  Office Supplies    L   1/27/2011   \n",
       "1                        Europe    Latvia        Beverages    C  12/28/2015   \n",
       "2  Middle East and North Africa  Pakistan       Vegetables    C   1/13/2011   \n",
       "\n",
       "        발송일자  판매단위      단가      원가  \n",
       "0  2/12/2011  4484  651.21  524.96  \n",
       "1  1/23/2016  1075   47.45   31.79  \n",
       "2   2/1/2011  6515  154.06   90.93  "
      ]
     },
     "execution_count": 37,
     "metadata": {},
     "output_type": "execute_result"
    }
   ],
   "source": [
    "#컬럼 이름 바꿀거야 \n",
    "_sales.columns = ['권역', '국가', '상품종류', '우선순위', '주문일자', '발송일자', '판매단위', '단가', '원가']\n",
    "_sales.head(3)"
   ]
  },
  {
   "cell_type": "code",
   "execution_count": 53,
   "metadata": {},
   "outputs": [
    {
     "data": {
      "text/html": [
       "<div>\n",
       "<style scoped>\n",
       "    .dataframe tbody tr th:only-of-type {\n",
       "        vertical-align: middle;\n",
       "    }\n",
       "\n",
       "    .dataframe tbody tr th {\n",
       "        vertical-align: top;\n",
       "    }\n",
       "\n",
       "    .dataframe thead th {\n",
       "        text-align: right;\n",
       "    }\n",
       "</style>\n",
       "<table border=\"1\" class=\"dataframe\">\n",
       "  <thead>\n",
       "    <tr style=\"text-align: right;\">\n",
       "      <th></th>\n",
       "      <th>권역</th>\n",
       "      <th>국가</th>\n",
       "      <th>상품종류</th>\n",
       "      <th>우선순위</th>\n",
       "      <th>주문일자</th>\n",
       "      <th>발송일자</th>\n",
       "      <th>판매단위</th>\n",
       "      <th>단가</th>\n",
       "      <th>원가</th>\n",
       "    </tr>\n",
       "  </thead>\n",
       "  <tbody>\n",
       "    <tr>\n",
       "      <th>36</th>\n",
       "      <td>Asia</td>\n",
       "      <td>Bangladesh</td>\n",
       "      <td>Personal Care</td>\n",
       "      <td>L</td>\n",
       "      <td>12/11/2016</td>\n",
       "      <td>1/13/2017</td>\n",
       "      <td>9420</td>\n",
       "      <td>81.73</td>\n",
       "      <td>56.67</td>\n",
       "    </tr>\n",
       "    <tr>\n",
       "      <th>246</th>\n",
       "      <td>Asia</td>\n",
       "      <td>Bangladesh</td>\n",
       "      <td>Cosmetics</td>\n",
       "      <td>M</td>\n",
       "      <td>7/29/2010</td>\n",
       "      <td>9/11/2010</td>\n",
       "      <td>577</td>\n",
       "      <td>437.20</td>\n",
       "      <td>263.33</td>\n",
       "    </tr>\n",
       "    <tr>\n",
       "      <th>446</th>\n",
       "      <td>Asia</td>\n",
       "      <td>Bangladesh</td>\n",
       "      <td>Vegetables</td>\n",
       "      <td>C</td>\n",
       "      <td>4/28/2014</td>\n",
       "      <td>5/5/2014</td>\n",
       "      <td>34</td>\n",
       "      <td>154.06</td>\n",
       "      <td>90.93</td>\n",
       "    </tr>\n",
       "    <tr>\n",
       "      <th>569</th>\n",
       "      <td>Asia</td>\n",
       "      <td>Bangladesh</td>\n",
       "      <td>Cereal</td>\n",
       "      <td>L</td>\n",
       "      <td>6/22/2010</td>\n",
       "      <td>6/28/2010</td>\n",
       "      <td>9768</td>\n",
       "      <td>205.70</td>\n",
       "      <td>117.11</td>\n",
       "    </tr>\n",
       "    <tr>\n",
       "      <th>576</th>\n",
       "      <td>Asia</td>\n",
       "      <td>Bangladesh</td>\n",
       "      <td>Office Supplies</td>\n",
       "      <td>H</td>\n",
       "      <td>3/20/2013</td>\n",
       "      <td>4/11/2013</td>\n",
       "      <td>7731</td>\n",
       "      <td>651.21</td>\n",
       "      <td>524.96</td>\n",
       "    </tr>\n",
       "    <tr>\n",
       "      <th>...</th>\n",
       "      <td>...</td>\n",
       "      <td>...</td>\n",
       "      <td>...</td>\n",
       "      <td>...</td>\n",
       "      <td>...</td>\n",
       "      <td>...</td>\n",
       "      <td>...</td>\n",
       "      <td>...</td>\n",
       "      <td>...</td>\n",
       "    </tr>\n",
       "    <tr>\n",
       "      <th>8747</th>\n",
       "      <td>Sub-Saharan Africa</td>\n",
       "      <td>Zimbabwe</td>\n",
       "      <td>Clothes</td>\n",
       "      <td>H</td>\n",
       "      <td>11/27/2013</td>\n",
       "      <td>1/9/2014</td>\n",
       "      <td>8431</td>\n",
       "      <td>109.28</td>\n",
       "      <td>35.84</td>\n",
       "    </tr>\n",
       "    <tr>\n",
       "      <th>9025</th>\n",
       "      <td>Sub-Saharan Africa</td>\n",
       "      <td>Zimbabwe</td>\n",
       "      <td>Baby Food</td>\n",
       "      <td>M</td>\n",
       "      <td>3/11/2013</td>\n",
       "      <td>3/11/2013</td>\n",
       "      <td>9304</td>\n",
       "      <td>255.28</td>\n",
       "      <td>159.42</td>\n",
       "    </tr>\n",
       "    <tr>\n",
       "      <th>9219</th>\n",
       "      <td>Sub-Saharan Africa</td>\n",
       "      <td>Zimbabwe</td>\n",
       "      <td>Clothes</td>\n",
       "      <td>H</td>\n",
       "      <td>6/9/2010</td>\n",
       "      <td>7/20/2010</td>\n",
       "      <td>3235</td>\n",
       "      <td>109.28</td>\n",
       "      <td>35.84</td>\n",
       "    </tr>\n",
       "    <tr>\n",
       "      <th>9541</th>\n",
       "      <td>Sub-Saharan Africa</td>\n",
       "      <td>Zimbabwe</td>\n",
       "      <td>Fruits</td>\n",
       "      <td>C</td>\n",
       "      <td>11/20/2015</td>\n",
       "      <td>11/27/2015</td>\n",
       "      <td>5904</td>\n",
       "      <td>9.33</td>\n",
       "      <td>6.92</td>\n",
       "    </tr>\n",
       "    <tr>\n",
       "      <th>9645</th>\n",
       "      <td>Sub-Saharan Africa</td>\n",
       "      <td>Zimbabwe</td>\n",
       "      <td>Cereal</td>\n",
       "      <td>H</td>\n",
       "      <td>2/15/2010</td>\n",
       "      <td>3/1/2010</td>\n",
       "      <td>7309</td>\n",
       "      <td>205.70</td>\n",
       "      <td>117.11</td>\n",
       "    </tr>\n",
       "  </tbody>\n",
       "</table>\n",
       "<p>10000 rows × 9 columns</p>\n",
       "</div>"
      ],
      "text/plain": [
       "                      권역          국가             상품종류 우선순위        주문일자  \\\n",
       "36                  Asia  Bangladesh    Personal Care    L  12/11/2016   \n",
       "246                 Asia  Bangladesh        Cosmetics    M   7/29/2010   \n",
       "446                 Asia  Bangladesh       Vegetables    C   4/28/2014   \n",
       "569                 Asia  Bangladesh           Cereal    L   6/22/2010   \n",
       "576                 Asia  Bangladesh  Office Supplies    H   3/20/2013   \n",
       "...                  ...         ...              ...  ...         ...   \n",
       "8747  Sub-Saharan Africa    Zimbabwe          Clothes    H  11/27/2013   \n",
       "9025  Sub-Saharan Africa    Zimbabwe        Baby Food    M   3/11/2013   \n",
       "9219  Sub-Saharan Africa    Zimbabwe          Clothes    H    6/9/2010   \n",
       "9541  Sub-Saharan Africa    Zimbabwe           Fruits    C  11/20/2015   \n",
       "9645  Sub-Saharan Africa    Zimbabwe           Cereal    H   2/15/2010   \n",
       "\n",
       "            발송일자  판매단위      단가      원가  \n",
       "36     1/13/2017  9420   81.73   56.67  \n",
       "246    9/11/2010   577  437.20  263.33  \n",
       "446     5/5/2014    34  154.06   90.93  \n",
       "569    6/28/2010  9768  205.70  117.11  \n",
       "576    4/11/2013  7731  651.21  524.96  \n",
       "...          ...   ...     ...     ...  \n",
       "8747    1/9/2014  8431  109.28   35.84  \n",
       "9025   3/11/2013  9304  255.28  159.42  \n",
       "9219   7/20/2010  3235  109.28   35.84  \n",
       "9541  11/27/2015  5904    9.33    6.92  \n",
       "9645    3/1/2010  7309  205.70  117.11  \n",
       "\n",
       "[10000 rows x 9 columns]"
      ]
     },
     "execution_count": 53,
     "metadata": {},
     "output_type": "execute_result"
    }
   ],
   "source": [
    "#오름차순 - 권역, 국가 기준\n",
    "\n",
    "# _sales.sort_values('권역', inplace = True)\n",
    "# _sales.sort_values('국가', inplace = True)\n",
    "\n",
    "_sales.sort_values(by=['권역','국가'], ascending = [True, True], inplace = True)\n",
    "\n",
    "_sales\n",
    "\n"
   ]
  },
  {
   "cell_type": "code",
   "execution_count": 55,
   "metadata": {},
   "outputs": [
    {
     "data": {
      "text/html": [
       "<div>\n",
       "<style scoped>\n",
       "    .dataframe tbody tr th:only-of-type {\n",
       "        vertical-align: middle;\n",
       "    }\n",
       "\n",
       "    .dataframe tbody tr th {\n",
       "        vertical-align: top;\n",
       "    }\n",
       "\n",
       "    .dataframe thead th {\n",
       "        text-align: right;\n",
       "    }\n",
       "</style>\n",
       "<table border=\"1\" class=\"dataframe\">\n",
       "  <thead>\n",
       "    <tr style=\"text-align: right;\">\n",
       "      <th></th>\n",
       "      <th>권역</th>\n",
       "      <th>국가</th>\n",
       "      <th>상품종류</th>\n",
       "      <th>우선순위</th>\n",
       "      <th>주문일자</th>\n",
       "      <th>발송일자</th>\n",
       "      <th>판매단위</th>\n",
       "      <th>단가</th>\n",
       "      <th>원가</th>\n",
       "    </tr>\n",
       "  </thead>\n",
       "  <tbody>\n",
       "    <tr>\n",
       "      <th>0</th>\n",
       "      <td>Asia</td>\n",
       "      <td>Bangladesh</td>\n",
       "      <td>Personal Care</td>\n",
       "      <td>L</td>\n",
       "      <td>12/11/2016</td>\n",
       "      <td>1/13/2017</td>\n",
       "      <td>9420</td>\n",
       "      <td>81.73</td>\n",
       "      <td>56.67</td>\n",
       "    </tr>\n",
       "    <tr>\n",
       "      <th>1</th>\n",
       "      <td>Asia</td>\n",
       "      <td>Bangladesh</td>\n",
       "      <td>Cosmetics</td>\n",
       "      <td>M</td>\n",
       "      <td>7/29/2010</td>\n",
       "      <td>9/11/2010</td>\n",
       "      <td>577</td>\n",
       "      <td>437.20</td>\n",
       "      <td>263.33</td>\n",
       "    </tr>\n",
       "    <tr>\n",
       "      <th>2</th>\n",
       "      <td>Asia</td>\n",
       "      <td>Bangladesh</td>\n",
       "      <td>Vegetables</td>\n",
       "      <td>C</td>\n",
       "      <td>4/28/2014</td>\n",
       "      <td>5/5/2014</td>\n",
       "      <td>34</td>\n",
       "      <td>154.06</td>\n",
       "      <td>90.93</td>\n",
       "    </tr>\n",
       "    <tr>\n",
       "      <th>3</th>\n",
       "      <td>Asia</td>\n",
       "      <td>Bangladesh</td>\n",
       "      <td>Cereal</td>\n",
       "      <td>L</td>\n",
       "      <td>6/22/2010</td>\n",
       "      <td>6/28/2010</td>\n",
       "      <td>9768</td>\n",
       "      <td>205.70</td>\n",
       "      <td>117.11</td>\n",
       "    </tr>\n",
       "    <tr>\n",
       "      <th>4</th>\n",
       "      <td>Asia</td>\n",
       "      <td>Bangladesh</td>\n",
       "      <td>Office Supplies</td>\n",
       "      <td>H</td>\n",
       "      <td>3/20/2013</td>\n",
       "      <td>4/11/2013</td>\n",
       "      <td>7731</td>\n",
       "      <td>651.21</td>\n",
       "      <td>524.96</td>\n",
       "    </tr>\n",
       "    <tr>\n",
       "      <th>...</th>\n",
       "      <td>...</td>\n",
       "      <td>...</td>\n",
       "      <td>...</td>\n",
       "      <td>...</td>\n",
       "      <td>...</td>\n",
       "      <td>...</td>\n",
       "      <td>...</td>\n",
       "      <td>...</td>\n",
       "      <td>...</td>\n",
       "    </tr>\n",
       "    <tr>\n",
       "      <th>9995</th>\n",
       "      <td>Sub-Saharan Africa</td>\n",
       "      <td>Zimbabwe</td>\n",
       "      <td>Clothes</td>\n",
       "      <td>H</td>\n",
       "      <td>11/27/2013</td>\n",
       "      <td>1/9/2014</td>\n",
       "      <td>8431</td>\n",
       "      <td>109.28</td>\n",
       "      <td>35.84</td>\n",
       "    </tr>\n",
       "    <tr>\n",
       "      <th>9996</th>\n",
       "      <td>Sub-Saharan Africa</td>\n",
       "      <td>Zimbabwe</td>\n",
       "      <td>Baby Food</td>\n",
       "      <td>M</td>\n",
       "      <td>3/11/2013</td>\n",
       "      <td>3/11/2013</td>\n",
       "      <td>9304</td>\n",
       "      <td>255.28</td>\n",
       "      <td>159.42</td>\n",
       "    </tr>\n",
       "    <tr>\n",
       "      <th>9997</th>\n",
       "      <td>Sub-Saharan Africa</td>\n",
       "      <td>Zimbabwe</td>\n",
       "      <td>Clothes</td>\n",
       "      <td>H</td>\n",
       "      <td>6/9/2010</td>\n",
       "      <td>7/20/2010</td>\n",
       "      <td>3235</td>\n",
       "      <td>109.28</td>\n",
       "      <td>35.84</td>\n",
       "    </tr>\n",
       "    <tr>\n",
       "      <th>9998</th>\n",
       "      <td>Sub-Saharan Africa</td>\n",
       "      <td>Zimbabwe</td>\n",
       "      <td>Fruits</td>\n",
       "      <td>C</td>\n",
       "      <td>11/20/2015</td>\n",
       "      <td>11/27/2015</td>\n",
       "      <td>5904</td>\n",
       "      <td>9.33</td>\n",
       "      <td>6.92</td>\n",
       "    </tr>\n",
       "    <tr>\n",
       "      <th>9999</th>\n",
       "      <td>Sub-Saharan Africa</td>\n",
       "      <td>Zimbabwe</td>\n",
       "      <td>Cereal</td>\n",
       "      <td>H</td>\n",
       "      <td>2/15/2010</td>\n",
       "      <td>3/1/2010</td>\n",
       "      <td>7309</td>\n",
       "      <td>205.70</td>\n",
       "      <td>117.11</td>\n",
       "    </tr>\n",
       "  </tbody>\n",
       "</table>\n",
       "<p>10000 rows × 9 columns</p>\n",
       "</div>"
      ],
      "text/plain": [
       "                      권역          국가             상품종류 우선순위        주문일자  \\\n",
       "0                   Asia  Bangladesh    Personal Care    L  12/11/2016   \n",
       "1                   Asia  Bangladesh        Cosmetics    M   7/29/2010   \n",
       "2                   Asia  Bangladesh       Vegetables    C   4/28/2014   \n",
       "3                   Asia  Bangladesh           Cereal    L   6/22/2010   \n",
       "4                   Asia  Bangladesh  Office Supplies    H   3/20/2013   \n",
       "...                  ...         ...              ...  ...         ...   \n",
       "9995  Sub-Saharan Africa    Zimbabwe          Clothes    H  11/27/2013   \n",
       "9996  Sub-Saharan Africa    Zimbabwe        Baby Food    M   3/11/2013   \n",
       "9997  Sub-Saharan Africa    Zimbabwe          Clothes    H    6/9/2010   \n",
       "9998  Sub-Saharan Africa    Zimbabwe           Fruits    C  11/20/2015   \n",
       "9999  Sub-Saharan Africa    Zimbabwe           Cereal    H   2/15/2010   \n",
       "\n",
       "            발송일자  판매단위      단가      원가  \n",
       "0      1/13/2017  9420   81.73   56.67  \n",
       "1      9/11/2010   577  437.20  263.33  \n",
       "2       5/5/2014    34  154.06   90.93  \n",
       "3      6/28/2010  9768  205.70  117.11  \n",
       "4      4/11/2013  7731  651.21  524.96  \n",
       "...          ...   ...     ...     ...  \n",
       "9995    1/9/2014  8431  109.28   35.84  \n",
       "9996   3/11/2013  9304  255.28  159.42  \n",
       "9997   7/20/2010  3235  109.28   35.84  \n",
       "9998  11/27/2015  5904    9.33    6.92  \n",
       "9999    3/1/2010  7309  205.70  117.11  \n",
       "\n",
       "[10000 rows x 9 columns]"
      ]
     },
     "execution_count": 55,
     "metadata": {},
     "output_type": "execute_result"
    }
   ],
   "source": [
    "# 인덱스 초기화\n",
    "\n",
    "_sales.reset_index(drop = True, inplace = True)\n",
    "_sales"
   ]
  },
  {
   "cell_type": "code",
   "execution_count": 34,
   "metadata": {},
   "outputs": [],
   "source": [
    "# Moon_sol\n",
    "# 파일로드 : 상위폴더 - csv - Sales Records.csv\n",
    "\n",
    "\n",
    "sales = pd.read_csv(\"../csv/Sales Records.csv\") "
   ]
  },
  {
   "cell_type": "code",
   "execution_count": 40,
   "metadata": {},
   "outputs": [],
   "source": [
    "# 하나씩 컬럼 지우기 \n",
    "\n",
    "sales = sales.drop('Order ID', axis = 1)"
   ]
  },
  {
   "cell_type": "code",
   "execution_count": 44,
   "metadata": {},
   "outputs": [],
   "source": [
    "# 나머지 4개 컬럼은 동시에 지워보자\n",
    "# 여러 원소를 하나의 매개변수로 집어넣어서 axis = 1을 하나에 적용\n",
    "# 물론 그 하나에 여러 원소가 들어가있어서 일괄 적용 \n",
    "\n",
    "sales.drop(['Sales Channel',\n",
    "             'Total Revenue',\n",
    "               'Total Cost',\n",
    "                 'Total Profit'], axis = 1, inplace = True)"
   ]
  },
  {
   "cell_type": "code",
   "execution_count": 46,
   "metadata": {},
   "outputs": [],
   "source": [
    "#컬럼 이름 바꾸기\n",
    "#sales.columns : sales라는 클래쓰의 컬럼이라는 변수 \n",
    "\n",
    "sales.columns = ['권역', '국가', '상품종류', '우선순위', '주문일자', '발송일자', '판매단위', '단가', '원가']\n"
   ]
  },
  {
   "cell_type": "code",
   "execution_count": 49,
   "metadata": {},
   "outputs": [],
   "source": [
    "# 권역, 국가를 기준으로 오름차순 정렬\n",
    "\n",
    "sales.sort_values(['권역', '국가'], inplace = True)"
   ]
  },
  {
   "cell_type": "code",
   "execution_count": 52,
   "metadata": {},
   "outputs": [],
   "source": [
    "# 인덱스 초기화 후 기존 인덱스 삭제\n",
    "\n",
    "sales.reset_index(drop = True, inplace = True)"
   ]
  },
  {
   "attachments": {},
   "cell_type": "markdown",
   "metadata": {},
   "source": [
    "- new 파생 변수 생성\n",
    "    1. 총단가 = 판매단위 * 단가\n",
    "    2. 총원가 = 판매단위 * 원가\n",
    "    3. 총이윤 = 총단가 - 총원가 \n",
    "     "
   ]
  },
  {
   "cell_type": "code",
   "execution_count": 58,
   "metadata": {},
   "outputs": [],
   "source": [
    "# 스리즈 곱하기 스리즈 = 스리즈\n",
    "sales['총단가'] = sales['판매단위'] * sales['단가']"
   ]
  },
  {
   "cell_type": "code",
   "execution_count": 59,
   "metadata": {},
   "outputs": [],
   "source": [
    "sales['총원가'] = sales['판매단위'] * sales['원가']"
   ]
  },
  {
   "cell_type": "code",
   "execution_count": 60,
   "metadata": {},
   "outputs": [],
   "source": [
    "# 총이윤 = 총단가 - 총원가\n",
    "\n",
    "sales['총이윤'] = sales['총단가'] - sales['총원가']"
   ]
  },
  {
   "cell_type": "code",
   "execution_count": 61,
   "metadata": {},
   "outputs": [
    {
     "data": {
      "text/html": [
       "<div>\n",
       "<style scoped>\n",
       "    .dataframe tbody tr th:only-of-type {\n",
       "        vertical-align: middle;\n",
       "    }\n",
       "\n",
       "    .dataframe tbody tr th {\n",
       "        vertical-align: top;\n",
       "    }\n",
       "\n",
       "    .dataframe thead th {\n",
       "        text-align: right;\n",
       "    }\n",
       "</style>\n",
       "<table border=\"1\" class=\"dataframe\">\n",
       "  <thead>\n",
       "    <tr style=\"text-align: right;\">\n",
       "      <th></th>\n",
       "      <th>권역</th>\n",
       "      <th>국가</th>\n",
       "      <th>상품종류</th>\n",
       "      <th>우선순위</th>\n",
       "      <th>주문일자</th>\n",
       "      <th>발송일자</th>\n",
       "      <th>판매단위</th>\n",
       "      <th>단가</th>\n",
       "      <th>원가</th>\n",
       "      <th>총단가</th>\n",
       "      <th>총원가</th>\n",
       "      <th>총이윤</th>\n",
       "    </tr>\n",
       "  </thead>\n",
       "  <tbody>\n",
       "    <tr>\n",
       "      <th>9995</th>\n",
       "      <td>Sub-Saharan Africa</td>\n",
       "      <td>Zimbabwe</td>\n",
       "      <td>Clothes</td>\n",
       "      <td>H</td>\n",
       "      <td>11/27/2013</td>\n",
       "      <td>1/9/2014</td>\n",
       "      <td>8431</td>\n",
       "      <td>109.28</td>\n",
       "      <td>35.84</td>\n",
       "      <td>921339.68</td>\n",
       "      <td>302167.04</td>\n",
       "      <td>619172.64</td>\n",
       "    </tr>\n",
       "    <tr>\n",
       "      <th>9996</th>\n",
       "      <td>Sub-Saharan Africa</td>\n",
       "      <td>Zimbabwe</td>\n",
       "      <td>Baby Food</td>\n",
       "      <td>M</td>\n",
       "      <td>3/11/2013</td>\n",
       "      <td>3/11/2013</td>\n",
       "      <td>9304</td>\n",
       "      <td>255.28</td>\n",
       "      <td>159.42</td>\n",
       "      <td>2375125.12</td>\n",
       "      <td>1483243.68</td>\n",
       "      <td>891881.44</td>\n",
       "    </tr>\n",
       "    <tr>\n",
       "      <th>9997</th>\n",
       "      <td>Sub-Saharan Africa</td>\n",
       "      <td>Zimbabwe</td>\n",
       "      <td>Clothes</td>\n",
       "      <td>H</td>\n",
       "      <td>6/9/2010</td>\n",
       "      <td>7/20/2010</td>\n",
       "      <td>3235</td>\n",
       "      <td>109.28</td>\n",
       "      <td>35.84</td>\n",
       "      <td>353520.80</td>\n",
       "      <td>115942.40</td>\n",
       "      <td>237578.40</td>\n",
       "    </tr>\n",
       "    <tr>\n",
       "      <th>9998</th>\n",
       "      <td>Sub-Saharan Africa</td>\n",
       "      <td>Zimbabwe</td>\n",
       "      <td>Fruits</td>\n",
       "      <td>C</td>\n",
       "      <td>11/20/2015</td>\n",
       "      <td>11/27/2015</td>\n",
       "      <td>5904</td>\n",
       "      <td>9.33</td>\n",
       "      <td>6.92</td>\n",
       "      <td>55084.32</td>\n",
       "      <td>40855.68</td>\n",
       "      <td>14228.64</td>\n",
       "    </tr>\n",
       "    <tr>\n",
       "      <th>9999</th>\n",
       "      <td>Sub-Saharan Africa</td>\n",
       "      <td>Zimbabwe</td>\n",
       "      <td>Cereal</td>\n",
       "      <td>H</td>\n",
       "      <td>2/15/2010</td>\n",
       "      <td>3/1/2010</td>\n",
       "      <td>7309</td>\n",
       "      <td>205.70</td>\n",
       "      <td>117.11</td>\n",
       "      <td>1503461.30</td>\n",
       "      <td>855956.99</td>\n",
       "      <td>647504.31</td>\n",
       "    </tr>\n",
       "  </tbody>\n",
       "</table>\n",
       "</div>"
      ],
      "text/plain": [
       "                      권역        국가       상품종류 우선순위        주문일자        발송일자  \\\n",
       "9995  Sub-Saharan Africa  Zimbabwe    Clothes    H  11/27/2013    1/9/2014   \n",
       "9996  Sub-Saharan Africa  Zimbabwe  Baby Food    M   3/11/2013   3/11/2013   \n",
       "9997  Sub-Saharan Africa  Zimbabwe    Clothes    H    6/9/2010   7/20/2010   \n",
       "9998  Sub-Saharan Africa  Zimbabwe     Fruits    C  11/20/2015  11/27/2015   \n",
       "9999  Sub-Saharan Africa  Zimbabwe     Cereal    H   2/15/2010    3/1/2010   \n",
       "\n",
       "      판매단위      단가      원가         총단가         총원가        총이윤  \n",
       "9995  8431  109.28   35.84   921339.68   302167.04  619172.64  \n",
       "9996  9304  255.28  159.42  2375125.12  1483243.68  891881.44  \n",
       "9997  3235  109.28   35.84   353520.80   115942.40  237578.40  \n",
       "9998  5904    9.33    6.92    55084.32    40855.68   14228.64  \n",
       "9999  7309  205.70  117.11  1503461.30   855956.99  647504.31  "
      ]
     },
     "execution_count": 61,
     "metadata": {},
     "output_type": "execute_result"
    }
   ],
   "source": [
    "sales.tail(5)"
   ]
  },
  {
   "cell_type": "code",
   "execution_count": 66,
   "metadata": {},
   "outputs": [
    {
     "data": {
      "text/plain": [
       "Index(['Lithuania', 'United Kingdom', 'Moldova ', 'Croatia', 'Seychelles ',\n",
       "       'Botswana', 'Montenegro', 'Kiribati', 'Malawi', 'Canada',\n",
       "       ...\n",
       "       'Eritrea', 'Belize', 'Cape Verde', 'Belgium', 'Nicaragua', 'Slovakia',\n",
       "       'Greenland', 'Tajikistan', 'Saint Lucia', 'Mali'],\n",
       "      dtype='object', length=185)"
      ]
     },
     "execution_count": 66,
     "metadata": {},
     "output_type": "execute_result"
    }
   ],
   "source": [
    "# 국가 컬럼의 데이터가 항목들의 카운트를 출력하는 함수\n",
    "\n",
    "sales['국가'].value_counts().index"
   ]
  },
  {
   "cell_type": "code",
   "execution_count": 77,
   "metadata": {},
   "outputs": [],
   "source": [
    "_list = sales['국가'].unique()   # unipue 라는 함수 : 배열이나 series에서 중복되지 않는 고유한 값을 추출 "
   ]
  },
  {
   "cell_type": "code",
   "execution_count": 78,
   "metadata": {},
   "outputs": [
    {
     "data": {
      "text/plain": [
       "23893933.75"
      ]
     },
     "execution_count": 78,
     "metadata": {},
     "output_type": "execute_result"
    }
   ],
   "source": [
    "# 국가 하나를 선택 후, 그 국가의 총이윤의 합계\n",
    "\n",
    "\n",
    "# sales.loc[sales['국가'] == 'South Korea', '총이윤']\n",
    "\n",
    "sales.loc[sales['국가'] == 'South Korea'] ['총이윤'].sum()"
   ]
  },
  {
   "cell_type": "code",
   "execution_count": 79,
   "metadata": {},
   "outputs": [],
   "source": [
    "profit_list ={}   # 반복문 위해 초기값을 설정 \n",
    "\n",
    "\n",
    "for i in _list : \n",
    "\n",
    "    #총이윤의 합계 \n",
    "    total_profit = sales.loc[sales['국가']== i ]['총이윤'].sum()\n",
    "    profit_list[i] = total_profit"
   ]
  },
  {
   "cell_type": "code",
   "execution_count": 81,
   "metadata": {},
   "outputs": [
    {
     "data": {
      "text/plain": [
       "Kiribati      32454798.26\n",
       "Qatar         30861356.79\n",
       "Grenada       30302769.90\n",
       "Taiwan        30044779.98\n",
       "Malawi        29329125.05\n",
       "                 ...     \n",
       "Cape Verde    14383303.52\n",
       "Italy         14199991.25\n",
       "Malta         14163744.55\n",
       "Mali          13800334.90\n",
       "Tajikistan    13662027.26\n",
       "Length: 185, dtype: float64"
      ]
     },
     "execution_count": 81,
     "metadata": {},
     "output_type": "execute_result"
    }
   ],
   "source": [
    "pd.Series(profit_list).sort_values(ascending = False)"
   ]
  },
  {
   "cell_type": "code",
   "execution_count": 89,
   "metadata": {},
   "outputs": [
    {
     "data": {
      "text/plain": [
       "dict_values([28092720.770000003, 23833769.239999995, 21198560.200000003, 23744162.89, 24708015.720000003, 24289892.460000005, 16010222.29, 18574894.88, 23265602.749999996, 22736962.389999997, 18775038.479999997, 16015753.2, 22027274.19, 25107838.949999996, 18948513.110000003, 16677397.509999998, 22062373.05, 24616126.67, 14709325.91, 23893933.75, 22393764.24, 30044779.98, 13662027.260000002, 20707529.619999997, 22995182.160000004, 24896258.16, 23415377.02, 22393836.8, 15514056.290000001, 24231292.529999997, 23738722.65, 32454798.259999998, 17438109.330000002, 18646871.84, 25895477.039999995, 23894809.949999996, 22083108.349999998, 19499628.09, 17814961.649999995, 17229813.759999998, 23279592.0, 19956132.869999997, 17792979.410000004, 19091685.05, 14384763.7, 18931889.28, 17888775.8, 19953536.129999995, 18082348.470000003, 26661333.33, 30302769.9, 22478915.509999998, 20239742.029999994, 23919286.869999997, 19610345.959999997, 17843364.299999997, 22253481.509999998, 23055279.040000007, 16973452.63, 18375321.24, 17012150.990000002, 18506428.57, 19583969.700000003, 16653936.870000001, 15509887.290000001, 26799045.64, 18612786.01, 19992722.34, 24070486.579999994, 20787888.73, 26096999.840000004, 21441456.669999994, 19679058.240000006, 23120649.29, 19139460.849999998, 23066495.2, 19199104.959999993, 21670883.449999996, 25249874.359999996, 25308983.419999998, 15943684.1, 26554631.849999998, 27807805.050000004, 14199991.249999996, 20595410.25, 17878505.86, 23301377.830000002, 28063374.019999996, 21219788.11, 20092232.369999997, 14163744.549999999, 25700896.769999996, 17391076.44, 22082815.770000007, 23340250.869999997, 18836470.189999998, 22846126.09, 25449810.79, 21184881.839999996, 24860366.229999997, 18369190.229999997, 23310104.509999998, 20322490.05, 22158888.66, 20406015.35, 18874303.51, 22497403.849999998, 21057819.959999997, 25528037.97, 16978429.04, 22977020.059999995, 22125886.639999997, 25826707.999999996, 27517228.199999996, 24253082.98, 24141593.919999998, 19631817.380000003, 21072528.91, 21165744.029999997, 24806422.689999998, 20381122.180000003, 18622683.36, 26827648.119999997, 18611356.62, 19728342.380000003, 30861356.79, 21007766.990000002, 23285546.1, 14536103.719999999, 26189597.159999996, 15019621.170000002, 24667842.060000002, 16666875.070000002, 26880954.799999997, 21588001.479999997, 24491787.4, 26534771.439999998, 19596150.58, 22273920.68, 29019726.669999998, 23363130.599999998, 27911293.449999996, 19125131.249999996, 14383303.520000001, 18990655.55, 22863353.099999998, 17670491.47, 14521698.84, 20433705.790000003, 18127339.099999998, 15561670.410000002, 20805875.41, 26936729.400000002, 17988031.400000006, 21031887.89, 21702071.21, 23049675.020000003, 20805944.22, 16821465.939999998, 15406339.429999998, 21260893.289999995, 29329125.05, 13800334.9, 17659556.279999997, 19702913.750000004, 20902729.009999998, 16774838.75, 22306185.25, 24139351.98, 16694580.900000002, 27726111.499999996, 14810451.219999999, 24776094.02, 23695801.12, 19665083.039999995, 18511026.569999997, 21193783.380000003, 22945568.529999997, 25107661.700000003, 21152258.929999992, 18318875.150000002, 20026536.18, 25940655.31, 23637453.000000004, 21174631.759999998])"
      ]
     },
     "execution_count": 89,
     "metadata": {},
     "output_type": "execute_result"
    }
   ],
   "source": [
    "profit_list.values()"
   ]
  },
  {
   "cell_type": "code",
   "execution_count": 90,
   "metadata": {},
   "outputs": [
    {
     "data": {
      "text/plain": [
       "dict_keys(['Bangladesh', 'Bhutan', 'Brunei', 'Cambodia', 'China', 'India', 'Indonesia', 'Japan', 'Kazakhstan', 'Kyrgyzstan', 'Laos', 'Malaysia', 'Maldives', 'Mongolia', 'Myanmar', 'Nepal', 'North Korea', 'Philippines', 'Singapore', 'South Korea', 'Sri Lanka', 'Taiwan', 'Tajikistan', 'Thailand', 'Turkmenistan', 'Uzbekistan', 'Vietnam', 'Australia', 'East Timor', 'Federated States of Micronesia', 'Fiji', 'Kiribati', 'Marshall Islands', 'Nauru', 'New Zealand', 'Palau', 'Papua New Guinea', 'Samoa ', 'Solomon Islands', 'Tonga', 'Tuvalu', 'Vanuatu', 'Antigua and Barbuda ', 'Barbados', 'Belize', 'Costa Rica', 'Cuba', 'Dominica', 'Dominican Republic', 'El Salvador', 'Grenada', 'Guatemala', 'Haiti', 'Honduras', 'Jamaica', 'Nicaragua', 'Panama', 'Saint Kitts and Nevis ', 'Saint Lucia', 'Saint Vincent and the Grenadines', 'The Bahamas', 'Trinidad and Tobago', 'Albania', 'Andorra', 'Armenia', 'Austria', 'Belarus', 'Belgium', 'Bosnia and Herzegovina', 'Bulgaria', 'Croatia', 'Cyprus', 'Czech Republic', 'Denmark', 'Estonia', 'Finland', 'France', 'Georgia', 'Germany', 'Greece', 'Hungary', 'Iceland', 'Ireland', 'Italy', 'Kosovo', 'Latvia', 'Liechtenstein', 'Lithuania', 'Luxembourg', 'Macedonia', 'Malta', 'Moldova ', 'Monaco', 'Montenegro', 'Netherlands', 'Norway', 'Poland', 'Portugal', 'Romania', 'Russia', 'San Marino', 'Serbia', 'Slovakia', 'Slovenia', 'Spain', 'Sweden', 'Switzerland', 'Ukraine', 'United Kingdom', 'Vatican City', 'Afghanistan', 'Algeria', 'Azerbaijan', 'Bahrain', 'Egypt', 'Iran', 'Iraq', 'Israel', 'Jordan', 'Kuwait', 'Lebanon', 'Libya', 'Morocco', 'Oman', 'Pakistan', 'Qatar', 'Saudi Arabia', 'Somalia', 'Syria', 'Tunisia ', 'Turkey', 'United Arab Emirates', 'Yemen', 'Canada', 'Greenland', 'Mexico', 'United States of America', 'Angola', 'Benin', 'Botswana', 'Burkina Faso', 'Burundi', 'Cameroon', 'Cape Verde', 'Central African Republic', 'Chad', 'Comoros', \"Cote d'Ivoire\", 'Democratic Republic of the Congo', 'Djibouti', 'Equatorial Guinea', 'Eritrea', 'Ethiopia', 'Gabon', 'Ghana', 'Guinea', 'Guinea-Bissau', 'Kenya', 'Lesotho', 'Liberia', 'Madagascar', 'Malawi', 'Mali', 'Mauritania', 'Mauritius ', 'Mozambique', 'Namibia', 'Niger', 'Nigeria', 'Republic of the Congo', 'Rwanda', 'Sao Tome and Principe', 'Senegal', 'Seychelles ', 'Sierra Leone', 'South Africa', 'South Sudan', 'Sudan', 'Swaziland', 'Tanzania', 'The Gambia', 'Togo', 'Uganda', 'Zambia', 'Zimbabwe'])"
      ]
     },
     "execution_count": 90,
     "metadata": {},
     "output_type": "execute_result"
    }
   ],
   "source": [
    "profit_list.keys()"
   ]
  },
  {
   "cell_type": "code",
   "execution_count": 91,
   "metadata": {},
   "outputs": [
    {
     "data": {
      "text/html": [
       "<div>\n",
       "<style scoped>\n",
       "    .dataframe tbody tr th:only-of-type {\n",
       "        vertical-align: middle;\n",
       "    }\n",
       "\n",
       "    .dataframe tbody tr th {\n",
       "        vertical-align: top;\n",
       "    }\n",
       "\n",
       "    .dataframe thead th {\n",
       "        text-align: right;\n",
       "    }\n",
       "</style>\n",
       "<table border=\"1\" class=\"dataframe\">\n",
       "  <thead>\n",
       "    <tr style=\"text-align: right;\">\n",
       "      <th></th>\n",
       "      <th>SUM</th>\n",
       "    </tr>\n",
       "  </thead>\n",
       "  <tbody>\n",
       "    <tr>\n",
       "      <th>Bangladesh</th>\n",
       "      <td>28092720.77</td>\n",
       "    </tr>\n",
       "    <tr>\n",
       "      <th>Bhutan</th>\n",
       "      <td>23833769.24</td>\n",
       "    </tr>\n",
       "    <tr>\n",
       "      <th>Brunei</th>\n",
       "      <td>21198560.20</td>\n",
       "    </tr>\n",
       "    <tr>\n",
       "      <th>Cambodia</th>\n",
       "      <td>23744162.89</td>\n",
       "    </tr>\n",
       "    <tr>\n",
       "      <th>China</th>\n",
       "      <td>24708015.72</td>\n",
       "    </tr>\n",
       "    <tr>\n",
       "      <th>...</th>\n",
       "      <td>...</td>\n",
       "    </tr>\n",
       "    <tr>\n",
       "      <th>The Gambia</th>\n",
       "      <td>18318875.15</td>\n",
       "    </tr>\n",
       "    <tr>\n",
       "      <th>Togo</th>\n",
       "      <td>20026536.18</td>\n",
       "    </tr>\n",
       "    <tr>\n",
       "      <th>Uganda</th>\n",
       "      <td>25940655.31</td>\n",
       "    </tr>\n",
       "    <tr>\n",
       "      <th>Zambia</th>\n",
       "      <td>23637453.00</td>\n",
       "    </tr>\n",
       "    <tr>\n",
       "      <th>Zimbabwe</th>\n",
       "      <td>21174631.76</td>\n",
       "    </tr>\n",
       "  </tbody>\n",
       "</table>\n",
       "<p>185 rows × 1 columns</p>\n",
       "</div>"
      ],
      "text/plain": [
       "                    SUM\n",
       "Bangladesh  28092720.77\n",
       "Bhutan      23833769.24\n",
       "Brunei      21198560.20\n",
       "Cambodia    23744162.89\n",
       "China       24708015.72\n",
       "...                 ...\n",
       "The Gambia  18318875.15\n",
       "Togo        20026536.18\n",
       "Uganda      25940655.31\n",
       "Zambia      23637453.00\n",
       "Zimbabwe    21174631.76\n",
       "\n",
       "[185 rows x 1 columns]"
      ]
     },
     "execution_count": 91,
     "metadata": {},
     "output_type": "execute_result"
    }
   ],
   "source": [
    "pd.DataFrame(profit_list.values(), \n",
    "             profit_list.keys(), \n",
    "             columns = ['SUM'])"
   ]
  },
  {
   "cell_type": "code",
   "execution_count": 97,
   "metadata": {},
   "outputs": [
    {
     "name": "stderr",
     "output_type": "stream",
     "text": [
      "C:\\Users\\zino0\\AppData\\Local\\Temp\\ipykernel_23316\\2117614192.py:8: FutureWarning: The default value of numeric_only in DataFrameGroupBy.sum is deprecated. In a future version, numeric_only will default to False. Either specify numeric_only or select only columns which should be valid for the function.\n",
      "  group_data = sales.groupby(['권역','국가']).sum() # 멀티 인덱스 2개\n"
     ]
    }
   ],
   "source": [
    "# 그룹화 함수\n",
    "\n",
    "# groupby() : \n",
    "\n",
    "# 인자값 : 특정 컬럼을 지정 - 어떤 컬럼을 가지고 그룹화 할거야?\n",
    "\n",
    "# sales.groupby('국가').sum() #국가의 values들 중 숫자(int, float)들만 더해져  # 여기까지는 단일 index, 단일 column\n",
    "\n",
    "group_data = sales.groupby(['권역','국가']).sum() # 멀티 인덱스 2개"
   ]
  },
  {
   "cell_type": "code",
   "execution_count": 99,
   "metadata": {},
   "outputs": [
    {
     "data": {
      "text/plain": [
       "MultiIndex([(              'Asia',   'Bangladesh'),\n",
       "            (              'Asia',       'Bhutan'),\n",
       "            (              'Asia',       'Brunei'),\n",
       "            (              'Asia',     'Cambodia'),\n",
       "            (              'Asia',        'China'),\n",
       "            (              'Asia',        'India'),\n",
       "            (              'Asia',    'Indonesia'),\n",
       "            (              'Asia',        'Japan'),\n",
       "            (              'Asia',   'Kazakhstan'),\n",
       "            (              'Asia',   'Kyrgyzstan'),\n",
       "            ...\n",
       "            ('Sub-Saharan Africa', 'South Africa'),\n",
       "            ('Sub-Saharan Africa',  'South Sudan'),\n",
       "            ('Sub-Saharan Africa',        'Sudan'),\n",
       "            ('Sub-Saharan Africa',    'Swaziland'),\n",
       "            ('Sub-Saharan Africa',     'Tanzania'),\n",
       "            ('Sub-Saharan Africa',   'The Gambia'),\n",
       "            ('Sub-Saharan Africa',         'Togo'),\n",
       "            ('Sub-Saharan Africa',       'Uganda'),\n",
       "            ('Sub-Saharan Africa',       'Zambia'),\n",
       "            ('Sub-Saharan Africa',     'Zimbabwe')],\n",
       "           names=['권역', '국가'], length=185)"
      ]
     },
     "execution_count": 99,
     "metadata": {},
     "output_type": "execute_result"
    }
   ],
   "source": [
    "group_data.index  # 멀티 인덱스 되니까 리스트 안에 튜플의 형태 즉, 2차원 배열\n"
   ]
  },
  {
   "cell_type": "code",
   "execution_count": 103,
   "metadata": {},
   "outputs": [
    {
     "data": {
      "text/plain": [
       "판매단위      319921.00\n",
       "단가         17190.51\n",
       "원가         12337.75\n",
       "총단가     88488084.46\n",
       "총원가     64594150.71\n",
       "총이윤     23893933.75\n",
       "Name: (Asia, South Korea), dtype: float64"
      ]
     },
     "execution_count": 103,
     "metadata": {},
     "output_type": "execute_result"
    }
   ],
   "source": [
    "# group_data에서 한국의 데이터만 출력하려면? \n",
    "\n",
    "# sales.loc[1]\n",
    "group_data.loc[('Asia', 'South Korea')] # 인덱스의 형태가 튜플이기때문에, 인덱스 형태에 맞게 불러와줘야해 "
   ]
  },
  {
   "attachments": {},
   "cell_type": "markdown",
   "metadata": {},
   "source": [
    "### sales에서 상품의 종류에 따라 총 이윤이 가장 높은 물건은 무엇일까요?\n",
    "    1. sales 데이터에서 그룹화 진행 -> 그룹조건: 상품종류\n",
    "    2. 그룹화된 데이터에서 총 이윤이라는 컬럼의 데이터의 평균을 출력\n",
    "    3. 총이윤의 평균값을 기준으로 내림차순 정렬 \n",
    "    4. ?????"
   ]
  },
  {
   "cell_type": "code",
   "execution_count": 111,
   "metadata": {},
   "outputs": [
    {
     "name": "stderr",
     "output_type": "stream",
     "text": [
      "C:\\Users\\zino0\\AppData\\Local\\Temp\\ipykernel_23316\\3407296442.py:1: FutureWarning: The default value of numeric_only in DataFrameGroupBy.mean is deprecated. In a future version, numeric_only will default to False. Either specify numeric_only or select only columns which should be valid for the function.\n",
      "  _type_group = sales.groupby('상품종류').mean()\n"
     ]
    },
    {
     "data": {
      "text/html": [
       "<div>\n",
       "<style scoped>\n",
       "    .dataframe tbody tr th:only-of-type {\n",
       "        vertical-align: middle;\n",
       "    }\n",
       "\n",
       "    .dataframe tbody tr th {\n",
       "        vertical-align: top;\n",
       "    }\n",
       "\n",
       "    .dataframe thead th {\n",
       "        text-align: right;\n",
       "    }\n",
       "</style>\n",
       "<table border=\"1\" class=\"dataframe\">\n",
       "  <thead>\n",
       "    <tr style=\"text-align: right;\">\n",
       "      <th></th>\n",
       "      <th>판매단위</th>\n",
       "      <th>단가</th>\n",
       "      <th>원가</th>\n",
       "      <th>총단가</th>\n",
       "      <th>총원가</th>\n",
       "      <th>총이윤</th>\n",
       "    </tr>\n",
       "    <tr>\n",
       "      <th>상품종류</th>\n",
       "      <th></th>\n",
       "      <th></th>\n",
       "      <th></th>\n",
       "      <th></th>\n",
       "      <th></th>\n",
       "      <th></th>\n",
       "    </tr>\n",
       "  </thead>\n",
       "  <tbody>\n",
       "    <tr>\n",
       "      <th>Baby Food</th>\n",
       "      <td>4984.567696</td>\n",
       "      <td>255.28</td>\n",
       "      <td>159.42</td>\n",
       "      <td>1.272460e+06</td>\n",
       "      <td>7.946398e+05</td>\n",
       "      <td>477820.659335</td>\n",
       "    </tr>\n",
       "    <tr>\n",
       "      <th>Beverages</th>\n",
       "      <td>5000.557545</td>\n",
       "      <td>47.45</td>\n",
       "      <td>31.79</td>\n",
       "      <td>2.372765e+05</td>\n",
       "      <td>1.589677e+05</td>\n",
       "      <td>78308.731151</td>\n",
       "    </tr>\n",
       "    <tr>\n",
       "      <th>Cereal</th>\n",
       "      <td>5095.023030</td>\n",
       "      <td>205.70</td>\n",
       "      <td>117.11</td>\n",
       "      <td>1.048046e+06</td>\n",
       "      <td>5.966781e+05</td>\n",
       "      <td>451368.090255</td>\n",
       "    </tr>\n",
       "    <tr>\n",
       "      <th>Clothes</th>\n",
       "      <td>4991.227064</td>\n",
       "      <td>109.28</td>\n",
       "      <td>35.84</td>\n",
       "      <td>5.454413e+05</td>\n",
       "      <td>1.788856e+05</td>\n",
       "      <td>366555.715596</td>\n",
       "    </tr>\n",
       "    <tr>\n",
       "      <th>Cosmetics</th>\n",
       "      <td>4920.011990</td>\n",
       "      <td>437.20</td>\n",
       "      <td>263.33</td>\n",
       "      <td>2.151029e+06</td>\n",
       "      <td>1.295587e+06</td>\n",
       "      <td>855442.484772</td>\n",
       "    </tr>\n",
       "    <tr>\n",
       "      <th>Fruits</th>\n",
       "      <td>5101.787421</td>\n",
       "      <td>9.33</td>\n",
       "      <td>6.92</td>\n",
       "      <td>4.759968e+04</td>\n",
       "      <td>3.530437e+04</td>\n",
       "      <td>12295.307686</td>\n",
       "    </tr>\n",
       "    <tr>\n",
       "      <th>Household</th>\n",
       "      <td>4956.346286</td>\n",
       "      <td>668.27</td>\n",
       "      <td>502.54</td>\n",
       "      <td>3.312178e+06</td>\n",
       "      <td>2.490762e+06</td>\n",
       "      <td>821415.269931</td>\n",
       "    </tr>\n",
       "    <tr>\n",
       "      <th>Meat</th>\n",
       "      <td>4994.223058</td>\n",
       "      <td>421.89</td>\n",
       "      <td>364.69</td>\n",
       "      <td>2.107013e+06</td>\n",
       "      <td>1.821343e+06</td>\n",
       "      <td>285669.558897</td>\n",
       "    </tr>\n",
       "    <tr>\n",
       "      <th>Office Supplies</th>\n",
       "      <td>4922.655914</td>\n",
       "      <td>651.21</td>\n",
       "      <td>524.96</td>\n",
       "      <td>3.205683e+06</td>\n",
       "      <td>2.584197e+06</td>\n",
       "      <td>621485.309140</td>\n",
       "    </tr>\n",
       "    <tr>\n",
       "      <th>Personal Care</th>\n",
       "      <td>4958.138514</td>\n",
       "      <td>81.73</td>\n",
       "      <td>56.67</td>\n",
       "      <td>4.052287e+05</td>\n",
       "      <td>2.809777e+05</td>\n",
       "      <td>124250.951149</td>\n",
       "    </tr>\n",
       "    <tr>\n",
       "      <th>Snacks</th>\n",
       "      <td>5052.427696</td>\n",
       "      <td>152.58</td>\n",
       "      <td>97.44</td>\n",
       "      <td>7.708994e+05</td>\n",
       "      <td>4.923086e+05</td>\n",
       "      <td>278590.863162</td>\n",
       "    </tr>\n",
       "    <tr>\n",
       "      <th>Vegetables</th>\n",
       "      <td>5069.495215</td>\n",
       "      <td>154.06</td>\n",
       "      <td>90.93</td>\n",
       "      <td>7.810064e+05</td>\n",
       "      <td>4.609692e+05</td>\n",
       "      <td>320037.232943</td>\n",
       "    </tr>\n",
       "  </tbody>\n",
       "</table>\n",
       "</div>"
      ],
      "text/plain": [
       "                        판매단위      단가      원가           총단가           총원가  \\\n",
       "상품종류                                                                       \n",
       "Baby Food        4984.567696  255.28  159.42  1.272460e+06  7.946398e+05   \n",
       "Beverages        5000.557545   47.45   31.79  2.372765e+05  1.589677e+05   \n",
       "Cereal           5095.023030  205.70  117.11  1.048046e+06  5.966781e+05   \n",
       "Clothes          4991.227064  109.28   35.84  5.454413e+05  1.788856e+05   \n",
       "Cosmetics        4920.011990  437.20  263.33  2.151029e+06  1.295587e+06   \n",
       "Fruits           5101.787421    9.33    6.92  4.759968e+04  3.530437e+04   \n",
       "Household        4956.346286  668.27  502.54  3.312178e+06  2.490762e+06   \n",
       "Meat             4994.223058  421.89  364.69  2.107013e+06  1.821343e+06   \n",
       "Office Supplies  4922.655914  651.21  524.96  3.205683e+06  2.584197e+06   \n",
       "Personal Care    4958.138514   81.73   56.67  4.052287e+05  2.809777e+05   \n",
       "Snacks           5052.427696  152.58   97.44  7.708994e+05  4.923086e+05   \n",
       "Vegetables       5069.495215  154.06   90.93  7.810064e+05  4.609692e+05   \n",
       "\n",
       "                           총이윤  \n",
       "상품종류                            \n",
       "Baby Food        477820.659335  \n",
       "Beverages         78308.731151  \n",
       "Cereal           451368.090255  \n",
       "Clothes          366555.715596  \n",
       "Cosmetics        855442.484772  \n",
       "Fruits            12295.307686  \n",
       "Household        821415.269931  \n",
       "Meat             285669.558897  \n",
       "Office Supplies  621485.309140  \n",
       "Personal Care    124250.951149  \n",
       "Snacks           278590.863162  \n",
       "Vegetables       320037.232943  "
      ]
     },
     "execution_count": 111,
     "metadata": {},
     "output_type": "execute_result"
    }
   ],
   "source": [
    "_type_group = sales.groupby('상품종류').mean()\n",
    "\n",
    "_type_group"
   ]
  },
  {
   "cell_type": "code",
   "execution_count": 112,
   "metadata": {},
   "outputs": [
    {
     "data": {
      "text/plain": [
       "Index(['Baby Food', 'Beverages', 'Cereal', 'Clothes', 'Cosmetics', 'Fruits',\n",
       "       'Household', 'Meat', 'Office Supplies', 'Personal Care', 'Snacks',\n",
       "       'Vegetables'],\n",
       "      dtype='object', name='상품종류')"
      ]
     },
     "execution_count": 112,
     "metadata": {},
     "output_type": "execute_result"
    }
   ],
   "source": [
    "_type_group.index"
   ]
  },
  {
   "cell_type": "code",
   "execution_count": 115,
   "metadata": {},
   "outputs": [
    {
     "data": {
      "text/plain": [
       "상품종류\n",
       "Baby Food          477820.659335\n",
       "Beverages           78308.731151\n",
       "Cereal             451368.090255\n",
       "Clothes            366555.715596\n",
       "Cosmetics          855442.484772\n",
       "Fruits              12295.307686\n",
       "Household          821415.269931\n",
       "Meat               285669.558897\n",
       "Office Supplies    621485.309140\n",
       "Personal Care      124250.951149\n",
       "Snacks             278590.863162\n",
       "Vegetables         320037.232943\n",
       "Name: 총이윤, dtype: float64"
      ]
     },
     "execution_count": 115,
     "metadata": {},
     "output_type": "execute_result"
    }
   ],
   "source": [
    "_type_mean = _type_group.loc[:, '총이윤']\n",
    "_type_mean"
   ]
  },
  {
   "cell_type": "code",
   "execution_count": 134,
   "metadata": {},
   "outputs": [
    {
     "data": {
      "text/plain": [
       "상품종류\n",
       "Cosmetics          855442.484772\n",
       "Household          821415.269931\n",
       "Office Supplies    621485.309140\n",
       "Baby Food          477820.659335\n",
       "Cereal             451368.090255\n",
       "Clothes            366555.715596\n",
       "Vegetables         320037.232943\n",
       "Meat               285669.558897\n",
       "Snacks             278590.863162\n",
       "Personal Care      124250.951149\n",
       "Beverages           78308.731151\n",
       "Fruits              12295.307686\n",
       "Name: 총이윤, dtype: float64"
      ]
     },
     "execution_count": 134,
     "metadata": {},
     "output_type": "execute_result"
    }
   ],
   "source": [
    "_type_descending = _type_mean.sort_values(ascending = False)\n",
    "_type_descending"
   ]
  },
  {
   "cell_type": "code",
   "execution_count": 136,
   "metadata": {},
   "outputs": [
    {
     "data": {
      "text/plain": [
       "'Cosmetics'"
      ]
     },
     "execution_count": 136,
     "metadata": {},
     "output_type": "execute_result"
    }
   ],
   "source": [
    "_type_descending.index[0]"
   ]
  },
  {
   "cell_type": "code",
   "execution_count": 142,
   "metadata": {},
   "outputs": [
    {
     "data": {
      "text/plain": [
       "'Fruits'"
      ]
     },
     "execution_count": 142,
     "metadata": {},
     "output_type": "execute_result"
    }
   ],
   "source": [
    "_type_descending.index[~0]"
   ]
  },
  {
   "cell_type": "code",
   "execution_count": 146,
   "metadata": {},
   "outputs": [
    {
     "name": "stderr",
     "output_type": "stream",
     "text": [
      "C:\\Users\\zino0\\AppData\\Local\\Temp\\ipykernel_23316\\4259802205.py:3: FutureWarning: The default value of numeric_only in DataFrameGroupBy.mean is deprecated. In a future version, numeric_only will default to False. Either specify numeric_only or select only columns which should be valid for the function.\n",
      "  group_data = sales.groupby('상품종류').mean()[['총이윤']]\n"
     ]
    },
    {
     "data": {
      "text/html": [
       "<div>\n",
       "<style scoped>\n",
       "    .dataframe tbody tr th:only-of-type {\n",
       "        vertical-align: middle;\n",
       "    }\n",
       "\n",
       "    .dataframe tbody tr th {\n",
       "        vertical-align: top;\n",
       "    }\n",
       "\n",
       "    .dataframe thead th {\n",
       "        text-align: right;\n",
       "    }\n",
       "</style>\n",
       "<table border=\"1\" class=\"dataframe\">\n",
       "  <thead>\n",
       "    <tr style=\"text-align: right;\">\n",
       "      <th></th>\n",
       "      <th>총이윤</th>\n",
       "    </tr>\n",
       "    <tr>\n",
       "      <th>상품종류</th>\n",
       "      <th></th>\n",
       "    </tr>\n",
       "  </thead>\n",
       "  <tbody>\n",
       "    <tr>\n",
       "      <th>Baby Food</th>\n",
       "      <td>477820.659335</td>\n",
       "    </tr>\n",
       "    <tr>\n",
       "      <th>Beverages</th>\n",
       "      <td>78308.731151</td>\n",
       "    </tr>\n",
       "    <tr>\n",
       "      <th>Cereal</th>\n",
       "      <td>451368.090255</td>\n",
       "    </tr>\n",
       "    <tr>\n",
       "      <th>Clothes</th>\n",
       "      <td>366555.715596</td>\n",
       "    </tr>\n",
       "    <tr>\n",
       "      <th>Cosmetics</th>\n",
       "      <td>855442.484772</td>\n",
       "    </tr>\n",
       "    <tr>\n",
       "      <th>Fruits</th>\n",
       "      <td>12295.307686</td>\n",
       "    </tr>\n",
       "    <tr>\n",
       "      <th>Household</th>\n",
       "      <td>821415.269931</td>\n",
       "    </tr>\n",
       "    <tr>\n",
       "      <th>Meat</th>\n",
       "      <td>285669.558897</td>\n",
       "    </tr>\n",
       "    <tr>\n",
       "      <th>Office Supplies</th>\n",
       "      <td>621485.309140</td>\n",
       "    </tr>\n",
       "    <tr>\n",
       "      <th>Personal Care</th>\n",
       "      <td>124250.951149</td>\n",
       "    </tr>\n",
       "    <tr>\n",
       "      <th>Snacks</th>\n",
       "      <td>278590.863162</td>\n",
       "    </tr>\n",
       "    <tr>\n",
       "      <th>Vegetables</th>\n",
       "      <td>320037.232943</td>\n",
       "    </tr>\n",
       "  </tbody>\n",
       "</table>\n",
       "</div>"
      ],
      "text/plain": [
       "                           총이윤\n",
       "상품종류                          \n",
       "Baby Food        477820.659335\n",
       "Beverages         78308.731151\n",
       "Cereal           451368.090255\n",
       "Clothes          366555.715596\n",
       "Cosmetics        855442.484772\n",
       "Fruits            12295.307686\n",
       "Household        821415.269931\n",
       "Meat             285669.558897\n",
       "Office Supplies  621485.309140\n",
       "Personal Care    124250.951149\n",
       "Snacks           278590.863162\n",
       "Vegetables       320037.232943"
      ]
     },
     "execution_count": 146,
     "metadata": {},
     "output_type": "execute_result"
    }
   ],
   "source": [
    "# Moon_Sol\n",
    "\n",
    "group_data = sales.groupby('상품종류').mean()[['총이윤']]\n",
    "group_data"
   ]
  },
  {
   "cell_type": "code",
   "execution_count": 150,
   "metadata": {},
   "outputs": [
    {
     "data": {
      "text/html": [
       "<div>\n",
       "<style scoped>\n",
       "    .dataframe tbody tr th:only-of-type {\n",
       "        vertical-align: middle;\n",
       "    }\n",
       "\n",
       "    .dataframe tbody tr th {\n",
       "        vertical-align: top;\n",
       "    }\n",
       "\n",
       "    .dataframe thead th {\n",
       "        text-align: right;\n",
       "    }\n",
       "</style>\n",
       "<table border=\"1\" class=\"dataframe\">\n",
       "  <thead>\n",
       "    <tr style=\"text-align: right;\">\n",
       "      <th></th>\n",
       "      <th>총이윤</th>\n",
       "    </tr>\n",
       "    <tr>\n",
       "      <th>상품종류</th>\n",
       "      <th></th>\n",
       "    </tr>\n",
       "  </thead>\n",
       "  <tbody>\n",
       "    <tr>\n",
       "      <th>Cosmetics</th>\n",
       "      <td>855442.484772</td>\n",
       "    </tr>\n",
       "    <tr>\n",
       "      <th>Household</th>\n",
       "      <td>821415.269931</td>\n",
       "    </tr>\n",
       "    <tr>\n",
       "      <th>Office Supplies</th>\n",
       "      <td>621485.309140</td>\n",
       "    </tr>\n",
       "    <tr>\n",
       "      <th>Baby Food</th>\n",
       "      <td>477820.659335</td>\n",
       "    </tr>\n",
       "    <tr>\n",
       "      <th>Cereal</th>\n",
       "      <td>451368.090255</td>\n",
       "    </tr>\n",
       "    <tr>\n",
       "      <th>Clothes</th>\n",
       "      <td>366555.715596</td>\n",
       "    </tr>\n",
       "    <tr>\n",
       "      <th>Vegetables</th>\n",
       "      <td>320037.232943</td>\n",
       "    </tr>\n",
       "    <tr>\n",
       "      <th>Meat</th>\n",
       "      <td>285669.558897</td>\n",
       "    </tr>\n",
       "    <tr>\n",
       "      <th>Snacks</th>\n",
       "      <td>278590.863162</td>\n",
       "    </tr>\n",
       "    <tr>\n",
       "      <th>Personal Care</th>\n",
       "      <td>124250.951149</td>\n",
       "    </tr>\n",
       "    <tr>\n",
       "      <th>Beverages</th>\n",
       "      <td>78308.731151</td>\n",
       "    </tr>\n",
       "    <tr>\n",
       "      <th>Fruits</th>\n",
       "      <td>12295.307686</td>\n",
       "    </tr>\n",
       "  </tbody>\n",
       "</table>\n",
       "</div>"
      ],
      "text/plain": [
       "                           총이윤\n",
       "상품종류                          \n",
       "Cosmetics        855442.484772\n",
       "Household        821415.269931\n",
       "Office Supplies  621485.309140\n",
       "Baby Food        477820.659335\n",
       "Cereal           451368.090255\n",
       "Clothes          366555.715596\n",
       "Vegetables       320037.232943\n",
       "Meat             285669.558897\n",
       "Snacks           278590.863162\n",
       "Personal Care    124250.951149\n",
       "Beverages         78308.731151\n",
       "Fruits            12295.307686"
      ]
     },
     "execution_count": 150,
     "metadata": {},
     "output_type": "execute_result"
    }
   ],
   "source": [
    "ddf = group_data.sort_values('총이윤', ascending = False)\n",
    "ddf"
   ]
  },
  {
   "cell_type": "code",
   "execution_count": 152,
   "metadata": {},
   "outputs": [
    {
     "data": {
      "text/plain": [
       "'Cosmetics'"
      ]
     },
     "execution_count": 152,
     "metadata": {},
     "output_type": "execute_result"
    }
   ],
   "source": [
    "ddf.head(1).index[0]"
   ]
  },
  {
   "cell_type": "code",
   "execution_count": 155,
   "metadata": {},
   "outputs": [
    {
     "data": {
      "text/plain": [
       "'Cosmetics'"
      ]
     },
     "execution_count": 155,
     "metadata": {},
     "output_type": "execute_result"
    }
   ],
   "source": [
    "ddf.index[0]"
   ]
  },
  {
   "cell_type": "code",
   "execution_count": 156,
   "metadata": {},
   "outputs": [
    {
     "data": {
      "text/plain": [
       "'Fruits'"
      ]
     },
     "execution_count": 156,
     "metadata": {},
     "output_type": "execute_result"
    }
   ],
   "source": [
    "ddf.index[-1]"
   ]
  },
  {
   "cell_type": "code",
   "execution_count": null,
   "metadata": {},
   "outputs": [],
   "source": []
  }
 ],
 "metadata": {
  "kernelspec": {
   "display_name": "Python 3",
   "language": "python",
   "name": "python3"
  },
  "language_info": {
   "codemirror_mode": {
    "name": "ipython",
    "version": 3
   },
   "file_extension": ".py",
   "mimetype": "text/x-python",
   "name": "python",
   "nbconvert_exporter": "python",
   "pygments_lexer": "ipython3",
   "version": "3.11.2"
  },
  "orig_nbformat": 4
 },
 "nbformat": 4,
 "nbformat_minor": 2
}
