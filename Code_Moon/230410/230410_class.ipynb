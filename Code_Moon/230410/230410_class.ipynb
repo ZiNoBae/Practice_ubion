{
 "cells": [
  {
   "attachments": {},
   "cell_type": "markdown",
   "metadata": {},
   "source": [
    "# 변수 \n",
    "1. 메모리에 데이터를 저장하는 공간의 이름 \n",
    "2. 데이터의 종류(기본)\n",
    "    - string \n",
    "    - int(정수형)\n",
    "    - float(실수형)\n",
    "    - bool (True or False)\n",
    "    - tuple : 수정 불가\n",
    "    - list : 수정 가능\n",
    "    - dict : key & values \n",
    "3. python 특징\n",
    "    - 변수를 생성할 때 데이터 타입을 미리 지정하지 않아도 된다. \n",
    "    - python 에서 자동으로 데이터 타입을 지정\n",
    "\n",
    "    \n"
   ]
  },
  {
   "cell_type": "code",
   "execution_count": 2,
   "metadata": {},
   "outputs": [
    {
     "name": "stdout",
     "output_type": "stream",
     "text": [
      "<class 'str'>\n",
      "<class 'int'>\n"
     ]
    }
   ],
   "source": [
    "a = 'test'\n",
    "b = 10\n",
    "# 타입지정 안해도 타입 자동으로 정해지고 출력 가능\n",
    "print(type(a))\n",
    "print(type(b))"
   ]
  },
  {
   "cell_type": "code",
   "execution_count": 4,
   "metadata": {},
   "outputs": [
    {
     "name": "stdout",
     "output_type": "stream",
     "text": [
      "test\n",
      "1234\n"
     ]
    }
   ],
   "source": [
    "c = 'test'\n",
    "print(c)\n",
    "c = 1234 # 덮어씌어지며, 이후 c는 더이상 test가 아님 \n",
    "\n",
    "print(c)"
   ]
  },
  {
   "attachments": {},
   "cell_type": "markdown",
   "metadata": {},
   "source": [
    "# 연산자\n",
    "\n",
    "1. 일반적인 사칙연산 \n",
    "    +, -, *, / , //(몫), %(나머지), **\n",
    "\n",
    "2. 대입 연산자 \n",
    "    += : a += 1 -> a = a+1\n",
    "    -= : \n",
    "    *= :\n",
    "    /= :\n",
    "    //= :\n",
    "    %= :\n",
    "    **= :\n",
    "\n",
    "3. 비교 연산자 \n",
    "    - 두개의 값을 비교하여 참or거짓의 형태로 출력\n",
    "    - 주로 사용되는 곳은 조건문 & 반복문\n",
    "    - ==(두 값이 같다), !=(두 값이 다르다), >, >=, < , <= . \n",
    "    - 비교를 해야되는 조건이 2개 이상인 경우 \n",
    "        - 두 조건이 모두 참이여야 참 : and(&)\n",
    "        - 두 조건 중 하나만 참이여도 참 : or(|)\n",
    "    - not(|,~) : 부정의 표현으로 참을 거짓으로 거짓을 참으로 출력"
   ]
  },
  {
   "cell_type": "code",
   "execution_count": 5,
   "metadata": {},
   "outputs": [
    {
     "name": "stdout",
     "output_type": "stream",
     "text": [
      "False\n",
      "True\n",
      "True\n",
      "False\n"
     ]
    }
   ],
   "source": [
    "x=10\n",
    "y=7\n",
    "print(x==y)\n",
    "print(x != y)\n",
    "print(x > y)\n",
    "print(x < y)"
   ]
  },
  {
   "cell_type": "code",
   "execution_count": 6,
   "metadata": {},
   "outputs": [
    {
     "name": "stdout",
     "output_type": "stream",
     "text": [
      "True\n",
      "False\n",
      "True\n",
      "False\n"
     ]
    }
   ],
   "source": [
    "print(True & True)\n",
    "print(True & False)\n",
    "print(True or False)\n",
    "print(not(True))"
   ]
  },
  {
   "attachments": {},
   "cell_type": "markdown",
   "metadata": {},
   "source": [
    "# 조건문 \n",
    "1. 특정한 조건에 맞춰서 컴퓨터에게 지시를 내리기 위한 방법\n",
    "2. 조건식이 참인 경우, 실행할 코드를 작성\n",
    "3. 조건식이 거짓인 경우, 실행할 코드를 작성\n",
    "4. python 특징  : 일반적인 프로그래밍 언어에서는  {}를 이용하여 실행할 코드 작성\n",
    "    But, python에서는 들여쓰기를 이용하여 실행 할 코드를 작성\n",
    "    "
   ]
  },
  {
   "cell_type": "code",
   "execution_count": 7,
   "metadata": {},
   "outputs": [
    {
     "name": "stdout",
     "output_type": "stream",
     "text": [
      "x는 20보다 작거나 같다.\n"
     ]
    }
   ],
   "source": [
    "x = 10\n",
    "\n",
    "if x > 20 :\n",
    "    print('x는 20보다 크다')\n",
    "else : \n",
    "    print('x는 20보다 작거나 같다.')"
   ]
  },
  {
   "attachments": {},
   "cell_type": "markdown",
   "metadata": {},
   "source": [
    "# 반복문\n",
    "\n",
    "1. for 문\n",
    "    - for 변수명 in range(시작값, 종료값, 증가값)\n",
    "    - for 변수명 in (list형태의 data)\n",
    "    - list의 길이만큼 반복\n",
    "    - list의 항목 하나 하나씩 변수에 담아서 아래의 코드를 실행\n",
    "\n",
    "2. whiel문\n",
    "    - 초기값 미리 지정\n",
    "    - while 조건식 지정하여 조건식이 거짓이 될 때까지 반복 실행\n",
    "    - i += 1 -> 무한반복 방지 필수\n",
    "    \n",
    "3. 반복문은 무한 반복이 되지 않도록 조건을 맞춰서 사용하여야"
   ]
  },
  {
   "cell_type": "code",
   "execution_count": 9,
   "metadata": {},
   "outputs": [
    {
     "name": "stdout",
     "output_type": "stream",
     "text": [
      "1 2 3 4 5 6 7 8 9 "
     ]
    }
   ],
   "source": [
    "for i in range(1,10,1) :\n",
    "    print(i, end = ' ')"
   ]
  },
  {
   "cell_type": "code",
   "execution_count": 10,
   "metadata": {},
   "outputs": [
    {
     "name": "stdout",
     "output_type": "stream",
     "text": [
      "a b c d "
     ]
    }
   ],
   "source": [
    "_list = ['a', 'b', 'c', 'd']\n",
    "for i in _list : \n",
    "    print(i, end=' ')"
   ]
  },
  {
   "cell_type": "code",
   "execution_count": 12,
   "metadata": {},
   "outputs": [
    {
     "name": "stdout",
     "output_type": "stream",
     "text": [
      "0 1 2 3 4 5 6 7 8 9 "
     ]
    }
   ],
   "source": [
    "i = 0\n",
    "\n",
    "while i < 10 : \n",
    "    print(i, end=' ')\n",
    "    i +=1"
   ]
  },
  {
   "attachments": {},
   "cell_type": "markdown",
   "metadata": {},
   "source": [
    "1. tuple\n",
    "    - 여러 형태의 데이터를 담아두는 데이터 형태 \n",
    "    - 가장 기본적인 형태 \n",
    "    - 각 항목을 추가, 수정, 삭제 불가\n",
    "    - ()로 묶어서 표시 \n",
    "2. list\n",
    "    - tuple과 매우 흡사\n",
    "    - 항목들을 추가, 수정, 삭제 가능(list에 있는 내장함수를 이용)\n",
    "    - []로 묶어서 표시\n",
    "3. dict\n",
    "    - 사전형 데이터\n",
    "    - key : value 한 쌍의 형태 \n",
    "    - list와 달리 위치에 상관없이 원하는 데이터를 key값을 이용하여 출력이 가능\n",
    "    "
   ]
  },
  {
   "cell_type": "code",
   "execution_count": 14,
   "metadata": {},
   "outputs": [
    {
     "name": "stdout",
     "output_type": "stream",
     "text": [
      "<class 'tuple'>\n",
      "(1, 2, 3)\n"
     ]
    }
   ],
   "source": [
    "a = (1,2)\n",
    "print(type(a)) # tuple 수정 불가 \n",
    "\n",
    "a = (1,2,3)\n",
    "print(a) # 이건 수정이 아니라, 새로 변수 덮어씌우기"
   ]
  },
  {
   "cell_type": "code",
   "execution_count": 28,
   "metadata": {},
   "outputs": [
    {
     "name": "stdout",
     "output_type": "stream",
     "text": [
      "[1, 2, 3]\n"
     ]
    }
   ],
   "source": [
    "list_a = [1,2,3]\n",
    "print(list_a)"
   ]
  },
  {
   "cell_type": "code",
   "execution_count": 29,
   "metadata": {},
   "outputs": [
    {
     "name": "stdout",
     "output_type": "stream",
     "text": [
      "[1, 2, 3, 4]\n"
     ]
    }
   ],
   "source": [
    "list_a.append(4) # list에 4를 추가하는 내장함수 append\n",
    "print(list_a)"
   ]
  },
  {
   "cell_type": "code",
   "execution_count": 38,
   "metadata": {},
   "outputs": [
    {
     "name": "stdout",
     "output_type": "stream",
     "text": [
      "True\n"
     ]
    }
   ],
   "source": [
    "# list의 항목들 중, 3이라는 숫자가 존재하는가 \n",
    "\n",
    "# if list_a == 3 : \n",
    "\n",
    "#     print(list_a)\n",
    "\n",
    "\n",
    "for i in list_a :\n",
    "    if i == 3:\n",
    "        print(True)\n",
    "    "
   ]
  },
  {
   "cell_type": "code",
   "execution_count": 39,
   "metadata": {},
   "outputs": [
    {
     "name": "stdout",
     "output_type": "stream",
     "text": [
      "존재\n"
     ]
    }
   ],
   "source": [
    "# Moon_Sol\n",
    "\n",
    "if 3 in list_a : \n",
    "    print('존재')\n",
    "else :\n",
    "    print('없엉')"
   ]
  },
  {
   "cell_type": "code",
   "execution_count": 40,
   "metadata": {},
   "outputs": [
    {
     "data": {
      "text/plain": [
       "True"
      ]
     },
     "execution_count": 40,
     "metadata": {},
     "output_type": "execute_result"
    }
   ],
   "source": [
    "3 in list_a"
   ]
  },
  {
   "cell_type": "code",
   "execution_count": 41,
   "metadata": {},
   "outputs": [
    {
     "name": "stdout",
     "output_type": "stream",
     "text": [
      "True\n"
     ]
    }
   ],
   "source": [
    "result = False\n",
    "\n",
    "for i in list_a :\n",
    "    if i == 3 :\n",
    "        result=True\n",
    "print(result)"
   ]
  },
  {
   "cell_type": "code",
   "execution_count": 42,
   "metadata": {},
   "outputs": [
    {
     "data": {
      "text/plain": [
       "2"
      ]
     },
     "execution_count": 42,
     "metadata": {},
     "output_type": "execute_result"
    }
   ],
   "source": [
    "list_a.index(3)  # 3이라는 위치를 찾아라"
   ]
  },
  {
   "attachments": {},
   "cell_type": "markdown",
   "metadata": {},
   "source": [
    "# 함수 \n",
    "1. 고정된 데이터를 저장하는게 변수라면 함수는 행동을 저장한다.\n",
    "2. def 이용하여, 함수 생성\n",
    "3. 함수 호출 : 함수명(인자) \n",
    "4. 일반적으로는 함수의 매개변수 갯수와 인자의 개수가 같아야한다. \n",
    "    - 매개변수 초기값 이미 지정되어있다면, 꼭 그 매개변수의 인자값 전부 할당해야하는 건 아님."
   ]
  },
  {
   "cell_type": "code",
   "execution_count": 47,
   "metadata": {},
   "outputs": [
    {
     "name": "stdout",
     "output_type": "stream",
     "text": [
      "1 25\n"
     ]
    }
   ],
   "source": [
    "def func_1(x) : \n",
    "    result = x **2\n",
    "    return result\n",
    "\n",
    "print(func_1(1), end = ' ')\n",
    "print(func_1(5))"
   ]
  },
  {
   "attachments": {},
   "cell_type": "markdown",
   "metadata": {},
   "source": [
    "### 연습 문제\n",
    "1. 비어 있는 리스트를 하나 생성\n",
    "2. 함수 생성\n",
    "    - 매개 변수 1개\n",
    "    - 받아온 인자값을 비어있는 리스트에 추가 \n",
    "    - 조건 : 리스트 안에 인자값이 존재하면 추가하지 않는다, 존재하지 않으면 추가\n",
    "3. input() 이용하여, 2번 과정에 만든 함수를 호출 , 인자값으로 input에서 받아온 data사용"
   ]
  },
  {
   "cell_type": "code",
   "execution_count": 81,
   "metadata": {},
   "outputs": [],
   "source": [
    "_list1 = []\n",
    "\n",
    "def func_zn(x) : \n",
    "    result = _list1\n",
    "    if not(x in _list1) : \n",
    "        result = _list1.append(x)\n",
    "    return result\n"
   ]
  },
  {
   "cell_type": "code",
   "execution_count": 83,
   "metadata": {},
   "outputs": [
    {
     "name": "stdout",
     "output_type": "stream",
     "text": [
      "[1, 2, 3, 4]\n"
     ]
    }
   ],
   "source": [
    "\n",
    "\n",
    "\n",
    "func_zn(1)\n",
    "func_zn(2)\n",
    "func_zn(3)\n",
    "func_zn(4)\n",
    "\n",
    "print(_list1)\n"
   ]
  },
  {
   "cell_type": "code",
   "execution_count": 109,
   "metadata": {},
   "outputs": [
    {
     "name": "stdout",
     "output_type": "stream",
     "text": [
      "None\n"
     ]
    }
   ],
   "source": [
    "input()\n",
    "print(func_zn(input()))\n"
   ]
  },
  {
   "cell_type": "code",
   "execution_count": 110,
   "metadata": {},
   "outputs": [],
   "source": [
    "# Moon_Sol\n",
    "\n",
    "# 비어있는 list\n",
    "_list = [1,2,3]\n",
    "\n",
    "# 함수 생성\n",
    "\n",
    "def func_2(x) : \n",
    "    x = int(x)\n",
    "    if x not in _list :   # if not(x in _list) 이것도 가능 -> ~ 보다는 not을 사용 권장\n",
    "        _list.append(x)\n",
    "    else : \n",
    "        print('리스트에 값이 이미 존재한다.')\n",
    "    return \"함수 종료\""
   ]
  },
  {
   "cell_type": "code",
   "execution_count": 111,
   "metadata": {},
   "outputs": [
    {
     "name": "stdout",
     "output_type": "stream",
     "text": [
      "리스트에 값이 이미 존재한다.\n"
     ]
    },
    {
     "data": {
      "text/plain": [
       "'함수 종료'"
      ]
     },
     "execution_count": 111,
     "metadata": {},
     "output_type": "execute_result"
    }
   ],
   "source": [
    "a = input()   # 얘는 ()안에 들어가는 애 타입이 str -> int로 바꿔주는거 권장\n",
    "func_2(a)\n"
   ]
  },
  {
   "cell_type": "code",
   "execution_count": 112,
   "metadata": {},
   "outputs": [
    {
     "name": "stdout",
     "output_type": "stream",
     "text": [
      "[1, 2, 3]\n"
     ]
    }
   ],
   "source": [
    "print(_list)"
   ]
  },
  {
   "attachments": {},
   "cell_type": "markdown",
   "metadata": {},
   "source": [
    "# 외부 라이브러리 \n",
    "1. 함수, 클래스들의 집합체 \n",
    "2. 라이브러리 \n",
    "    - !pip install '라이브러리 이름'\n",
    "3. 라이브러리 로드 \n",
    "    - import 라이브러리 as 별칭\n",
    "    - import 라이브러리.기능명 as 별칭\n",
    "    - from 라이브러리 as (라이브러리 내부의 기능) <-ㅈㄴ 큰애들은 일부 기능만 가져옴\n",
    "    "
   ]
  },
  {
   "attachments": {},
   "cell_type": "markdown",
   "metadata": {},
   "source": [
    "----"
   ]
  },
  {
   "attachments": {},
   "cell_type": "markdown",
   "metadata": {},
   "source": [
    "# pandas\n",
    "1. 외부 파일 가지고 오기 \n",
    "    - pd.read_csv, _json, _excel\n",
    "    - pd.read_csv('파일경로', encoding = '인코더 종류(utf-8, euc_kr, CP949)')\n",
    "2. DataFrame에서 컬럼의 이름을 변경\n",
    "    - df명.columns = [변경할 컬럼들의 리스트 항목]\n",
    "3. DataFrame에서 특정 컬럼을 추출\n",
    "    - 단일 컬럼 추출 : df명[컬럼명] -> 형태 : series\n",
    "    - 여러 컬럼 추출 : df명[['컬럼1', '컬럼2', ...]] -> 형태 : dataframe\n",
    "4. series 형태의 데이터를 리스트 형태로 변환? \n",
    "    - series명.tolist() \n",
    "5. 컬럼의 값을 기준으로 정렬을 변경하는 함수\n",
    "    - sort.values('기준 컬럼', ascending = , inplace = )\n",
    "    - ascending : True -> 오름차순, False-> 내림차순\n",
    "    - inplace : 기준이 되는 df를 변경할지(기본값 : False) \n",
    "6. 인덱스를 재지정하는 함수 \n",
    "    - reset_index()\n",
    "    - drop : 기존의 인덱스를 삭제할지 지정(기본값 : False)\n",
    "    - inplace\n",
    "7. 결측치 유무 판단\n",
    "    - isna() : 결측치인가를 판단하여 True or False로 출력 \n",
    "    - isna().sum() : 컬럼별 결측치 갯수 총합 확인 가능 \n",
    "    - 결측치에 값을 치환 : fillna(n) -> 결측치를 n으로 치환 \n",
    "8. 그룹화 함수 \n",
    "    - groupby('그룹화 기준 컬럼명')\n",
    "    - .sum() : 그룹화 한 데이터들의 합계\n",
    "    - .mean() : 그룹화 한 데이터들의 평균\n",
    "    - .min(), .max() : 그룹화 한 데이터들의 최솟값, 최대값\n",
    "    - .count() : 데이터의 개수\n",
    "    - .agg() : 데이터들의 연산을 한줄로 처리하기 위한 함수\n",
    "9. Dataframe의 통계요약정보 출력\n",
    "    - describe()\n",
    "10. 데이터 간의 차이를 구하는 함수 \n",
    "    - diff(n) : 현재의 행의 데이터와 n만큼 이동한 이동한 데이터 간의 차이를 출력 \n",
    "11. 행을 이동 \n",
    "    - shift(n) : 행을 n만큼 이동한 데이터의 값을 출력\n",
    "12. df간의 결합 함수 \n",
    "    - concat()\n",
    "        - 단순하게 행이나 열을 결합\n",
    "        - axis : 행 or 열 결합할지 지정 \n",
    "    - merge()\n",
    "        - 특정한 조건에 맞춰서 열을 추가해주는 함수\n",
    "        - SQL에 있는 join과 흡사 \n",
    "        - on  : 특정한 조건 \n",
    "        - how : 기준이 되는 df 지정. (left, right, inner, outer)\n",
    "13. apply()\n",
    "    - df에 잇는 각 원소들을 ()안 함수에 대입하여 실행\n",
    "    - ex ) apply(일반함수), apply(lambda함수)\n",
    "14. 시계열 변환\n",
    "    - pd.to_datetime(변경할 data, format= \"\")\n",
    "    - format : 데이터의 표시형태 \n",
    "    - format 예 ) 201901  -> format = \"%Y$m\"\n",
    "    - 예 ) 01-2019 -> format = \"%m-%Y\"\n",
    "    - QQQQQQQQQQQQQQQQQQQQQQQQQQQQQQQQQQ 뭘 주의하라고? QQQQQQQQQQQQQQQQQQQQQQQQQQQQQ"
   ]
  },
  {
   "attachments": {},
   "cell_type": "markdown",
   "metadata": {},
   "source": [
    "---"
   ]
  },
  {
   "cell_type": "code",
   "execution_count": 113,
   "metadata": {},
   "outputs": [
    {
     "name": "stdout",
     "output_type": "stream",
     "text": [
      "Collecting flask\n",
      "  Using cached Flask-2.2.3-py3-none-any.whl (101 kB)\n",
      "Collecting Werkzeug>=2.2.2\n",
      "  Downloading Werkzeug-2.2.3-py3-none-any.whl (233 kB)\n",
      "     ---------------------------------------- 0.0/233.6 kB ? eta -:--:--\n",
      "     ---------------------------------------- 0.0/233.6 kB ? eta -:--:--\n",
      "     ---------------------------------------- 0.0/233.6 kB ? eta -:--:--\n",
      "     ---------------------------------------- 0.0/233.6 kB ? eta -:--:--\n",
      "     ---------------------------------------- 0.0/233.6 kB ? eta -:--:--\n",
      "     ---------------------------------------- 0.0/233.6 kB ? eta -:--:--\n",
      "     ---------------------------------------- 0.0/233.6 kB ? eta -:--:--\n",
      "     - -------------------------------------- 10.2/233.6 kB ? eta -:--:--\n",
      "     - -------------------------------------- 10.2/233.6 kB ? eta -:--:--\n",
      "     - -------------------------------------- 10.2/233.6 kB ? eta -:--:--\n",
      "     - -------------------------------------- 10.2/233.6 kB ? eta -:--:--\n",
      "     - -------------------------------------- 10.2/233.6 kB ? eta -:--:--\n",
      "     - -------------------------------------- 10.2/233.6 kB ? eta -:--:--\n",
      "     - -------------------------------------- 10.2/233.6 kB ? eta -:--:--\n",
      "     - -------------------------------------- 10.2/233.6 kB ? eta -:--:--\n",
      "     - -------------------------------------- 10.2/233.6 kB ? eta -:--:--\n",
      "     ---- --------------------------------- 30.7/233.6 kB 46.8 kB/s eta 0:00:05\n",
      "     ---- --------------------------------- 30.7/233.6 kB 46.8 kB/s eta 0:00:05\n",
      "     ---- --------------------------------- 30.7/233.6 kB 46.8 kB/s eta 0:00:05\n",
      "     ---- --------------------------------- 30.7/233.6 kB 46.8 kB/s eta 0:00:05\n",
      "     ---- --------------------------------- 30.7/233.6 kB 46.8 kB/s eta 0:00:05\n",
      "     ---- --------------------------------- 30.7/233.6 kB 46.8 kB/s eta 0:00:05\n",
      "     ------ ------------------------------- 41.0/233.6 kB 44.7 kB/s eta 0:00:05\n",
      "     ------ ------------------------------- 41.0/233.6 kB 44.7 kB/s eta 0:00:05\n",
      "     ------ ------------------------------- 41.0/233.6 kB 44.7 kB/s eta 0:00:05\n",
      "     ------ ------------------------------- 41.0/233.6 kB 44.7 kB/s eta 0:00:05\n",
      "     ------ ------------------------------- 41.0/233.6 kB 44.7 kB/s eta 0:00:05\n",
      "     ------ ------------------------------- 41.0/233.6 kB 44.7 kB/s eta 0:00:05\n",
      "     ------ ------------------------------- 41.0/233.6 kB 44.7 kB/s eta 0:00:05\n",
      "     ------ ------------------------------- 41.0/233.6 kB 44.7 kB/s eta 0:00:05\n",
      "     ------ ------------------------------- 41.0/233.6 kB 44.7 kB/s eta 0:00:05\n",
      "     ------ ------------------------------- 41.0/233.6 kB 44.7 kB/s eta 0:00:05\n",
      "     --------- ---------------------------- 61.4/233.6 kB 44.3 kB/s eta 0:00:04\n",
      "     --------- ---------------------------- 61.4/233.6 kB 44.3 kB/s eta 0:00:04\n",
      "     --------- ---------------------------- 61.4/233.6 kB 44.3 kB/s eta 0:00:04\n",
      "     --------- ---------------------------- 61.4/233.6 kB 44.3 kB/s eta 0:00:04\n",
      "     --------- ---------------------------- 61.4/233.6 kB 44.3 kB/s eta 0:00:04\n",
      "     ------------- ------------------------ 81.9/233.6 kB 52.1 kB/s eta 0:00:03\n",
      "     ------------- ------------------------ 81.9/233.6 kB 52.1 kB/s eta 0:00:03\n",
      "     ------------- ------------------------ 81.9/233.6 kB 52.1 kB/s eta 0:00:03\n",
      "     ------------- ------------------------ 81.9/233.6 kB 52.1 kB/s eta 0:00:03\n",
      "     ------------- ------------------------ 81.9/233.6 kB 52.1 kB/s eta 0:00:03\n",
      "     ------------- ------------------------ 81.9/233.6 kB 52.1 kB/s eta 0:00:03\n",
      "     ------------- ------------------------ 81.9/233.6 kB 52.1 kB/s eta 0:00:03\n",
      "     -------------- ----------------------- 92.2/233.6 kB 48.1 kB/s eta 0:00:03\n",
      "     -------------- ----------------------- 92.2/233.6 kB 48.1 kB/s eta 0:00:03\n",
      "     -------------- ----------------------- 92.2/233.6 kB 48.1 kB/s eta 0:00:03\n",
      "     -------------- ----------------------- 92.2/233.6 kB 48.1 kB/s eta 0:00:03\n",
      "     ----------------- ------------------- 112.6/233.6 kB 54.2 kB/s eta 0:00:03\n",
      "     ----------------- ------------------- 112.6/233.6 kB 54.2 kB/s eta 0:00:03\n",
      "     ----------------- ------------------- 112.6/233.6 kB 54.2 kB/s eta 0:00:03\n",
      "     ------------------- ----------------- 122.9/233.6 kB 55.5 kB/s eta 0:00:02\n",
      "     ------------------- ----------------- 122.9/233.6 kB 55.5 kB/s eta 0:00:02\n",
      "     ------------------- ----------------- 122.9/233.6 kB 55.5 kB/s eta 0:00:02\n",
      "     ---------------------- -------------- 143.4/233.6 kB 61.3 kB/s eta 0:00:02\n",
      "     ---------------------- -------------- 143.4/233.6 kB 61.3 kB/s eta 0:00:02\n",
      "     ---------------------- -------------- 143.4/233.6 kB 61.3 kB/s eta 0:00:02\n",
      "     ------------------------- ----------- 163.8/233.6 kB 66.0 kB/s eta 0:00:02\n",
      "     ------------------------- ----------- 163.8/233.6 kB 66.0 kB/s eta 0:00:02\n",
      "     ------------------------- ----------- 163.8/233.6 kB 66.0 kB/s eta 0:00:02\n",
      "     ------------------------- ----------- 163.8/233.6 kB 66.0 kB/s eta 0:00:02\n",
      "     ------------------------- ----------- 163.8/233.6 kB 66.0 kB/s eta 0:00:02\n",
      "     --------------------------- --------- 174.1/233.6 kB 64.7 kB/s eta 0:00:01\n",
      "     --------------------------- --------- 174.1/233.6 kB 64.7 kB/s eta 0:00:01\n",
      "     --------------------------- --------- 174.1/233.6 kB 64.7 kB/s eta 0:00:01\n",
      "     --------------------------- --------- 174.1/233.6 kB 64.7 kB/s eta 0:00:01\n",
      "     --------------------------- --------- 174.1/233.6 kB 64.7 kB/s eta 0:00:01\n",
      "     ------------------------------ ------ 194.6/233.6 kB 65.9 kB/s eta 0:00:01\n",
      "     ------------------------------ ------ 194.6/233.6 kB 65.9 kB/s eta 0:00:01\n",
      "     ------------------------------ ------ 194.6/233.6 kB 65.9 kB/s eta 0:00:01\n",
      "     ------------------------------ ------ 194.6/233.6 kB 65.9 kB/s eta 0:00:01\n",
      "     ------------------------------ ------ 194.6/233.6 kB 65.9 kB/s eta 0:00:01\n",
      "     ------------------------------ ------ 194.6/233.6 kB 65.9 kB/s eta 0:00:01\n",
      "     ------------------------------ ------ 194.6/233.6 kB 65.9 kB/s eta 0:00:01\n",
      "     ------------------------------ ------ 194.6/233.6 kB 65.9 kB/s eta 0:00:01\n",
      "     -------------------------------- ---- 204.8/233.6 kB 61.9 kB/s eta 0:00:01\n",
      "     -------------------------------- ---- 204.8/233.6 kB 61.9 kB/s eta 0:00:01\n",
      "     -------------------------------- ---- 204.8/233.6 kB 61.9 kB/s eta 0:00:01\n",
      "     -------------------------------- ---- 204.8/233.6 kB 61.9 kB/s eta 0:00:01\n",
      "     -------------------------------- ---- 204.8/233.6 kB 61.9 kB/s eta 0:00:01\n",
      "     -------------------------------- ---- 204.8/233.6 kB 61.9 kB/s eta 0:00:01\n",
      "     -------------------------------- ---- 204.8/233.6 kB 61.9 kB/s eta 0:00:01\n",
      "     -------------------------------- ---- 204.8/233.6 kB 61.9 kB/s eta 0:00:01\n",
      "     ----------------------------------- - 225.3/233.6 kB 61.4 kB/s eta 0:00:01\n",
      "     ----------------------------------- - 225.3/233.6 kB 61.4 kB/s eta 0:00:01\n",
      "     ----------------------------------- - 225.3/233.6 kB 61.4 kB/s eta 0:00:01\n",
      "     ------------------------------------- 233.6/233.6 kB 61.3 kB/s eta 0:00:00\n",
      "Requirement already satisfied: Jinja2>=3.0 in c:\\users\\zino0\\appdata\\local\\programs\\python\\python311\\lib\\site-packages (from flask) (3.1.2)\n",
      "Collecting itsdangerous>=2.0\n",
      "  Downloading itsdangerous-2.1.2-py3-none-any.whl (15 kB)\n",
      "Collecting click>=8.0\n",
      "  Downloading click-8.1.3-py3-none-any.whl (96 kB)\n",
      "     ---------------------------------------- 0.0/96.6 kB ? eta -:--:--\n",
      "     ---------------------------------------- 0.0/96.6 kB ? eta -:--:--\n",
      "     ---------------------------------------- 0.0/96.6 kB ? eta -:--:--\n",
      "     ---------------------------------------- 0.0/96.6 kB ? eta -:--:--\n",
      "     ---------------------------------------- 0.0/96.6 kB ? eta -:--:--\n",
      "     ---------------------------------------- 0.0/96.6 kB ? eta -:--:--\n",
      "     ---------------------------------------- 0.0/96.6 kB ? eta -:--:--\n",
      "     ---- ----------------------------------- 10.2/96.6 kB ? eta -:--:--\n",
      "     ---- ----------------------------------- 10.2/96.6 kB ? eta -:--:--\n",
      "     ---- ----------------------------------- 10.2/96.6 kB ? eta -:--:--\n",
      "     ---- ----------------------------------- 10.2/96.6 kB ? eta -:--:--\n",
      "     ---- ----------------------------------- 10.2/96.6 kB ? eta -:--:--\n",
      "     ------------ -------------------------- 30.7/96.6 kB 87.5 kB/s eta 0:00:01\n",
      "     ------------ -------------------------- 30.7/96.6 kB 87.5 kB/s eta 0:00:01\n",
      "     ------------ -------------------------- 30.7/96.6 kB 87.5 kB/s eta 0:00:01\n",
      "     ------------ -------------------------- 30.7/96.6 kB 87.5 kB/s eta 0:00:01\n",
      "     ---------------- ---------------------- 41.0/96.6 kB 75.7 kB/s eta 0:00:01\n",
      "     ---------------- ---------------------- 41.0/96.6 kB 75.7 kB/s eta 0:00:01\n",
      "     ------------------------ -------------- 61.4/96.6 kB 99.2 kB/s eta 0:00:01\n",
      "     ------------------------ -------------- 61.4/96.6 kB 99.2 kB/s eta 0:00:01\n",
      "     ------------------------ -------------- 61.4/96.6 kB 99.2 kB/s eta 0:00:01\n",
      "     ------------------------ -------------- 61.4/96.6 kB 99.2 kB/s eta 0:00:01\n",
      "     -------------------------------- ----- 81.9/96.6 kB 104.2 kB/s eta 0:00:01\n",
      "     -------------------------------- ----- 81.9/96.6 kB 104.2 kB/s eta 0:00:01\n",
      "     -------------------------------- ----- 81.9/96.6 kB 104.2 kB/s eta 0:00:01\n",
      "     -------------------------------- ----- 81.9/96.6 kB 104.2 kB/s eta 0:00:01\n",
      "     --------------------------------------- 96.6/96.6 kB 96.9 kB/s eta 0:00:00\n",
      "Requirement already satisfied: colorama in c:\\users\\zino0\\appdata\\local\\programs\\python\\python311\\lib\\site-packages (from click>=8.0->flask) (0.4.6)\n",
      "Requirement already satisfied: MarkupSafe>=2.0 in c:\\users\\zino0\\appdata\\local\\programs\\python\\python311\\lib\\site-packages (from Jinja2>=3.0->flask) (2.1.2)\n",
      "Installing collected packages: Werkzeug, itsdangerous, click, flask\n",
      "Successfully installed Werkzeug-2.2.3 click-8.1.3 flask-2.2.3 itsdangerous-2.1.2\n"
     ]
    }
   ],
   "source": [
    "!pip install flask"
   ]
  }
 ],
 "metadata": {
  "kernelspec": {
   "display_name": "Python 3",
   "language": "python",
   "name": "python3"
  },
  "language_info": {
   "codemirror_mode": {
    "name": "ipython",
    "version": 3
   },
   "file_extension": ".py",
   "mimetype": "text/x-python",
   "name": "python",
   "nbconvert_exporter": "python",
   "pygments_lexer": "ipython3",
   "version": "3.11.2"
  },
  "orig_nbformat": 4
 },
 "nbformat": 4,
 "nbformat_minor": 2
}
