{
 "cells": [
  {
   "attachments": {},
   "cell_type": "markdown",
   "metadata": {},
   "source": [
    "## 예제\n",
    "\n",
    "1. test.csv 폴더에 있는 '유통+업종(백화점,+할인점,+슈퍼마켓,+편의점)+카드소비트렌드+데이터_1901_2109'파일을 로드 \n",
    "2. 각 컬럼의 이름을 ['기준연월', '업종', '성별', '연령대', '총이용건수', '총이용금액']\n",
    "3. 기준년월을 시계열데이터로 변경\n",
    "4. 성별 컬럼의 데이터를 1은 남자, 2는 여자로 변경, 9는 무관\n",
    "5. 남, 녀 성별을 기준으로 연도별 건당 이용금액의 평균이 몇인지 출력\n"
   ]
  },
  {
   "cell_type": "code",
   "execution_count": 116,
   "metadata": {},
   "outputs": [],
   "source": [
    "import pandas as pd\n",
    "import numpy as np"
   ]
  },
  {
   "cell_type": "code",
   "execution_count": 117,
   "metadata": {},
   "outputs": [],
   "source": [
    "# pd.read_csv('../test_csv/유통+업종(백화점,+할인점,+슈퍼마켓,+편의점)+카드소비트렌드+데이터_1901_2109.csv') #한글파일 오류 뜸"
   ]
  },
  {
   "cell_type": "code",
   "execution_count": 118,
   "metadata": {},
   "outputs": [
    {
     "data": {
      "text/html": [
       "<div>\n",
       "<style scoped>\n",
       "    .dataframe tbody tr th:only-of-type {\n",
       "        vertical-align: middle;\n",
       "    }\n",
       "\n",
       "    .dataframe tbody tr th {\n",
       "        vertical-align: top;\n",
       "    }\n",
       "\n",
       "    .dataframe thead th {\n",
       "        text-align: right;\n",
       "    }\n",
       "</style>\n",
       "<table border=\"1\" class=\"dataframe\">\n",
       "  <thead>\n",
       "    <tr style=\"text-align: right;\">\n",
       "      <th></th>\n",
       "      <th>crym</th>\n",
       "      <th>tco_btc_nm</th>\n",
       "      <th>ma_fem_dc</th>\n",
       "      <th>agegrp_dc</th>\n",
       "      <th>tco_btc_u_ct</th>\n",
       "      <th>tco_btc_u_am</th>\n",
       "    </tr>\n",
       "  </thead>\n",
       "  <tbody>\n",
       "    <tr>\n",
       "      <th>0</th>\n",
       "      <td>201901</td>\n",
       "      <td>백화점</td>\n",
       "      <td>1</td>\n",
       "      <td>1</td>\n",
       "      <td>1</td>\n",
       "      <td>7600.000000</td>\n",
       "    </tr>\n",
       "    <tr>\n",
       "      <th>1</th>\n",
       "      <td>201901</td>\n",
       "      <td>백화점</td>\n",
       "      <td>1</td>\n",
       "      <td>10</td>\n",
       "      <td>379</td>\n",
       "      <td>19458720.000000</td>\n",
       "    </tr>\n",
       "    <tr>\n",
       "      <th>2</th>\n",
       "      <td>201901</td>\n",
       "      <td>백화점</td>\n",
       "      <td>1</td>\n",
       "      <td>20</td>\n",
       "      <td>45173</td>\n",
       "      <td>4747711001.000000</td>\n",
       "    </tr>\n",
       "    <tr>\n",
       "      <th>3</th>\n",
       "      <td>201901</td>\n",
       "      <td>백화점</td>\n",
       "      <td>1</td>\n",
       "      <td>30</td>\n",
       "      <td>271858</td>\n",
       "      <td>27918261543.000000</td>\n",
       "    </tr>\n",
       "    <tr>\n",
       "      <th>4</th>\n",
       "      <td>201901</td>\n",
       "      <td>백화점</td>\n",
       "      <td>1</td>\n",
       "      <td>40</td>\n",
       "      <td>391109</td>\n",
       "      <td>37911486656.000000</td>\n",
       "    </tr>\n",
       "    <tr>\n",
       "      <th>...</th>\n",
       "      <td>...</td>\n",
       "      <td>...</td>\n",
       "      <td>...</td>\n",
       "      <td>...</td>\n",
       "      <td>...</td>\n",
       "      <td>...</td>\n",
       "    </tr>\n",
       "    <tr>\n",
       "      <th>2643</th>\n",
       "      <td>202109</td>\n",
       "      <td>편의점</td>\n",
       "      <td>2</td>\n",
       "      <td>50</td>\n",
       "      <td>844081</td>\n",
       "      <td>6283353303.000000</td>\n",
       "    </tr>\n",
       "    <tr>\n",
       "      <th>2644</th>\n",
       "      <td>202109</td>\n",
       "      <td>편의점</td>\n",
       "      <td>2</td>\n",
       "      <td>60</td>\n",
       "      <td>243768</td>\n",
       "      <td>1997441975.000000</td>\n",
       "    </tr>\n",
       "    <tr>\n",
       "      <th>2645</th>\n",
       "      <td>202109</td>\n",
       "      <td>편의점</td>\n",
       "      <td>2</td>\n",
       "      <td>70</td>\n",
       "      <td>40523</td>\n",
       "      <td>352420260.000000</td>\n",
       "    </tr>\n",
       "    <tr>\n",
       "      <th>2646</th>\n",
       "      <td>202109</td>\n",
       "      <td>편의점</td>\n",
       "      <td>2</td>\n",
       "      <td>80</td>\n",
       "      <td>6349</td>\n",
       "      <td>53334882.000000</td>\n",
       "    </tr>\n",
       "    <tr>\n",
       "      <th>2647</th>\n",
       "      <td>202109</td>\n",
       "      <td>편의점</td>\n",
       "      <td>2</td>\n",
       "      <td>90</td>\n",
       "      <td>273</td>\n",
       "      <td>2619730.000000</td>\n",
       "    </tr>\n",
       "  </tbody>\n",
       "</table>\n",
       "<p>2648 rows × 6 columns</p>\n",
       "</div>"
      ],
      "text/plain": [
       "        crym tco_btc_nm  ma_fem_dc  agegrp_dc  tco_btc_u_ct  \\\n",
       "0     201901        백화점          1          1             1   \n",
       "1     201901        백화점          1         10           379   \n",
       "2     201901        백화점          1         20         45173   \n",
       "3     201901        백화점          1         30        271858   \n",
       "4     201901        백화점          1         40        391109   \n",
       "...      ...        ...        ...        ...           ...   \n",
       "2643  202109        편의점          2         50        844081   \n",
       "2644  202109        편의점          2         60        243768   \n",
       "2645  202109        편의점          2         70         40523   \n",
       "2646  202109        편의점          2         80          6349   \n",
       "2647  202109        편의점          2         90           273   \n",
       "\n",
       "            tco_btc_u_am  \n",
       "0            7600.000000  \n",
       "1        19458720.000000  \n",
       "2      4747711001.000000  \n",
       "3     27918261543.000000  \n",
       "4     37911486656.000000  \n",
       "...                  ...  \n",
       "2643   6283353303.000000  \n",
       "2644   1997441975.000000  \n",
       "2645    352420260.000000  \n",
       "2646     53334882.000000  \n",
       "2647      2619730.000000  \n",
       "\n",
       "[2648 rows x 6 columns]"
      ]
     },
     "execution_count": 118,
     "metadata": {},
     "output_type": "execute_result"
    }
   ],
   "source": [
    "_df = pd.read_csv('../test_csv/유통+업종(백화점,+할인점,+슈퍼마켓,+편의점)+카드소비트렌드+데이터_1901_2109.csv', encoding='euc-kr') # 엔진바꿔준대, 한글읽으려고\n",
    "_df"
   ]
  },
  {
   "cell_type": "code",
   "execution_count": 119,
   "metadata": {},
   "outputs": [
    {
     "data": {
      "text/plain": [
       "Index(['기준연월', '업종', '성별', '연령대', '총이용건수', '총이용금액'], dtype='object')"
      ]
     },
     "execution_count": 119,
     "metadata": {},
     "output_type": "execute_result"
    }
   ],
   "source": [
    "_df.columns = ['기준연월', '업종', '성별', '연령대', '총이용건수', '총이용금액']\n",
    "_df.columns"
   ]
  },
  {
   "cell_type": "code",
   "execution_count": 120,
   "metadata": {},
   "outputs": [],
   "source": [
    "_df['기준연월'] = pd.to_datetime(_df['기준연월'], format = '%Y%m')"
   ]
  },
  {
   "cell_type": "code",
   "execution_count": 121,
   "metadata": {},
   "outputs": [
    {
     "data": {
      "text/plain": [
       "0       남자\n",
       "1       남자\n",
       "2       남자\n",
       "3       남자\n",
       "4       남자\n",
       "        ..\n",
       "2643    여자\n",
       "2644    여자\n",
       "2645    여자\n",
       "2646    여자\n",
       "2647    여자\n",
       "Name: 성별, Length: 2648, dtype: object"
      ]
     },
     "execution_count": 121,
     "metadata": {},
     "output_type": "execute_result"
    }
   ],
   "source": [
    "_df['성별'].replace({1 : '남자',\n",
    "                   2 : '여자',\n",
    "                   9 : '무관'})"
   ]
  },
  {
   "cell_type": "code",
   "execution_count": 122,
   "metadata": {},
   "outputs": [
    {
     "data": {
      "text/plain": [
       "2    1336\n",
       "1    1312\n",
       "Name: 성별, dtype: int64"
      ]
     },
     "execution_count": 122,
     "metadata": {},
     "output_type": "execute_result"
    }
   ],
   "source": [
    "_df['성별'].value_counts()"
   ]
  },
  {
   "cell_type": "code",
   "execution_count": 123,
   "metadata": {},
   "outputs": [],
   "source": [
    "# 성별 기준 연도별 건당 이용금액 평균\n",
    "# 건당 이용금액\n",
    "\n",
    "_df['건당이용금액'] = _df['총이용금액'] / _df['총이용건수']"
   ]
  },
  {
   "cell_type": "code",
   "execution_count": 124,
   "metadata": {},
   "outputs": [
    {
     "data": {
      "text/html": [
       "<div>\n",
       "<style scoped>\n",
       "    .dataframe tbody tr th:only-of-type {\n",
       "        vertical-align: middle;\n",
       "    }\n",
       "\n",
       "    .dataframe tbody tr th {\n",
       "        vertical-align: top;\n",
       "    }\n",
       "\n",
       "    .dataframe thead th {\n",
       "        text-align: right;\n",
       "    }\n",
       "</style>\n",
       "<table border=\"1\" class=\"dataframe\">\n",
       "  <thead>\n",
       "    <tr style=\"text-align: right;\">\n",
       "      <th></th>\n",
       "      <th>기준연월</th>\n",
       "      <th>업종</th>\n",
       "      <th>성별</th>\n",
       "      <th>연령대</th>\n",
       "      <th>총이용건수</th>\n",
       "      <th>총이용금액</th>\n",
       "      <th>건당이용금액</th>\n",
       "    </tr>\n",
       "  </thead>\n",
       "  <tbody>\n",
       "    <tr>\n",
       "      <th>0</th>\n",
       "      <td>2019-01-01</td>\n",
       "      <td>백화점</td>\n",
       "      <td>1</td>\n",
       "      <td>1</td>\n",
       "      <td>1</td>\n",
       "      <td>7600.000000</td>\n",
       "      <td>7600.000000</td>\n",
       "    </tr>\n",
       "  </tbody>\n",
       "</table>\n",
       "</div>"
      ],
      "text/plain": [
       "        기준연월   업종  성별  연령대  총이용건수        총이용금액       건당이용금액\n",
       "0 2019-01-01  백화점   1    1      1  7600.000000  7600.000000"
      ]
     },
     "execution_count": 124,
     "metadata": {},
     "output_type": "execute_result"
    }
   ],
   "source": [
    "_df.head(1)"
   ]
  },
  {
   "cell_type": "code",
   "execution_count": 125,
   "metadata": {},
   "outputs": [
    {
     "data": {
      "text/html": [
       "<div>\n",
       "<style scoped>\n",
       "    .dataframe tbody tr th:only-of-type {\n",
       "        vertical-align: middle;\n",
       "    }\n",
       "\n",
       "    .dataframe tbody tr th {\n",
       "        vertical-align: top;\n",
       "    }\n",
       "\n",
       "    .dataframe thead th {\n",
       "        text-align: right;\n",
       "    }\n",
       "</style>\n",
       "<table border=\"1\" class=\"dataframe\">\n",
       "  <thead>\n",
       "    <tr style=\"text-align: right;\">\n",
       "      <th></th>\n",
       "      <th>건당이용금액</th>\n",
       "    </tr>\n",
       "    <tr>\n",
       "      <th>성별</th>\n",
       "      <th></th>\n",
       "    </tr>\n",
       "  </thead>\n",
       "  <tbody>\n",
       "    <tr>\n",
       "      <th>1</th>\n",
       "      <td>43069.005758</td>\n",
       "    </tr>\n",
       "    <tr>\n",
       "      <th>2</th>\n",
       "      <td>40690.217796</td>\n",
       "    </tr>\n",
       "  </tbody>\n",
       "</table>\n",
       "</div>"
      ],
      "text/plain": [
       "          건당이용금액\n",
       "성별              \n",
       "1   43069.005758\n",
       "2   40690.217796"
      ]
     },
     "execution_count": 125,
     "metadata": {},
     "output_type": "execute_result"
    }
   ],
   "source": [
    "# 성별기준 건당 이용금액\n",
    "\n",
    "_df[['성별', '건당이용금액']].groupby('성별').mean()"
   ]
  },
  {
   "cell_type": "code",
   "execution_count": 126,
   "metadata": {},
   "outputs": [],
   "source": [
    "# Moon_sol \n",
    "\n",
    "df = pd.read_csv('../test_csv/유통+업종(백화점,+할인점,+슈퍼마켓,+편의점)+카드소비트렌드+데이터_1901_2109.csv', encoding='euc-kr')"
   ]
  },
  {
   "cell_type": "code",
   "execution_count": 127,
   "metadata": {},
   "outputs": [],
   "source": [
    "df.columns = ['기준연월', '업종', '성별', '연령대', '총이용건수', '총이용금액']"
   ]
  },
  {
   "cell_type": "code",
   "execution_count": 128,
   "metadata": {},
   "outputs": [
    {
     "data": {
      "text/html": [
       "<div>\n",
       "<style scoped>\n",
       "    .dataframe tbody tr th:only-of-type {\n",
       "        vertical-align: middle;\n",
       "    }\n",
       "\n",
       "    .dataframe tbody tr th {\n",
       "        vertical-align: top;\n",
       "    }\n",
       "\n",
       "    .dataframe thead th {\n",
       "        text-align: right;\n",
       "    }\n",
       "</style>\n",
       "<table border=\"1\" class=\"dataframe\">\n",
       "  <thead>\n",
       "    <tr style=\"text-align: right;\">\n",
       "      <th></th>\n",
       "      <th>기준연월</th>\n",
       "      <th>업종</th>\n",
       "      <th>성별</th>\n",
       "      <th>연령대</th>\n",
       "      <th>총이용건수</th>\n",
       "      <th>총이용금액</th>\n",
       "    </tr>\n",
       "  </thead>\n",
       "  <tbody>\n",
       "    <tr>\n",
       "      <th>0</th>\n",
       "      <td>201901</td>\n",
       "      <td>백화점</td>\n",
       "      <td>1</td>\n",
       "      <td>1</td>\n",
       "      <td>1</td>\n",
       "      <td>7600.000000</td>\n",
       "    </tr>\n",
       "    <tr>\n",
       "      <th>1</th>\n",
       "      <td>201901</td>\n",
       "      <td>백화점</td>\n",
       "      <td>1</td>\n",
       "      <td>10</td>\n",
       "      <td>379</td>\n",
       "      <td>19458720.000000</td>\n",
       "    </tr>\n",
       "    <tr>\n",
       "      <th>2</th>\n",
       "      <td>201901</td>\n",
       "      <td>백화점</td>\n",
       "      <td>1</td>\n",
       "      <td>20</td>\n",
       "      <td>45173</td>\n",
       "      <td>4747711001.000000</td>\n",
       "    </tr>\n",
       "    <tr>\n",
       "      <th>3</th>\n",
       "      <td>201901</td>\n",
       "      <td>백화점</td>\n",
       "      <td>1</td>\n",
       "      <td>30</td>\n",
       "      <td>271858</td>\n",
       "      <td>27918261543.000000</td>\n",
       "    </tr>\n",
       "    <tr>\n",
       "      <th>4</th>\n",
       "      <td>201901</td>\n",
       "      <td>백화점</td>\n",
       "      <td>1</td>\n",
       "      <td>40</td>\n",
       "      <td>391109</td>\n",
       "      <td>37911486656.000000</td>\n",
       "    </tr>\n",
       "    <tr>\n",
       "      <th>...</th>\n",
       "      <td>...</td>\n",
       "      <td>...</td>\n",
       "      <td>...</td>\n",
       "      <td>...</td>\n",
       "      <td>...</td>\n",
       "      <td>...</td>\n",
       "    </tr>\n",
       "    <tr>\n",
       "      <th>2643</th>\n",
       "      <td>202109</td>\n",
       "      <td>편의점</td>\n",
       "      <td>2</td>\n",
       "      <td>50</td>\n",
       "      <td>844081</td>\n",
       "      <td>6283353303.000000</td>\n",
       "    </tr>\n",
       "    <tr>\n",
       "      <th>2644</th>\n",
       "      <td>202109</td>\n",
       "      <td>편의점</td>\n",
       "      <td>2</td>\n",
       "      <td>60</td>\n",
       "      <td>243768</td>\n",
       "      <td>1997441975.000000</td>\n",
       "    </tr>\n",
       "    <tr>\n",
       "      <th>2645</th>\n",
       "      <td>202109</td>\n",
       "      <td>편의점</td>\n",
       "      <td>2</td>\n",
       "      <td>70</td>\n",
       "      <td>40523</td>\n",
       "      <td>352420260.000000</td>\n",
       "    </tr>\n",
       "    <tr>\n",
       "      <th>2646</th>\n",
       "      <td>202109</td>\n",
       "      <td>편의점</td>\n",
       "      <td>2</td>\n",
       "      <td>80</td>\n",
       "      <td>6349</td>\n",
       "      <td>53334882.000000</td>\n",
       "    </tr>\n",
       "    <tr>\n",
       "      <th>2647</th>\n",
       "      <td>202109</td>\n",
       "      <td>편의점</td>\n",
       "      <td>2</td>\n",
       "      <td>90</td>\n",
       "      <td>273</td>\n",
       "      <td>2619730.000000</td>\n",
       "    </tr>\n",
       "  </tbody>\n",
       "</table>\n",
       "<p>2648 rows × 6 columns</p>\n",
       "</div>"
      ],
      "text/plain": [
       "        기준연월   업종  성별  연령대   총이용건수               총이용금액\n",
       "0     201901  백화점   1    1       1         7600.000000\n",
       "1     201901  백화점   1   10     379     19458720.000000\n",
       "2     201901  백화점   1   20   45173   4747711001.000000\n",
       "3     201901  백화점   1   30  271858  27918261543.000000\n",
       "4     201901  백화점   1   40  391109  37911486656.000000\n",
       "...      ...  ...  ..  ...     ...                 ...\n",
       "2643  202109  편의점   2   50  844081   6283353303.000000\n",
       "2644  202109  편의점   2   60  243768   1997441975.000000\n",
       "2645  202109  편의점   2   70   40523    352420260.000000\n",
       "2646  202109  편의점   2   80    6349     53334882.000000\n",
       "2647  202109  편의점   2   90     273      2619730.000000\n",
       "\n",
       "[2648 rows x 6 columns]"
      ]
     },
     "execution_count": 128,
     "metadata": {},
     "output_type": "execute_result"
    }
   ],
   "source": [
    "df #총이용금액 지수표현 바꿀 수 있을까 "
   ]
  },
  {
   "cell_type": "code",
   "execution_count": 129,
   "metadata": {},
   "outputs": [],
   "source": [
    "# 판다스에서 지수표현 없애기\n",
    "\n",
    "pd.options.display.float_format = '{: 2f}'.format"
   ]
  },
  {
   "cell_type": "code",
   "execution_count": 130,
   "metadata": {},
   "outputs": [
    {
     "data": {
      "text/html": [
       "<div>\n",
       "<style scoped>\n",
       "    .dataframe tbody tr th:only-of-type {\n",
       "        vertical-align: middle;\n",
       "    }\n",
       "\n",
       "    .dataframe tbody tr th {\n",
       "        vertical-align: top;\n",
       "    }\n",
       "\n",
       "    .dataframe thead th {\n",
       "        text-align: right;\n",
       "    }\n",
       "</style>\n",
       "<table border=\"1\" class=\"dataframe\">\n",
       "  <thead>\n",
       "    <tr style=\"text-align: right;\">\n",
       "      <th></th>\n",
       "      <th>기준연월</th>\n",
       "      <th>업종</th>\n",
       "      <th>성별</th>\n",
       "      <th>연령대</th>\n",
       "      <th>총이용건수</th>\n",
       "      <th>총이용금액</th>\n",
       "    </tr>\n",
       "  </thead>\n",
       "  <tbody>\n",
       "    <tr>\n",
       "      <th>0</th>\n",
       "      <td>201901</td>\n",
       "      <td>백화점</td>\n",
       "      <td>1</td>\n",
       "      <td>1</td>\n",
       "      <td>1</td>\n",
       "      <td>7600.000000</td>\n",
       "    </tr>\n",
       "    <tr>\n",
       "      <th>1</th>\n",
       "      <td>201901</td>\n",
       "      <td>백화점</td>\n",
       "      <td>1</td>\n",
       "      <td>10</td>\n",
       "      <td>379</td>\n",
       "      <td>19458720.000000</td>\n",
       "    </tr>\n",
       "    <tr>\n",
       "      <th>2</th>\n",
       "      <td>201901</td>\n",
       "      <td>백화점</td>\n",
       "      <td>1</td>\n",
       "      <td>20</td>\n",
       "      <td>45173</td>\n",
       "      <td>4747711001.000000</td>\n",
       "    </tr>\n",
       "    <tr>\n",
       "      <th>3</th>\n",
       "      <td>201901</td>\n",
       "      <td>백화점</td>\n",
       "      <td>1</td>\n",
       "      <td>30</td>\n",
       "      <td>271858</td>\n",
       "      <td>27918261543.000000</td>\n",
       "    </tr>\n",
       "    <tr>\n",
       "      <th>4</th>\n",
       "      <td>201901</td>\n",
       "      <td>백화점</td>\n",
       "      <td>1</td>\n",
       "      <td>40</td>\n",
       "      <td>391109</td>\n",
       "      <td>37911486656.000000</td>\n",
       "    </tr>\n",
       "  </tbody>\n",
       "</table>\n",
       "</div>"
      ],
      "text/plain": [
       "     기준연월   업종  성별  연령대   총이용건수               총이용금액\n",
       "0  201901  백화점   1    1       1         7600.000000\n",
       "1  201901  백화점   1   10     379     19458720.000000\n",
       "2  201901  백화점   1   20   45173   4747711001.000000\n",
       "3  201901  백화점   1   30  271858  27918261543.000000\n",
       "4  201901  백화점   1   40  391109  37911486656.000000"
      ]
     },
     "execution_count": 130,
     "metadata": {},
     "output_type": "execute_result"
    }
   ],
   "source": [
    "df.head()"
   ]
  },
  {
   "cell_type": "code",
   "execution_count": 131,
   "metadata": {},
   "outputs": [],
   "source": [
    "# 기준연월 데이터 -> 시계열 데이터로 변경\n",
    "\n",
    "df['기준연월'] = pd.to_datetime(df['기준연월'], format = '%Y%m') "
   ]
  },
  {
   "cell_type": "code",
   "execution_count": 132,
   "metadata": {},
   "outputs": [
    {
     "data": {
      "text/html": [
       "<div>\n",
       "<style scoped>\n",
       "    .dataframe tbody tr th:only-of-type {\n",
       "        vertical-align: middle;\n",
       "    }\n",
       "\n",
       "    .dataframe tbody tr th {\n",
       "        vertical-align: top;\n",
       "    }\n",
       "\n",
       "    .dataframe thead th {\n",
       "        text-align: right;\n",
       "    }\n",
       "</style>\n",
       "<table border=\"1\" class=\"dataframe\">\n",
       "  <thead>\n",
       "    <tr style=\"text-align: right;\">\n",
       "      <th></th>\n",
       "      <th>기준연월</th>\n",
       "      <th>업종</th>\n",
       "      <th>성별</th>\n",
       "      <th>연령대</th>\n",
       "      <th>총이용건수</th>\n",
       "      <th>총이용금액</th>\n",
       "    </tr>\n",
       "  </thead>\n",
       "  <tbody>\n",
       "    <tr>\n",
       "      <th>0</th>\n",
       "      <td>2019-01-01</td>\n",
       "      <td>백화점</td>\n",
       "      <td>1</td>\n",
       "      <td>1</td>\n",
       "      <td>1</td>\n",
       "      <td>7600.000000</td>\n",
       "    </tr>\n",
       "    <tr>\n",
       "      <th>1</th>\n",
       "      <td>2019-01-01</td>\n",
       "      <td>백화점</td>\n",
       "      <td>1</td>\n",
       "      <td>10</td>\n",
       "      <td>379</td>\n",
       "      <td>19458720.000000</td>\n",
       "    </tr>\n",
       "    <tr>\n",
       "      <th>2</th>\n",
       "      <td>2019-01-01</td>\n",
       "      <td>백화점</td>\n",
       "      <td>1</td>\n",
       "      <td>20</td>\n",
       "      <td>45173</td>\n",
       "      <td>4747711001.000000</td>\n",
       "    </tr>\n",
       "    <tr>\n",
       "      <th>3</th>\n",
       "      <td>2019-01-01</td>\n",
       "      <td>백화점</td>\n",
       "      <td>1</td>\n",
       "      <td>30</td>\n",
       "      <td>271858</td>\n",
       "      <td>27918261543.000000</td>\n",
       "    </tr>\n",
       "    <tr>\n",
       "      <th>4</th>\n",
       "      <td>2019-01-01</td>\n",
       "      <td>백화점</td>\n",
       "      <td>1</td>\n",
       "      <td>40</td>\n",
       "      <td>391109</td>\n",
       "      <td>37911486656.000000</td>\n",
       "    </tr>\n",
       "  </tbody>\n",
       "</table>\n",
       "</div>"
      ],
      "text/plain": [
       "        기준연월   업종  성별  연령대   총이용건수               총이용금액\n",
       "0 2019-01-01  백화점   1    1       1         7600.000000\n",
       "1 2019-01-01  백화점   1   10     379     19458720.000000\n",
       "2 2019-01-01  백화점   1   20   45173   4747711001.000000\n",
       "3 2019-01-01  백화점   1   30  271858  27918261543.000000\n",
       "4 2019-01-01  백화점   1   40  391109  37911486656.000000"
      ]
     },
     "execution_count": 132,
     "metadata": {},
     "output_type": "execute_result"
    }
   ],
   "source": [
    "df.head()"
   ]
  },
  {
   "cell_type": "code",
   "execution_count": 133,
   "metadata": {},
   "outputs": [],
   "source": [
    "# 인덱스를 기준년월로  설정 \n",
    "\n",
    "df.set_index('기준연월', inplace = True)"
   ]
  },
  {
   "cell_type": "code",
   "execution_count": 134,
   "metadata": {},
   "outputs": [
    {
     "data": {
      "text/plain": [
       "10    264\n",
       "20    264\n",
       "30    264\n",
       "40    264\n",
       "50    264\n",
       "60    264\n",
       "70    264\n",
       "80    264\n",
       "90    264\n",
       "0     233\n",
       "1      39\n",
       "Name: 연령대, dtype: int64"
      ]
     },
     "execution_count": 134,
     "metadata": {},
     "output_type": "execute_result"
    }
   ],
   "source": [
    "# 괴상한 데이터\n",
    "df['연령대'].value_counts()"
   ]
  },
  {
   "cell_type": "code",
   "execution_count": 135,
   "metadata": {},
   "outputs": [
    {
     "data": {
      "text/plain": [
       "여자    1336\n",
       "남자    1312\n",
       "Name: 성별, dtype: int64"
      ]
     },
     "execution_count": 135,
     "metadata": {},
     "output_type": "execute_result"
    }
   ],
   "source": [
    "# 성별 컬럼에서 1은 남자, 2는 여자, 9는 무관 - 방법은 여러가지 \n",
    "\n",
    "# Case I. apply() \n",
    "\n",
    "def change(x) : \n",
    "    if x == 1 :\n",
    "        result = '남자'\n",
    "    elif x == 2 :\n",
    "        result = '여자'\n",
    "    elif x == 9 :\n",
    "        result = '무관'\n",
    "    else :\n",
    "        result = '-'\n",
    "    return result\n",
    "\n",
    "# df['성별'].apply(change)\n",
    "df['성별'].apply(change).value_counts()\n"
   ]
  },
  {
   "cell_type": "code",
   "execution_count": 136,
   "metadata": {},
   "outputs": [
    {
     "data": {
      "text/plain": [
       "기준연월\n",
       "2019-01-01    남자\n",
       "2019-01-01    남자\n",
       "2019-01-01    남자\n",
       "2019-01-01    남자\n",
       "2019-01-01    남자\n",
       "              ..\n",
       "2021-09-01    여자\n",
       "2021-09-01    여자\n",
       "2021-09-01    여자\n",
       "2021-09-01    여자\n",
       "2021-09-01    여자\n",
       "Name: 성별, Length: 2648, dtype: object"
      ]
     },
     "execution_count": 136,
     "metadata": {},
     "output_type": "execute_result"
    }
   ],
   "source": [
    "# Case II. lambda()\n",
    "\n",
    "df['성별'].apply(lambda x : '남자' if (x == 1) else ('여자' if (x == 2) else \"무관\"))"
   ]
  },
  {
   "cell_type": "code",
   "execution_count": 137,
   "metadata": {},
   "outputs": [],
   "source": [
    "# Case III. replace()\n",
    "\n",
    "df['성별'] = df['성별'].replace(\n",
    "    {\n",
    "    1 : '남자',\n",
    "    2 : '여자',\n",
    "    9 : '무관'\n",
    "    }\n",
    ")"
   ]
  },
  {
   "cell_type": "code",
   "execution_count": 138,
   "metadata": {},
   "outputs": [
    {
     "data": {
      "text/plain": [
       "기준연월\n",
       "2019-01-01    남자\n",
       "2019-01-01    남자\n",
       "2019-01-01    남자\n",
       "2019-01-01    남자\n",
       "2019-01-01    남자\n",
       "              ..\n",
       "2021-09-01    여자\n",
       "2021-09-01    여자\n",
       "2021-09-01    여자\n",
       "2021-09-01    여자\n",
       "2021-09-01    여자\n",
       "Name: 성별, Length: 2648, dtype: object"
      ]
     },
     "execution_count": 138,
     "metadata": {},
     "output_type": "execute_result"
    }
   ],
   "source": [
    "df['성별']"
   ]
  },
  {
   "cell_type": "code",
   "execution_count": 139,
   "metadata": {},
   "outputs": [],
   "source": [
    "#남녀 성별을 기준으로 연도별 건당 이용금액의 평균이 몇인지 \n",
    "\n",
    "#연도 파생변수 생성\n",
    "\n",
    "df['연도'] = df.index.strftime('%Y')"
   ]
  },
  {
   "cell_type": "code",
   "execution_count": 140,
   "metadata": {},
   "outputs": [
    {
     "data": {
      "text/html": [
       "<div>\n",
       "<style scoped>\n",
       "    .dataframe tbody tr th:only-of-type {\n",
       "        vertical-align: middle;\n",
       "    }\n",
       "\n",
       "    .dataframe tbody tr th {\n",
       "        vertical-align: top;\n",
       "    }\n",
       "\n",
       "    .dataframe thead th {\n",
       "        text-align: right;\n",
       "    }\n",
       "</style>\n",
       "<table border=\"1\" class=\"dataframe\">\n",
       "  <thead>\n",
       "    <tr style=\"text-align: right;\">\n",
       "      <th></th>\n",
       "      <th>업종</th>\n",
       "      <th>성별</th>\n",
       "      <th>연령대</th>\n",
       "      <th>총이용건수</th>\n",
       "      <th>총이용금액</th>\n",
       "      <th>연도</th>\n",
       "    </tr>\n",
       "    <tr>\n",
       "      <th>기준연월</th>\n",
       "      <th></th>\n",
       "      <th></th>\n",
       "      <th></th>\n",
       "      <th></th>\n",
       "      <th></th>\n",
       "      <th></th>\n",
       "    </tr>\n",
       "  </thead>\n",
       "  <tbody>\n",
       "    <tr>\n",
       "      <th>2019-01-01</th>\n",
       "      <td>백화점</td>\n",
       "      <td>남자</td>\n",
       "      <td>1</td>\n",
       "      <td>1</td>\n",
       "      <td>7600.000000</td>\n",
       "      <td>2019</td>\n",
       "    </tr>\n",
       "    <tr>\n",
       "      <th>2019-01-01</th>\n",
       "      <td>백화점</td>\n",
       "      <td>남자</td>\n",
       "      <td>10</td>\n",
       "      <td>379</td>\n",
       "      <td>19458720.000000</td>\n",
       "      <td>2019</td>\n",
       "    </tr>\n",
       "    <tr>\n",
       "      <th>2019-01-01</th>\n",
       "      <td>백화점</td>\n",
       "      <td>남자</td>\n",
       "      <td>20</td>\n",
       "      <td>45173</td>\n",
       "      <td>4747711001.000000</td>\n",
       "      <td>2019</td>\n",
       "    </tr>\n",
       "    <tr>\n",
       "      <th>2019-01-01</th>\n",
       "      <td>백화점</td>\n",
       "      <td>남자</td>\n",
       "      <td>30</td>\n",
       "      <td>271858</td>\n",
       "      <td>27918261543.000000</td>\n",
       "      <td>2019</td>\n",
       "    </tr>\n",
       "    <tr>\n",
       "      <th>2019-01-01</th>\n",
       "      <td>백화점</td>\n",
       "      <td>남자</td>\n",
       "      <td>40</td>\n",
       "      <td>391109</td>\n",
       "      <td>37911486656.000000</td>\n",
       "      <td>2019</td>\n",
       "    </tr>\n",
       "  </tbody>\n",
       "</table>\n",
       "</div>"
      ],
      "text/plain": [
       "             업종  성별  연령대   총이용건수               총이용금액    연도\n",
       "기준연월                                                      \n",
       "2019-01-01  백화점  남자    1       1         7600.000000  2019\n",
       "2019-01-01  백화점  남자   10     379     19458720.000000  2019\n",
       "2019-01-01  백화점  남자   20   45173   4747711001.000000  2019\n",
       "2019-01-01  백화점  남자   30  271858  27918261543.000000  2019\n",
       "2019-01-01  백화점  남자   40  391109  37911486656.000000  2019"
      ]
     },
     "execution_count": 140,
     "metadata": {},
     "output_type": "execute_result"
    }
   ],
   "source": [
    "df.head()"
   ]
  },
  {
   "cell_type": "code",
   "execution_count": 141,
   "metadata": {},
   "outputs": [
    {
     "data": {
      "text/html": [
       "<div>\n",
       "<style scoped>\n",
       "    .dataframe tbody tr th:only-of-type {\n",
       "        vertical-align: middle;\n",
       "    }\n",
       "\n",
       "    .dataframe tbody tr th {\n",
       "        vertical-align: top;\n",
       "    }\n",
       "\n",
       "    .dataframe thead th {\n",
       "        text-align: right;\n",
       "    }\n",
       "</style>\n",
       "<table border=\"1\" class=\"dataframe\">\n",
       "  <thead>\n",
       "    <tr style=\"text-align: right;\">\n",
       "      <th></th>\n",
       "      <th>업종</th>\n",
       "      <th>성별</th>\n",
       "      <th>연령대</th>\n",
       "      <th>총이용건수</th>\n",
       "      <th>총이용금액</th>\n",
       "      <th>연도</th>\n",
       "      <th>건당이용금액</th>\n",
       "    </tr>\n",
       "    <tr>\n",
       "      <th>기준연월</th>\n",
       "      <th></th>\n",
       "      <th></th>\n",
       "      <th></th>\n",
       "      <th></th>\n",
       "      <th></th>\n",
       "      <th></th>\n",
       "      <th></th>\n",
       "    </tr>\n",
       "  </thead>\n",
       "  <tbody>\n",
       "    <tr>\n",
       "      <th>2019-01-01</th>\n",
       "      <td>백화점</td>\n",
       "      <td>남자</td>\n",
       "      <td>1</td>\n",
       "      <td>1</td>\n",
       "      <td>7600.000000</td>\n",
       "      <td>2019</td>\n",
       "      <td>7600.000000</td>\n",
       "    </tr>\n",
       "    <tr>\n",
       "      <th>2019-01-01</th>\n",
       "      <td>백화점</td>\n",
       "      <td>남자</td>\n",
       "      <td>10</td>\n",
       "      <td>379</td>\n",
       "      <td>19458720.000000</td>\n",
       "      <td>2019</td>\n",
       "      <td>51342.269129</td>\n",
       "    </tr>\n",
       "    <tr>\n",
       "      <th>2019-01-01</th>\n",
       "      <td>백화점</td>\n",
       "      <td>남자</td>\n",
       "      <td>20</td>\n",
       "      <td>45173</td>\n",
       "      <td>4747711001.000000</td>\n",
       "      <td>2019</td>\n",
       "      <td>105100.635357</td>\n",
       "    </tr>\n",
       "    <tr>\n",
       "      <th>2019-01-01</th>\n",
       "      <td>백화점</td>\n",
       "      <td>남자</td>\n",
       "      <td>30</td>\n",
       "      <td>271858</td>\n",
       "      <td>27918261543.000000</td>\n",
       "      <td>2019</td>\n",
       "      <td>102694.279892</td>\n",
       "    </tr>\n",
       "    <tr>\n",
       "      <th>2019-01-01</th>\n",
       "      <td>백화점</td>\n",
       "      <td>남자</td>\n",
       "      <td>40</td>\n",
       "      <td>391109</td>\n",
       "      <td>37911486656.000000</td>\n",
       "      <td>2019</td>\n",
       "      <td>96933.301601</td>\n",
       "    </tr>\n",
       "  </tbody>\n",
       "</table>\n",
       "</div>"
      ],
      "text/plain": [
       "             업종  성별  연령대   총이용건수               총이용금액    연도         건당이용금액\n",
       "기준연월                                                                     \n",
       "2019-01-01  백화점  남자    1       1         7600.000000  2019    7600.000000\n",
       "2019-01-01  백화점  남자   10     379     19458720.000000  2019   51342.269129\n",
       "2019-01-01  백화점  남자   20   45173   4747711001.000000  2019  105100.635357\n",
       "2019-01-01  백화점  남자   30  271858  27918261543.000000  2019  102694.279892\n",
       "2019-01-01  백화점  남자   40  391109  37911486656.000000  2019   96933.301601"
      ]
     },
     "execution_count": 141,
     "metadata": {},
     "output_type": "execute_result"
    }
   ],
   "source": [
    "# 건당 이용금액 파생변수 생성\n",
    "# 총이용 금액 / 총이용 건수 \n",
    "\n",
    "df['건당이용금액'] = df['총이용금액'] / df['총이용건수']\n",
    "\n",
    "df.head()"
   ]
  },
  {
   "cell_type": "code",
   "execution_count": 142,
   "metadata": {},
   "outputs": [],
   "source": [
    "import platform "
   ]
  },
  {
   "cell_type": "code",
   "execution_count": 143,
   "metadata": {},
   "outputs": [],
   "source": [
    "import matplotlib.pyplot as plt"
   ]
  },
  {
   "cell_type": "code",
   "execution_count": 144,
   "metadata": {},
   "outputs": [],
   "source": [
    "#그래프에서 한글 깨짐 방지(위 셀 2개 에서 불러옴)위 셀2개랑, 지금 셀은 세트로 쓰자 \n",
    "import platform \n",
    "import matplotlib.pyplot as plt\n",
    "if platform.system() == 'Darwin' : # MAC 인 경우\n",
    "    plt.rc('font', family = 'AppleGothic')\n",
    "    \n",
    "else :\n",
    "    plt.rc('font', family = 'Malgun Gothic')\n",
    "\n",
    "\n"
   ]
  },
  {
   "cell_type": "code",
   "execution_count": 145,
   "metadata": {},
   "outputs": [
    {
     "data": {
      "text/html": [
       "<div>\n",
       "<style scoped>\n",
       "    .dataframe tbody tr th:only-of-type {\n",
       "        vertical-align: middle;\n",
       "    }\n",
       "\n",
       "    .dataframe tbody tr th {\n",
       "        vertical-align: top;\n",
       "    }\n",
       "\n",
       "    .dataframe thead th {\n",
       "        text-align: right;\n",
       "    }\n",
       "</style>\n",
       "<table border=\"1\" class=\"dataframe\">\n",
       "  <thead>\n",
       "    <tr style=\"text-align: right;\">\n",
       "      <th></th>\n",
       "      <th></th>\n",
       "      <th>건당이용금액</th>\n",
       "    </tr>\n",
       "    <tr>\n",
       "      <th>연도</th>\n",
       "      <th>성별</th>\n",
       "      <th></th>\n",
       "    </tr>\n",
       "  </thead>\n",
       "  <tbody>\n",
       "    <tr>\n",
       "      <th rowspan=\"2\" valign=\"top\">2019</th>\n",
       "      <th>남자</th>\n",
       "      <td>39184.349662</td>\n",
       "    </tr>\n",
       "    <tr>\n",
       "      <th>여자</th>\n",
       "      <td>38107.838544</td>\n",
       "    </tr>\n",
       "    <tr>\n",
       "      <th rowspan=\"2\" valign=\"top\">2020</th>\n",
       "      <th>남자</th>\n",
       "      <td>44009.589591</td>\n",
       "    </tr>\n",
       "    <tr>\n",
       "      <th>여자</th>\n",
       "      <td>41389.763130</td>\n",
       "    </tr>\n",
       "    <tr>\n",
       "      <th rowspan=\"2\" valign=\"top\">2021</th>\n",
       "      <th>남자</th>\n",
       "      <td>46948.320084</td>\n",
       "    </tr>\n",
       "    <tr>\n",
       "      <th>여자</th>\n",
       "      <td>43306.318972</td>\n",
       "    </tr>\n",
       "  </tbody>\n",
       "</table>\n",
       "</div>"
      ],
      "text/plain": [
       "               건당이용금액\n",
       "연도   성별              \n",
       "2019 남자  39184.349662\n",
       "     여자  38107.838544\n",
       "2020 남자  44009.589591\n",
       "     여자  41389.763130\n",
       "2021 남자  46948.320084\n",
       "     여자  43306.318972"
      ]
     },
     "execution_count": 145,
     "metadata": {},
     "output_type": "execute_result"
    }
   ],
   "source": [
    "df[['성별', '연도', '건당이용금액']].groupby(['연도','성별']).mean()"
   ]
  },
  {
   "cell_type": "code",
   "execution_count": 146,
   "metadata": {},
   "outputs": [
    {
     "data": {
      "text/plain": [
       "<Axes: xlabel='연도,성별'>"
      ]
     },
     "execution_count": 146,
     "metadata": {},
     "output_type": "execute_result"
    },
    {
     "data": {
      "image/png": "[encoded data removed]",
      "text/plain": [
       "<Figure size 640x480 with 1 Axes>"
      ]
     },
     "metadata": {},
     "output_type": "display_data"
    }
   ],
   "source": [
    "(df[['성별', '연도', '건당이용금액']].groupby(['연도','성별']).mean()).plot.bar()\n",
    "\n",
    "# 밑에 그래프 보면, 한글 부분 다 깨짐 (위에서 한글깨짐 방지하기 전에는)\n",
    "\n",
    "# 한글깨짐 방지 후에는 "
   ]
  },
  {
   "cell_type": "code",
   "execution_count": 147,
   "metadata": {},
   "outputs": [
    {
     "data": {
      "text/html": [
       "<div>\n",
       "<style scoped>\n",
       "    .dataframe tbody tr th:only-of-type {\n",
       "        vertical-align: middle;\n",
       "    }\n",
       "\n",
       "    .dataframe tbody tr th {\n",
       "        vertical-align: top;\n",
       "    }\n",
       "\n",
       "    .dataframe thead th {\n",
       "        text-align: right;\n",
       "    }\n",
       "</style>\n",
       "<table border=\"1\" class=\"dataframe\">\n",
       "  <thead>\n",
       "    <tr style=\"text-align: right;\">\n",
       "      <th>성별</th>\n",
       "      <th>남자</th>\n",
       "      <th>여자</th>\n",
       "    </tr>\n",
       "    <tr>\n",
       "      <th>연도</th>\n",
       "      <th></th>\n",
       "      <th></th>\n",
       "    </tr>\n",
       "  </thead>\n",
       "  <tbody>\n",
       "    <tr>\n",
       "      <th>2019</th>\n",
       "      <td>39184.349662</td>\n",
       "      <td>38107.838544</td>\n",
       "    </tr>\n",
       "    <tr>\n",
       "      <th>2020</th>\n",
       "      <td>44009.589591</td>\n",
       "      <td>41389.763130</td>\n",
       "    </tr>\n",
       "    <tr>\n",
       "      <th>2021</th>\n",
       "      <td>46948.320084</td>\n",
       "      <td>43306.318972</td>\n",
       "    </tr>\n",
       "  </tbody>\n",
       "</table>\n",
       "</div>"
      ],
      "text/plain": [
       "성별              남자            여자\n",
       "연도                              \n",
       "2019  39184.349662  38107.838544\n",
       "2020  44009.589591  41389.763130\n",
       "2021  46948.320084  43306.318972"
      ]
     },
     "execution_count": 147,
     "metadata": {},
     "output_type": "execute_result"
    }
   ],
   "source": [
    "# 피벗으로도 그래프 만들어보자 sum 만들어볼까\n",
    " \n",
    "pivot = pd.pivot_table(\n",
    "    df,\n",
    "    index = '연도',\n",
    "    columns= '성별',\n",
    "    aggfunc= 'mean',\n",
    "    values= '건당이용금액'\n",
    ")\n",
    "\n",
    "pivot"
   ]
  },
  {
   "cell_type": "code",
   "execution_count": 148,
   "metadata": {},
   "outputs": [
    {
     "data": {
      "text/plain": [
       "<Axes: xlabel='연도'>"
      ]
     },
     "execution_count": 148,
     "metadata": {},
     "output_type": "execute_result"
    },
    {
     "data": {
      "image/png": "[encoded data removed]",
      "text/plain": [
       "<Figure size 640x480 with 1 Axes>"
      ]
     },
     "metadata": {},
     "output_type": "display_data"
    }
   ],
   "source": [
    "pivot.plot.bar()"
   ]
  },
  {
   "attachments": {},
   "cell_type": "markdown",
   "metadata": {},
   "source": [
    "### 온라인 카드 매출 과 오프라인 카드 매출을 월별로 비교\n",
    "    - covid-19으로 인해 온,오프라인 매출 변화 있었는지 확인하기 위해\n",
    "\n",
    "1. 오프라인 데이터 df를 월별로 그룹화 총이용금액의 합계\n",
    "    - index는 기준년월을 시계열로 변경한 데이터로 설정\n",
    "2. 온라인 데이터 df_online도 월별로 그룹화 총이용금액의 합계 \n",
    "    - 인덱스는 기준년월을 시계열로 변경한 데이터로 설정\n",
    "    \n",
    "    "
   ]
  },
  {
   "cell_type": "code",
   "execution_count": 149,
   "metadata": {},
   "outputs": [
    {
     "data": {
      "text/html": [
       "<div>\n",
       "<style scoped>\n",
       "    .dataframe tbody tr th:only-of-type {\n",
       "        vertical-align: middle;\n",
       "    }\n",
       "\n",
       "    .dataframe tbody tr th {\n",
       "        vertical-align: top;\n",
       "    }\n",
       "\n",
       "    .dataframe thead th {\n",
       "        text-align: right;\n",
       "    }\n",
       "</style>\n",
       "<table border=\"1\" class=\"dataframe\">\n",
       "  <thead>\n",
       "    <tr style=\"text-align: right;\">\n",
       "      <th></th>\n",
       "      <th>업종</th>\n",
       "      <th>성별</th>\n",
       "      <th>연령대</th>\n",
       "      <th>총이용건수</th>\n",
       "      <th>총이용금액</th>\n",
       "      <th>연도</th>\n",
       "      <th>건당이용금액</th>\n",
       "    </tr>\n",
       "    <tr>\n",
       "      <th>기준연월</th>\n",
       "      <th></th>\n",
       "      <th></th>\n",
       "      <th></th>\n",
       "      <th></th>\n",
       "      <th></th>\n",
       "      <th></th>\n",
       "      <th></th>\n",
       "    </tr>\n",
       "  </thead>\n",
       "  <tbody>\n",
       "    <tr>\n",
       "      <th>2019-01-01</th>\n",
       "      <td>백화점</td>\n",
       "      <td>남자</td>\n",
       "      <td>1</td>\n",
       "      <td>1</td>\n",
       "      <td>7600.000000</td>\n",
       "      <td>2019</td>\n",
       "      <td>7600.000000</td>\n",
       "    </tr>\n",
       "    <tr>\n",
       "      <th>2019-01-01</th>\n",
       "      <td>백화점</td>\n",
       "      <td>남자</td>\n",
       "      <td>10</td>\n",
       "      <td>379</td>\n",
       "      <td>19458720.000000</td>\n",
       "      <td>2019</td>\n",
       "      <td>51342.269129</td>\n",
       "    </tr>\n",
       "    <tr>\n",
       "      <th>2019-01-01</th>\n",
       "      <td>백화점</td>\n",
       "      <td>남자</td>\n",
       "      <td>20</td>\n",
       "      <td>45173</td>\n",
       "      <td>4747711001.000000</td>\n",
       "      <td>2019</td>\n",
       "      <td>105100.635357</td>\n",
       "    </tr>\n",
       "    <tr>\n",
       "      <th>2019-01-01</th>\n",
       "      <td>백화점</td>\n",
       "      <td>남자</td>\n",
       "      <td>30</td>\n",
       "      <td>271858</td>\n",
       "      <td>27918261543.000000</td>\n",
       "      <td>2019</td>\n",
       "      <td>102694.279892</td>\n",
       "    </tr>\n",
       "    <tr>\n",
       "      <th>2019-01-01</th>\n",
       "      <td>백화점</td>\n",
       "      <td>남자</td>\n",
       "      <td>40</td>\n",
       "      <td>391109</td>\n",
       "      <td>37911486656.000000</td>\n",
       "      <td>2019</td>\n",
       "      <td>96933.301601</td>\n",
       "    </tr>\n",
       "    <tr>\n",
       "      <th>...</th>\n",
       "      <td>...</td>\n",
       "      <td>...</td>\n",
       "      <td>...</td>\n",
       "      <td>...</td>\n",
       "      <td>...</td>\n",
       "      <td>...</td>\n",
       "      <td>...</td>\n",
       "    </tr>\n",
       "    <tr>\n",
       "      <th>2021-09-01</th>\n",
       "      <td>편의점</td>\n",
       "      <td>여자</td>\n",
       "      <td>50</td>\n",
       "      <td>844081</td>\n",
       "      <td>6283353303.000000</td>\n",
       "      <td>2021</td>\n",
       "      <td>7444.016988</td>\n",
       "    </tr>\n",
       "    <tr>\n",
       "      <th>2021-09-01</th>\n",
       "      <td>편의점</td>\n",
       "      <td>여자</td>\n",
       "      <td>60</td>\n",
       "      <td>243768</td>\n",
       "      <td>1997441975.000000</td>\n",
       "      <td>2021</td>\n",
       "      <td>8194.028646</td>\n",
       "    </tr>\n",
       "    <tr>\n",
       "      <th>2021-09-01</th>\n",
       "      <td>편의점</td>\n",
       "      <td>여자</td>\n",
       "      <td>70</td>\n",
       "      <td>40523</td>\n",
       "      <td>352420260.000000</td>\n",
       "      <td>2021</td>\n",
       "      <td>8696.795894</td>\n",
       "    </tr>\n",
       "    <tr>\n",
       "      <th>2021-09-01</th>\n",
       "      <td>편의점</td>\n",
       "      <td>여자</td>\n",
       "      <td>80</td>\n",
       "      <td>6349</td>\n",
       "      <td>53334882.000000</td>\n",
       "      <td>2021</td>\n",
       "      <td>8400.516932</td>\n",
       "    </tr>\n",
       "    <tr>\n",
       "      <th>2021-09-01</th>\n",
       "      <td>편의점</td>\n",
       "      <td>여자</td>\n",
       "      <td>90</td>\n",
       "      <td>273</td>\n",
       "      <td>2619730.000000</td>\n",
       "      <td>2021</td>\n",
       "      <td>9596.080586</td>\n",
       "    </tr>\n",
       "  </tbody>\n",
       "</table>\n",
       "<p>2648 rows × 7 columns</p>\n",
       "</div>"
      ],
      "text/plain": [
       "             업종  성별  연령대   총이용건수               총이용금액    연도         건당이용금액\n",
       "기준연월                                                                     \n",
       "2019-01-01  백화점  남자    1       1         7600.000000  2019    7600.000000\n",
       "2019-01-01  백화점  남자   10     379     19458720.000000  2019   51342.269129\n",
       "2019-01-01  백화점  남자   20   45173   4747711001.000000  2019  105100.635357\n",
       "2019-01-01  백화점  남자   30  271858  27918261543.000000  2019  102694.279892\n",
       "2019-01-01  백화점  남자   40  391109  37911486656.000000  2019   96933.301601\n",
       "...         ...  ..  ...     ...                 ...   ...            ...\n",
       "2021-09-01  편의점  여자   50  844081   6283353303.000000  2021    7444.016988\n",
       "2021-09-01  편의점  여자   60  243768   1997441975.000000  2021    8194.028646\n",
       "2021-09-01  편의점  여자   70   40523    352420260.000000  2021    8696.795894\n",
       "2021-09-01  편의점  여자   80    6349     53334882.000000  2021    8400.516932\n",
       "2021-09-01  편의점  여자   90     273      2619730.000000  2021    9596.080586\n",
       "\n",
       "[2648 rows x 7 columns]"
      ]
     },
     "execution_count": 149,
     "metadata": {},
     "output_type": "execute_result"
    }
   ],
   "source": [
    "df\n"
   ]
  },
  {
   "cell_type": "code",
   "execution_count": 150,
   "metadata": {},
   "outputs": [
    {
     "name": "stderr",
     "output_type": "stream",
     "text": [
      "C:\\Users\\zino0\\AppData\\Local\\Temp\\ipykernel_7372\\2099672582.py:1: FutureWarning: The default value of numeric_only in DataFrameGroupBy.sum is deprecated. In a future version, numeric_only will default to False. Either specify numeric_only or select only columns which should be valid for the function.\n",
      "  group_data = df.groupby(df.index).sum()['총이용금액'] # df.index 대신 '기준연월'바로 써도 되긴 함\n"
     ]
    }
   ],
   "source": [
    "group_data = df.groupby(df.index).sum()['총이용금액'] # df.index 대신 '기준연월'바로 써도 되긴 함\n",
    "                                        # ['총이용금액']까지 붙이면, 데이터형태는 시리즈"
   ]
  },
  {
   "cell_type": "code",
   "execution_count": 151,
   "metadata": {},
   "outputs": [],
   "source": [
    "df_online = pd.read_csv('../test_csv/온라인+카드소비트렌드+데이터_1901_2109.csv')"
   ]
  },
  {
   "cell_type": "code",
   "execution_count": 152,
   "metadata": {},
   "outputs": [
    {
     "data": {
      "text/html": [
       "<div>\n",
       "<style scoped>\n",
       "    .dataframe tbody tr th:only-of-type {\n",
       "        vertical-align: middle;\n",
       "    }\n",
       "\n",
       "    .dataframe tbody tr th {\n",
       "        vertical-align: top;\n",
       "    }\n",
       "\n",
       "    .dataframe thead th {\n",
       "        text-align: right;\n",
       "    }\n",
       "</style>\n",
       "<table border=\"1\" class=\"dataframe\">\n",
       "  <thead>\n",
       "    <tr style=\"text-align: right;\">\n",
       "      <th></th>\n",
       "      <th>crym</th>\n",
       "      <th>ma_fem_dc</th>\n",
       "      <th>agegrp_dc</th>\n",
       "      <th>tco_btc_u_ct</th>\n",
       "      <th>tco_btc_u_am</th>\n",
       "    </tr>\n",
       "  </thead>\n",
       "  <tbody>\n",
       "    <tr>\n",
       "      <th>0</th>\n",
       "      <td>201901</td>\n",
       "      <td>1</td>\n",
       "      <td>1</td>\n",
       "      <td>1</td>\n",
       "      <td>110685</td>\n",
       "    </tr>\n",
       "    <tr>\n",
       "      <th>1</th>\n",
       "      <td>201901</td>\n",
       "      <td>1</td>\n",
       "      <td>10</td>\n",
       "      <td>2333</td>\n",
       "      <td>98108225</td>\n",
       "    </tr>\n",
       "    <tr>\n",
       "      <th>2</th>\n",
       "      <td>201901</td>\n",
       "      <td>1</td>\n",
       "      <td>20</td>\n",
       "      <td>272915</td>\n",
       "      <td>13854081656</td>\n",
       "    </tr>\n",
       "    <tr>\n",
       "      <th>3</th>\n",
       "      <td>201901</td>\n",
       "      <td>1</td>\n",
       "      <td>30</td>\n",
       "      <td>1320227</td>\n",
       "      <td>82946127640</td>\n",
       "    </tr>\n",
       "    <tr>\n",
       "      <th>4</th>\n",
       "      <td>201901</td>\n",
       "      <td>1</td>\n",
       "      <td>40</td>\n",
       "      <td>1372052</td>\n",
       "      <td>95550848337</td>\n",
       "    </tr>\n",
       "  </tbody>\n",
       "</table>\n",
       "</div>"
      ],
      "text/plain": [
       "     crym  ma_fem_dc  agegrp_dc  tco_btc_u_ct  tco_btc_u_am\n",
       "0  201901          1          1             1        110685\n",
       "1  201901          1         10          2333      98108225\n",
       "2  201901          1         20        272915   13854081656\n",
       "3  201901          1         30       1320227   82946127640\n",
       "4  201901          1         40       1372052   95550848337"
      ]
     },
     "execution_count": 152,
     "metadata": {},
     "output_type": "execute_result"
    }
   ],
   "source": [
    "df_online.head()"
   ]
  },
  {
   "cell_type": "code",
   "execution_count": 153,
   "metadata": {},
   "outputs": [],
   "source": [
    "# 컬럼의 이름을 변경\n",
    "\n",
    "df_online.columns = ['기준년월', '성별', '연령대', '총이용건수', '총이용금액']"
   ]
  },
  {
   "cell_type": "code",
   "execution_count": 154,
   "metadata": {},
   "outputs": [],
   "source": [
    "# 기준년월을 시계열로 변경하고 인덱스로 설정\n",
    "\n",
    "df_online['기준년월'] = pd.to_datetime(df_online['기준년월'], format = '%Y%m')"
   ]
  },
  {
   "cell_type": "code",
   "execution_count": 155,
   "metadata": {},
   "outputs": [],
   "source": [
    "df_online.set_index('기준년월', inplace= True)"
   ]
  },
  {
   "cell_type": "code",
   "execution_count": 156,
   "metadata": {},
   "outputs": [],
   "source": [
    "# 그룹화 \n",
    "\n",
    "group_data2 = df_online.groupby('기준년월').sum()['총이용금액']"
   ]
  },
  {
   "cell_type": "code",
   "execution_count": 157,
   "metadata": {},
   "outputs": [
    {
     "data": {
      "image/png": "[encoded data removed]",
      "text/plain": [
       "<Figure size 1400x600 with 1 Axes>"
      ]
     },
     "metadata": {},
     "output_type": "display_data"
    }
   ],
   "source": [
    "# 그래프로 시각화\\\n",
    "\n",
    "\n",
    "# 그래프 사이즈 변경\n",
    "plt.figure(figsize = (14, 6))\n",
    "\n",
    "# grid 추가\n",
    "plt.grid(True, axis = 'y')\n",
    "\n",
    "#지수표현 제거\n",
    "plt.ticklabel_format(axis = 'y', style = 'plain')\n",
    "\n",
    "\n",
    "plt.plot(group_data, label = '오프라인') # 라벨 안나옴. 그냥 지정만 한거야\n",
    "plt.plot(group_data2, label = '온라인')\n",
    "plt.title('온라인/오프라인 카드매출 비교')\n",
    "plt.legend()            # 이거 해줘야, 라벨 나옴 . \n",
    "\n",
    "\n",
    "plt.show()"
   ]
  },
  {
   "cell_type": "code",
   "execution_count": 158,
   "metadata": {},
   "outputs": [
    {
     "data": {
      "text/html": [
       "<div>\n",
       "<style scoped>\n",
       "    .dataframe tbody tr th:only-of-type {\n",
       "        vertical-align: middle;\n",
       "    }\n",
       "\n",
       "    .dataframe tbody tr th {\n",
       "        vertical-align: top;\n",
       "    }\n",
       "\n",
       "    .dataframe thead th {\n",
       "        text-align: right;\n",
       "    }\n",
       "</style>\n",
       "<table border=\"1\" class=\"dataframe\">\n",
       "  <thead>\n",
       "    <tr style=\"text-align: right;\">\n",
       "      <th></th>\n",
       "      <th>업종</th>\n",
       "      <th>성별</th>\n",
       "      <th>연령대</th>\n",
       "      <th>총이용건수</th>\n",
       "      <th>총이용금액</th>\n",
       "      <th>연도</th>\n",
       "      <th>건당이용금액</th>\n",
       "    </tr>\n",
       "    <tr>\n",
       "      <th>기준연월</th>\n",
       "      <th></th>\n",
       "      <th></th>\n",
       "      <th></th>\n",
       "      <th></th>\n",
       "      <th></th>\n",
       "      <th></th>\n",
       "      <th></th>\n",
       "    </tr>\n",
       "  </thead>\n",
       "  <tbody>\n",
       "    <tr>\n",
       "      <th>2019-01-01</th>\n",
       "      <td>백화점</td>\n",
       "      <td>남자</td>\n",
       "      <td>1</td>\n",
       "      <td>1</td>\n",
       "      <td>7600.000000</td>\n",
       "      <td>2019</td>\n",
       "      <td>7600.000000</td>\n",
       "    </tr>\n",
       "  </tbody>\n",
       "</table>\n",
       "</div>"
      ],
      "text/plain": [
       "             업종  성별  연령대  총이용건수        총이용금액    연도       건당이용금액\n",
       "기준연월                                                           \n",
       "2019-01-01  백화점  남자    1      1  7600.000000  2019  7600.000000"
      ]
     },
     "execution_count": 158,
     "metadata": {},
     "output_type": "execute_result"
    }
   ],
   "source": [
    "df.head(1)"
   ]
  },
  {
   "cell_type": "code",
   "execution_count": 159,
   "metadata": {},
   "outputs": [
    {
     "data": {
      "text/html": [
       "<div>\n",
       "<style scoped>\n",
       "    .dataframe tbody tr th:only-of-type {\n",
       "        vertical-align: middle;\n",
       "    }\n",
       "\n",
       "    .dataframe tbody tr th {\n",
       "        vertical-align: top;\n",
       "    }\n",
       "\n",
       "    .dataframe thead th {\n",
       "        text-align: right;\n",
       "    }\n",
       "</style>\n",
       "<table border=\"1\" class=\"dataframe\">\n",
       "  <thead>\n",
       "    <tr style=\"text-align: right;\">\n",
       "      <th></th>\n",
       "      <th>성별</th>\n",
       "      <th>연령대</th>\n",
       "      <th>총이용건수</th>\n",
       "      <th>총이용금액</th>\n",
       "    </tr>\n",
       "    <tr>\n",
       "      <th>기준년월</th>\n",
       "      <th></th>\n",
       "      <th></th>\n",
       "      <th></th>\n",
       "      <th></th>\n",
       "    </tr>\n",
       "  </thead>\n",
       "  <tbody>\n",
       "    <tr>\n",
       "      <th>2019-01-01</th>\n",
       "      <td>1</td>\n",
       "      <td>1</td>\n",
       "      <td>1</td>\n",
       "      <td>110685</td>\n",
       "    </tr>\n",
       "  </tbody>\n",
       "</table>\n",
       "</div>"
      ],
      "text/plain": [
       "            성별  연령대  총이용건수   총이용금액\n",
       "기준년월                              \n",
       "2019-01-01   1    1      1  110685"
      ]
     },
     "execution_count": 159,
     "metadata": {},
     "output_type": "execute_result"
    }
   ],
   "source": [
    "df_online.head(1)"
   ]
  },
  {
   "cell_type": "code",
   "execution_count": 160,
   "metadata": {},
   "outputs": [],
   "source": [
    "# 오프라인과 온라인 합치고 싶어. \n",
    "# concat 하고 싶은데, 둘이 columns 구조가 다르자나 '업종' 유무 \n",
    "# 온라인 df에 업종 컬럼을 추가해 그다음 합쳐보자. \n",
    "\n",
    "df_online['업종'] = '온라인'"
   ]
  },
  {
   "cell_type": "code",
   "execution_count": 163,
   "metadata": {},
   "outputs": [
    {
     "data": {
      "text/html": [
       "<div>\n",
       "<style scoped>\n",
       "    .dataframe tbody tr th:only-of-type {\n",
       "        vertical-align: middle;\n",
       "    }\n",
       "\n",
       "    .dataframe tbody tr th {\n",
       "        vertical-align: top;\n",
       "    }\n",
       "\n",
       "    .dataframe thead th {\n",
       "        text-align: right;\n",
       "    }\n",
       "</style>\n",
       "<table border=\"1\" class=\"dataframe\">\n",
       "  <thead>\n",
       "    <tr style=\"text-align: right;\">\n",
       "      <th></th>\n",
       "      <th>업종</th>\n",
       "      <th>성별</th>\n",
       "      <th>연령대</th>\n",
       "      <th>총이용건수</th>\n",
       "      <th>총이용금액</th>\n",
       "      <th>연도</th>\n",
       "      <th>건당이용금액</th>\n",
       "    </tr>\n",
       "  </thead>\n",
       "  <tbody>\n",
       "    <tr>\n",
       "      <th>2019-01-01</th>\n",
       "      <td>백화점</td>\n",
       "      <td>남자</td>\n",
       "      <td>1</td>\n",
       "      <td>1</td>\n",
       "      <td>7600.000000</td>\n",
       "      <td>2019</td>\n",
       "      <td>7600.000000</td>\n",
       "    </tr>\n",
       "    <tr>\n",
       "      <th>2019-01-01</th>\n",
       "      <td>백화점</td>\n",
       "      <td>남자</td>\n",
       "      <td>10</td>\n",
       "      <td>379</td>\n",
       "      <td>19458720.000000</td>\n",
       "      <td>2019</td>\n",
       "      <td>51342.269129</td>\n",
       "    </tr>\n",
       "    <tr>\n",
       "      <th>2019-01-01</th>\n",
       "      <td>백화점</td>\n",
       "      <td>남자</td>\n",
       "      <td>20</td>\n",
       "      <td>45173</td>\n",
       "      <td>4747711001.000000</td>\n",
       "      <td>2019</td>\n",
       "      <td>105100.635357</td>\n",
       "    </tr>\n",
       "    <tr>\n",
       "      <th>2019-01-01</th>\n",
       "      <td>백화점</td>\n",
       "      <td>남자</td>\n",
       "      <td>30</td>\n",
       "      <td>271858</td>\n",
       "      <td>27918261543.000000</td>\n",
       "      <td>2019</td>\n",
       "      <td>102694.279892</td>\n",
       "    </tr>\n",
       "    <tr>\n",
       "      <th>2019-01-01</th>\n",
       "      <td>백화점</td>\n",
       "      <td>남자</td>\n",
       "      <td>40</td>\n",
       "      <td>391109</td>\n",
       "      <td>37911486656.000000</td>\n",
       "      <td>2019</td>\n",
       "      <td>96933.301601</td>\n",
       "    </tr>\n",
       "    <tr>\n",
       "      <th>...</th>\n",
       "      <td>...</td>\n",
       "      <td>...</td>\n",
       "      <td>...</td>\n",
       "      <td>...</td>\n",
       "      <td>...</td>\n",
       "      <td>...</td>\n",
       "      <td>...</td>\n",
       "    </tr>\n",
       "    <tr>\n",
       "      <th>2021-09-01</th>\n",
       "      <td>온라인</td>\n",
       "      <td>2</td>\n",
       "      <td>50</td>\n",
       "      <td>3237324</td>\n",
       "      <td>181360535814.000000</td>\n",
       "      <td>NaN</td>\n",
       "      <td>NaN</td>\n",
       "    </tr>\n",
       "    <tr>\n",
       "      <th>2021-09-01</th>\n",
       "      <td>온라인</td>\n",
       "      <td>2</td>\n",
       "      <td>60</td>\n",
       "      <td>1019719</td>\n",
       "      <td>70026626874.000000</td>\n",
       "      <td>NaN</td>\n",
       "      <td>NaN</td>\n",
       "    </tr>\n",
       "    <tr>\n",
       "      <th>2021-09-01</th>\n",
       "      <td>온라인</td>\n",
       "      <td>2</td>\n",
       "      <td>70</td>\n",
       "      <td>159261</td>\n",
       "      <td>13091029631.000000</td>\n",
       "      <td>NaN</td>\n",
       "      <td>NaN</td>\n",
       "    </tr>\n",
       "    <tr>\n",
       "      <th>2021-09-01</th>\n",
       "      <td>온라인</td>\n",
       "      <td>2</td>\n",
       "      <td>80</td>\n",
       "      <td>20094</td>\n",
       "      <td>1935122483.000000</td>\n",
       "      <td>NaN</td>\n",
       "      <td>NaN</td>\n",
       "    </tr>\n",
       "    <tr>\n",
       "      <th>2021-09-01</th>\n",
       "      <td>온라인</td>\n",
       "      <td>2</td>\n",
       "      <td>90</td>\n",
       "      <td>611</td>\n",
       "      <td>52840204.000000</td>\n",
       "      <td>NaN</td>\n",
       "      <td>NaN</td>\n",
       "    </tr>\n",
       "  </tbody>\n",
       "</table>\n",
       "<p>3299 rows × 7 columns</p>\n",
       "</div>"
      ],
      "text/plain": [
       "             업종  성별  연령대    총이용건수                총이용금액    연도         건당이용금액\n",
       "2019-01-01  백화점  남자    1        1          7600.000000  2019    7600.000000\n",
       "2019-01-01  백화점  남자   10      379      19458720.000000  2019   51342.269129\n",
       "2019-01-01  백화점  남자   20    45173    4747711001.000000  2019  105100.635357\n",
       "2019-01-01  백화점  남자   30   271858   27918261543.000000  2019  102694.279892\n",
       "2019-01-01  백화점  남자   40   391109   37911486656.000000  2019   96933.301601\n",
       "...         ...  ..  ...      ...                  ...   ...            ...\n",
       "2021-09-01  온라인   2   50  3237324  181360535814.000000   NaN            NaN\n",
       "2021-09-01  온라인   2   60  1019719   70026626874.000000   NaN            NaN\n",
       "2021-09-01  온라인   2   70   159261   13091029631.000000   NaN            NaN\n",
       "2021-09-01  온라인   2   80    20094    1935122483.000000   NaN            NaN\n",
       "2021-09-01  온라인   2   90      611      52840204.000000   NaN            NaN\n",
       "\n",
       "[3299 rows x 7 columns]"
      ]
     },
     "execution_count": 163,
     "metadata": {},
     "output_type": "execute_result"
    }
   ],
   "source": [
    "total_df = pd.concat([df,df_online], axis = 'rows')\n",
    "total_df\n",
    "\n"
   ]
  },
  {
   "cell_type": "code",
   "execution_count": 164,
   "metadata": {},
   "outputs": [
    {
     "data": {
      "text/plain": [
       "편의점     667\n",
       "백화점     664\n",
       "슈퍼마켓    663\n",
       "할인점     654\n",
       "온라인     651\n",
       "Name: 업종, dtype: int64"
      ]
     },
     "execution_count": 164,
     "metadata": {},
     "output_type": "execute_result"
    }
   ],
   "source": [
    "total_df['업종'].value_counts()"
   ]
  },
  {
   "attachments": {},
   "cell_type": "markdown",
   "metadata": {},
   "source": []
  }
 ],
 "metadata": {
  "kernelspec": {
   "display_name": "Python 3",
   "language": "python",
   "name": "python3"
  },
  "language_info": {
   "codemirror_mode": {
    "name": "ipython",
    "version": 3
   },
   "file_extension": ".py",
   "mimetype": "text/x-python",
   "name": "python",
   "nbconvert_exporter": "python",
   "pygments_lexer": "ipython3",
   "version": "3.11.2"
  },
  "orig_nbformat": 4
 },
 "nbformat": 4,
 "nbformat_minor": 2
}
