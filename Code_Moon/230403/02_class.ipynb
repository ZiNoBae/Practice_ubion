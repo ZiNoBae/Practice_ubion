{
 "cells": [
  {
   "cell_type": "code",
   "execution_count": 5,
   "metadata": {},
   "outputs": [],
   "source": [
    "\n",
    "#class 선언 \n",
    "class Class_1() :\n",
    "    #생성자 함수 생성\n",
    "    def __init__(self, input_a, input_b) :\n",
    "        self.a = input_a\n",
    "        self.b = input_b\n",
    "\n",
    "\n"
   ]
  },
  {
   "cell_type": "code",
   "execution_count": 8,
   "metadata": {},
   "outputs": [],
   "source": [
    "# class  생성\n",
    "\n",
    "test_class= Class_1('test', '10')"
   ]
  },
  {
   "cell_type": "code",
   "execution_count": 9,
   "metadata": {},
   "outputs": [
    {
     "name": "stdout",
     "output_type": "stream",
     "text": [
      "<__main__.Class_1 object at 0x000001B0BEE50F50>\n"
     ]
    }
   ],
   "source": [
    "print(test_class)"
   ]
  },
  {
   "cell_type": "code",
   "execution_count": 10,
   "metadata": {},
   "outputs": [
    {
     "name": "stdout",
     "output_type": "stream",
     "text": [
      "test\n"
     ]
    }
   ],
   "source": [
    "print(test_class.a)"
   ]
  },
  {
   "cell_type": "code",
   "execution_count": 4,
   "metadata": {},
   "outputs": [],
   "source": [
    "test_class2 = Class_1(\"ubion\", \"python\")"
   ]
  },
  {
   "cell_type": "code",
   "execution_count": 11,
   "metadata": {},
   "outputs": [
    {
     "name": "stdout",
     "output_type": "stream",
     "text": [
      "ubion\n"
     ]
    }
   ],
   "source": [
    "print(test_class2.a)"
   ]
  },
  {
   "cell_type": "code",
   "execution_count": 12,
   "metadata": {},
   "outputs": [
    {
     "name": "stdout",
     "output_type": "stream",
     "text": [
      "test\n"
     ]
    }
   ],
   "source": [
    "print(test_class.a)"
   ]
  },
  {
   "cell_type": "code",
   "execution_count": 52,
   "metadata": {},
   "outputs": [],
   "source": [
    "# 카페 클래스 선언\n",
    "\n",
    "class Cafe() :\n",
    "    # 클래스 변수\n",
    "    # menu = {\n",
    "    #     \"아메리카노\" : [\"물\", \"에스프레소\"],\n",
    "    #     \"바닐라라떼\" : [\"우유\", \"에스프레소\", \"바닐라시럽\"],\n",
    "    #     \"카페모카\" : [\"우유\", \"에스프레소\", \"초코시럽\", \"휘핑크림\"]\n",
    "    # }\n",
    "\n",
    "   #생성자 함수\n",
    "\n",
    "    def __init__(self, input_name) :\n",
    "        self.name = input_name \n",
    "        self.menu = {\n",
    "        \"아메리카노\" : [\"물\", \"에스프레소\"],\n",
    "        \"바닐라라떼\" : [\"우유\", \"에스프레소\", \"바닐라시럽\"],\n",
    "        \"카페모카\" : [\"우유\", \"에스프레소\", \"초코시럽\", \"휘핑크림\"]\n",
    "    }\n",
    "\n",
    "    \n",
    "    # 음료 제작 과정 함수 생성\n",
    "    def made_coffee(self, input_bean, input_select, input_ice) :\n",
    "      self.bean = input_bean\n",
    "      self.select = input_select\n",
    "      self.ice = input_ice\n",
    "      # 선택한 메뉴의 재료를 추출\n",
    "      self.data = self.menu[self.select]\n",
    "      return (self.bean, self.ice, self.data)\n",
    "\n",
    "\n",
    " #메뉴를 추가하는 함수\n",
    "    def add_menu(self, input_menu_name, input_data) :\n",
    "       # 딕셔너리 데이터에 새로운 키 : 벨류 값을 추가\n",
    "       self.menu[input_menu_name] = input_data\n",
    "      \n",
    "\n",
    "      \n",
    "\n",
    "    "
   ]
  },
  {
   "cell_type": "code",
   "execution_count": 53,
   "metadata": {},
   "outputs": [],
   "source": [
    "cafe1 = Cafe(\"빽다방\")"
   ]
  },
  {
   "cell_type": "code",
   "execution_count": 54,
   "metadata": {},
   "outputs": [],
   "source": [
    "cafe2 = Cafe(\"별다방\")"
   ]
  },
  {
   "cell_type": "code",
   "execution_count": 48,
   "metadata": {},
   "outputs": [
    {
     "name": "stdout",
     "output_type": "stream",
     "text": [
      "빽다방\n",
      "별다방\n"
     ]
    }
   ],
   "source": [
    "print(cafe1.name)\n",
    "print(cafe2.name)"
   ]
  },
  {
   "cell_type": "code",
   "execution_count": 49,
   "metadata": {},
   "outputs": [
    {
     "name": "stdout",
     "output_type": "stream",
     "text": [
      "('에디오피아', True, ['물', '에스프레소'])\n",
      "('케냐', False, ['우유', '에스프레소', '초코시럽', '휘핑크림'])\n"
     ]
    }
   ],
   "source": [
    "print(cafe1.made_coffee(\"에디오피아\",\"아메리카노\", True))\n",
    "print(cafe2.made_coffee(\"케냐\", '카페모카', False))"
   ]
  },
  {
   "cell_type": "code",
   "execution_count": 56,
   "metadata": {},
   "outputs": [],
   "source": [
    "# class 안에 있는 add_menu 함수를 호출\n",
    "cafe1.add_menu(\"말차라떼\", ['말차파우더', '우유'])\n",
    "cafe2.add_menu(\"돌체라떼\", ['우유', '에스프레소', '연유'])       # 독립적으로 추가 되었겠지?"
   ]
  },
  {
   "cell_type": "code",
   "execution_count": 59,
   "metadata": {},
   "outputs": [
    {
     "name": "stdout",
     "output_type": "stream",
     "text": [
      "{'아메리카노': ['물', '에스프레소'], '바닐라라떼': ['우유', '에스프레소', '바닐라시럽'], '카페모카': ['우유', '에스프레소', '초코시럽', '휘핑크림'], '돌체라떼': ['우유', '에스프레소', '연유']}\n",
      "{'아메리카노': ['물', '에스프레소'], '바닐라라떼': ['우유', '에스프레소', '바닐라시럽'], '카페모카': ['우유', '에스프레소', '초코시럽', '휘핑크림'], '말차라떼': ['말차파우더', '우유']}\n"
     ]
    }
   ],
   "source": [
    "# 응~ 아니야 클래스변수는 클래스에 공유되어서 독립적이지 않아 cafe1,2 모두에게 적용되어버렸지 머얌\n",
    "# 클래스 변수 menu를 생성자함수init 에서 self.menu로 선언하면 결과값이 독립적으로 있다는거얌 ~ \n",
    "print(cafe2.menu)\n",
    "print(cafe1.menu)"
   ]
  },
  {
   "attachments": {},
   "cell_type": "markdown",
   "metadata": {},
   "source": [
    "# 판다스"
   ]
  },
  {
   "cell_type": "code",
   "execution_count": 1,
   "metadata": {},
   "outputs": [
    {
     "data": {
      "text/plain": [
       "<function print(*args, sep=' ', end='\\n', file=None, flush=False)>"
      ]
     },
     "execution_count": 1,
     "metadata": {},
     "output_type": "execute_result"
    }
   ],
   "source": [
    "print"
   ]
  },
  {
   "cell_type": "code",
   "execution_count": null,
   "metadata": {},
   "outputs": [],
   "source": []
  }
 ],
 "metadata": {
  "kernelspec": {
   "display_name": "Python 3",
   "language": "python",
   "name": "python3"
  },
  "language_info": {
   "codemirror_mode": {
    "name": "ipython",
    "version": 3
   },
   "file_extension": ".py",
   "mimetype": "text/x-python",
   "name": "python",
   "nbconvert_exporter": "python",
   "pygments_lexer": "ipython3",
   "version": "3.11.2"
  },
  "orig_nbformat": 4
 },
 "nbformat": 4,
 "nbformat_minor": 2
}
