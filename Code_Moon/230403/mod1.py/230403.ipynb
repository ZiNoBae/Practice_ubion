{
 "cells": [
  {
   "attachments": {},
   "cell_type": "markdown",
   "metadata": {},
   "source": [
    "# 함수\n",
    "---"
   ]
  },
  {
   "cell_type": "code",
   "execution_count": 4,
   "metadata": {},
   "outputs": [
    {
     "name": "stdout",
     "output_type": "stream",
     "text": [
      "Hello\n"
     ]
    }
   ],
   "source": [
    "a = 'Hello'\n",
    "print(a)"
   ]
  },
  {
   "cell_type": "code",
   "execution_count": 5,
   "metadata": {},
   "outputs": [
    {
     "name": "stdout",
     "output_type": "stream",
     "text": [
      "5\n"
     ]
    }
   ],
   "source": [
    "# 문자의 길이를 출력하는 함수 : len() - 문자열도 len 가능\n",
    "\n",
    "print(len(a))"
   ]
  },
  {
   "cell_type": "code",
   "execution_count": 8,
   "metadata": {},
   "outputs": [
    {
     "name": "stdout",
     "output_type": "stream",
     "text": [
      "HELLO\n",
      "hello\n"
     ]
    }
   ],
   "source": [
    "# 문자를 대문자 or 소문자로 변경하는 함수 \n",
    "# len() 과는 조금 다른 함수임 \n",
    "# . <- 은 '~안에' // a.upper : a 안에 upper 문자열 함수 라는 의미정도... \n",
    "# 함수 표현 방식이 두가지가 있구나 정도만 .. len(a)  & a.upper\n",
    "\n",
    "# upper : 문자를 모두 대문자로\n",
    "print(a.upper())\n",
    "\n",
    "# lower : 문자를 모두 소문자로\n",
    "print(a.lower())\n"
   ]
  },
  {
   "cell_type": "code",
   "execution_count": 9,
   "metadata": {},
   "outputs": [
    {
     "name": "stdout",
     "output_type": "stream",
     "text": [
      "Hello World\n"
     ]
    }
   ],
   "source": [
    "b = \"hello world\"\n",
    "\n",
    "# title() : 단어의 첫글자만 대문자로\n",
    "\n",
    "print(b.title())"
   ]
  },
  {
   "cell_type": "code",
   "execution_count": 13,
   "metadata": {},
   "outputs": [
    {
     "name": "stdout",
     "output_type": "stream",
     "text": [
      "   Hello World   \n"
     ]
    },
    {
     "data": {
      "text/plain": [
       "'   Hello World   '"
      ]
     },
     "execution_count": 13,
     "metadata": {},
     "output_type": "execute_result"
    }
   ],
   "source": [
    "# 좌우의 공백을 제거하는 함수\n",
    "# strip()\n",
    "\n",
    "c = '   Hello World   '\n",
    "print(c)  # print로 하면 결과의 공백이 잘 안보임. \n",
    "\n",
    "c\n"
   ]
  },
  {
   "cell_type": "code",
   "execution_count": 19,
   "metadata": {},
   "outputs": [
    {
     "data": {
      "text/plain": [
       "'Hello World'"
      ]
     },
     "execution_count": 19,
     "metadata": {},
     "output_type": "execute_result"
    }
   ],
   "source": [
    "# 좌우 공백 모두 제거\n",
    "c.strip()\n"
   ]
  },
  {
   "cell_type": "code",
   "execution_count": 17,
   "metadata": {},
   "outputs": [
    {
     "data": {
      "text/plain": [
       "'Hello World   '"
      ]
     },
     "execution_count": 17,
     "metadata": {},
     "output_type": "execute_result"
    }
   ],
   "source": [
    "# 좌측 공백만 제거\n",
    "c.lstrip()"
   ]
  },
  {
   "cell_type": "code",
   "execution_count": 18,
   "metadata": {},
   "outputs": [
    {
     "data": {
      "text/plain": [
       "'   Hello World'"
      ]
     },
     "execution_count": 18,
     "metadata": {},
     "output_type": "execute_result"
    }
   ],
   "source": [
    "# 우측 공백만 제거\n",
    "c.rstrip()"
   ]
  },
  {
   "cell_type": "code",
   "execution_count": 36,
   "metadata": {},
   "outputs": [],
   "source": [
    "b = \"$2.$11$\"\n"
   ]
  },
  {
   "cell_type": "code",
   "execution_count": 37,
   "metadata": {},
   "outputs": [
    {
     "data": {
      "text/plain": [
       "'2.$11$'"
      ]
     },
     "execution_count": 37,
     "metadata": {},
     "output_type": "execute_result"
    }
   ],
   "source": [
    "# b 라는 변수에 있는 '$'를 제거\n",
    "\n",
    "b.lstrip('$')\n",
    "\n",
    "# 함수 호출할 때는 매개변수와 인자 갯수가 동일해야하는데... 이게 되네? 띠용 "
   ]
  },
  {
   "cell_type": "code",
   "execution_count": 38,
   "metadata": {},
   "outputs": [
    {
     "data": {
      "text/plain": [
       "'$2.$11'"
      ]
     },
     "execution_count": 38,
     "metadata": {},
     "output_type": "execute_result"
    }
   ],
   "source": [
    "b.rstrip('$')"
   ]
  },
  {
   "cell_type": "code",
   "execution_count": 39,
   "metadata": {},
   "outputs": [
    {
     "data": {
      "text/plain": [
       "'2.$11'"
      ]
     },
     "execution_count": 39,
     "metadata": {},
     "output_type": "execute_result"
    }
   ],
   "source": [
    "b.strip('$')\n"
   ]
  },
  {
   "cell_type": "code",
   "execution_count": 40,
   "metadata": {},
   "outputs": [
    {
     "data": {
      "text/plain": [
       "'-2.-11-'"
      ]
     },
     "execution_count": 40,
     "metadata": {},
     "output_type": "execute_result"
    }
   ],
   "source": [
    "# 특정한 단어를 대체하는 함수\n",
    "# replace(기준단어, 대체단어)\n",
    "# b 변수의 '$' 표기를 '-'로 대체\n",
    "\n",
    "b.replace('$', '-')"
   ]
  },
  {
   "cell_type": "code",
   "execution_count": 42,
   "metadata": {},
   "outputs": [
    {
     "data": {
      "text/plain": [
       "'2.11'"
      ]
     },
     "execution_count": 42,
     "metadata": {},
     "output_type": "execute_result"
    }
   ],
   "source": [
    "b.replace('$', '')"
   ]
  },
  {
   "cell_type": "code",
   "execution_count": 43,
   "metadata": {},
   "outputs": [
    {
     "data": {
      "text/plain": [
       "'HelloWorld'"
      ]
     },
     "execution_count": 43,
     "metadata": {},
     "output_type": "execute_result"
    }
   ],
   "source": [
    "# c 변수이 공백을 모두 삭제하려면? \n",
    "\n",
    "c.replace(\" \",\"\")"
   ]
  },
  {
   "cell_type": "code",
   "execution_count": 45,
   "metadata": {},
   "outputs": [
    {
     "name": "stdout",
     "output_type": "stream",
     "text": [
      "['1', '2', '3', '4', '5']\n"
     ]
    }
   ],
   "source": [
    "# 문자열을 특정한 값을 기준으로 나눠주는 함수\n",
    "# split(특정한 값) -> 인자 값을 아무것도 넣지 않으면 \" \"을 기준으로 나눠준다\n",
    "\n",
    "a = \"1,2,3,4,5\"\n",
    "b = \"1 2 3 4 5\"\n",
    "\n",
    "print(a.split(','))  # ,기준으로 나눠줌 - ,는 사라짐"
   ]
  },
  {
   "cell_type": "code",
   "execution_count": 46,
   "metadata": {},
   "outputs": [
    {
     "name": "stdout",
     "output_type": "stream",
     "text": [
      "['1', '2', '3', '4', '5']\n"
     ]
    }
   ],
   "source": [
    "print(b.split())"
   ]
  },
  {
   "cell_type": "code",
   "execution_count": 47,
   "metadata": {},
   "outputs": [
    {
     "name": "stdout",
     "output_type": "stream",
     "text": [
      "3\n"
     ]
    }
   ],
   "source": [
    "print(a.split(',')[2])"
   ]
  },
  {
   "cell_type": "code",
   "execution_count": 51,
   "metadata": {},
   "outputs": [
    {
     "name": "stdout",
     "output_type": "stream",
     "text": [
      "6\n",
      "1\n"
     ]
    }
   ],
   "source": [
    "# max() -> 인자값들 중 가장 큰 숫자를 출력 \n",
    "# mean() -> 인자값들의 평균\n",
    "# min() -> 인자값들 중 가장 작은 숫자를 출력\n",
    "\n",
    "# max(~) 이렇게만 치면 나오는데 왜 print 함수 다른것도 하면 왜 다시 안나옴? ---- Q\n",
    "\n",
    "print(max(1,6,3,4,5))  # 1과 6비교, 6남음 -> 6과 3비교, 6남음 ... 총 4회 반복비교함\n",
    "\n",
    "print(min(1,6,3,4,5))\n",
    "\n"
   ]
  },
  {
   "cell_type": "code",
   "execution_count": 52,
   "metadata": {},
   "outputs": [
    {
     "name": "stdout",
     "output_type": "stream",
     "text": [
      "Hello\n"
     ]
    }
   ],
   "source": [
    "#일반함수\n",
    "\n",
    "# 매개 변수가 존재하지 않는 경우\n",
    "# 함수 선언(생성)\n",
    "\n",
    "def func_1() :\n",
    "    return \"Hello\"\n",
    "\n",
    "#함수호출\n",
    "print(func_1())"
   ]
  },
  {
   "cell_type": "code",
   "execution_count": 54,
   "metadata": {},
   "outputs": [
    {
     "name": "stdout",
     "output_type": "stream",
     "text": [
      "9\n",
      "3\n",
      "HelloWorld\n"
     ]
    }
   ],
   "source": [
    "# 매개변수가 존재하는 경우\n",
    "\n",
    "def func_2(a, b) : \n",
    "    c = a + b\n",
    "    return c\n",
    "\n",
    "print(func_2(3,6))\n",
    "print(func_2(1,2))\n",
    "print(func_2('Hello','World'))  # 문자열간의 합은 문자열이 이어져서 출력"
   ]
  },
  {
   "cell_type": "code",
   "execution_count": 55,
   "metadata": {},
   "outputs": [
    {
     "ename": "TypeError",
     "evalue": "func_2() missing 1 required positional argument: 'b'",
     "output_type": "error",
     "traceback": [
      "\u001b[1;31m---------------------------------------------------------------------------\u001b[0m",
      "\u001b[1;31mTypeError\u001b[0m                                 Traceback (most recent call last)",
      "Cell \u001b[1;32mIn[55], line 3\u001b[0m\n\u001b[0;32m      1\u001b[0m \u001b[39m# 함수의 매개변수의 갯수와 호출하는 인자의 갯수가 다르다면? \u001b[39;00m\n\u001b[1;32m----> 3\u001b[0m func_2(\u001b[39m4\u001b[39;49m)\n",
      "\u001b[1;31mTypeError\u001b[0m: func_2() missing 1 required positional argument: 'b'"
     ]
    }
   ],
   "source": [
    "# 함수의 매개변수의 갯수와 호출하는 인자의 갯수가 다르다면? \n",
    "\n",
    "func_2(4)"
   ]
  },
  {
   "cell_type": "code",
   "execution_count": 56,
   "metadata": {},
   "outputs": [
    {
     "ename": "TypeError",
     "evalue": "func_2() takes 2 positional arguments but 3 were given",
     "output_type": "error",
     "traceback": [
      "\u001b[1;31m---------------------------------------------------------------------------\u001b[0m",
      "\u001b[1;31mTypeError\u001b[0m                                 Traceback (most recent call last)",
      "Cell \u001b[1;32mIn[56], line 1\u001b[0m\n\u001b[1;32m----> 1\u001b[0m func_2(\u001b[39m1\u001b[39;49m,\u001b[39m2\u001b[39;49m,\u001b[39m3\u001b[39;49m)\n",
      "\u001b[1;31mTypeError\u001b[0m: func_2() takes 2 positional arguments but 3 were given"
     ]
    }
   ],
   "source": [
    "func_2(1,2,3)"
   ]
  },
  {
   "cell_type": "code",
   "execution_count": 62,
   "metadata": {},
   "outputs": [
    {
     "name": "stdout",
     "output_type": "stream",
     "text": [
      "10\n",
      "-2\n"
     ]
    },
    {
     "ename": "NameError",
     "evalue": "name 'd' is not defined",
     "output_type": "error",
     "traceback": [
      "\u001b[1;31m---------------------------------------------------------------------------\u001b[0m",
      "\u001b[1;31mNameError\u001b[0m                                 Traceback (most recent call last)",
      "Cell \u001b[1;32mIn[62], line 8\u001b[0m\n\u001b[0;32m      5\u001b[0m     \u001b[39mreturn\u001b[39;00m result\n\u001b[0;32m      7\u001b[0m \u001b[39mprint\u001b[39m(func_3(\u001b[39m3\u001b[39m,\u001b[39m5\u001b[39m))\n\u001b[1;32m----> 8\u001b[0m \u001b[39mprint\u001b[39m(d) \u001b[39m# d는 함수안에서만 선언된 변수 \u001b[39;00m\n",
      "\u001b[1;31mNameError\u001b[0m: name 'd' is not defined"
     ]
    }
   ],
   "source": [
    "def func_3(a,b) :\n",
    "    d = 10\n",
    "    result = a + b - 10\n",
    "    print(d)  # 함수 안에서는 사용가능한 지역변수 d 이기에 여기서는 잘 나옴\n",
    "    return result\n",
    "\n",
    "print(func_3(3,5))\n",
    "print(d) # d는 함수안에서만 선언된 변수 "
   ]
  },
  {
   "attachments": {},
   "cell_type": "markdown",
   "metadata": {},
   "source": [
    "- 전역 변수 : 전체 영역 변수 -> 어디에서든 사용 可\n",
    "    1. 들여쓰기를 하지 않은 공간에서 생성한 변수 in Python\n",
    "\n",
    "- 지역 변수 : 특정 지역에서의 변수 -> 일정 공간에서만 사용 可\n",
    "    1. 들여쓰기가 된 공간에서 생성한 변수 \n",
    "    2. '휘발성 변수'  라고도 불림.\n",
    "    3. Ex) 함수 안에서만 만들어진 변수 , 클래스 안에서 만들어진 변수."
   ]
  },
  {
   "cell_type": "code",
   "execution_count": 64,
   "metadata": {},
   "outputs": [
    {
     "name": "stdout",
     "output_type": "stream",
     "text": [
      "15\n"
     ]
    }
   ],
   "source": [
    "x = 3 # x는 전역변수\n",
    "\n",
    "def func_4(a) :   # a는 매개변수(지역변수)\n",
    "    \n",
    "    result = a * x\n",
    "    return result\n",
    "\n",
    "print(func_4(5))"
   ]
  },
  {
   "cell_type": "code",
   "execution_count": 72,
   "metadata": {},
   "outputs": [
    {
     "name": "stdout",
     "output_type": "stream",
     "text": [
      "7/6\n",
      "-1\n"
     ]
    }
   ],
   "source": [
    "# 매개변수에 기본값 설정 가능\n",
    "\n",
    "def func_5(a, b, c = 2) :  # c=2 로 기본값 설정\n",
    "    result = a + b - c\n",
    "    return result\n",
    "\n",
    "print(func_5(5,4), end = '/')   # c 기본값 설정되었기에 안넣어도 함수 실행 가능\n",
    "                                # print의 기본 end는 '줄바꿈' -> '/'로 변경시 결과값들 구분이 '/'로 \n",
    "print(func_5(5,4,3))  # c 기본값 있어도 새로 넣어주면 덮어써져서 새로 넣은 값으로 함수 실행\n",
    "print(func_5(c=5, a=3, b=1))  # 매개변수 순서 몰라도, 매개변수 기본값 몰라도 새로 넣으면 된단다~\n",
    "                              # 매개변수 기본값 일부만 바꾸기도 가능"
   ]
  },
  {
   "cell_type": "code",
   "execution_count": 75,
   "metadata": {},
   "outputs": [
    {
     "name": "stdout",
     "output_type": "stream",
     "text": [
      "8앙2기모링c의 값이 시발입니다\n"
     ]
    }
   ],
   "source": [
    "# c 값이 1이면 a와 b의 합계 return\n",
    "# c 값이 2이면 a와 b의 차이 return\n",
    "# c 값이 그 이외 데이터이면, 'c의 값이 시발입니다' return\n",
    " \n",
    "def func_6(a, b, c) :\n",
    "    if c==1 :       # =가 아니라 ==\n",
    "        return a+b  # = 왜 안쓰지?   return은 함수야 정신차리자~\n",
    "    elif c==2 :\n",
    "        return a-b\n",
    "    else :\n",
    "        return 'c의 값이 시발입니다'\n",
    "\n",
    "\n",
    "print(func_6(5,3,1), end = '앙')\n",
    "print(func_6(5,3,2), end = '기모링')\n",
    "print(func_6(5,3,3))    "
   ]
  },
  {
   "cell_type": "code",
   "execution_count": 77,
   "metadata": {},
   "outputs": [
    {
     "name": "stdout",
     "output_type": "stream",
     "text": [
      "8\n",
      "2\n",
      "c의 값이 시발입니다\n"
     ]
    }
   ],
   "source": [
    "# return 은 실행되며 함수가 종료돼 -> 한번만 쓰는게 좋아 \n",
    "# return 한 번 쓰기 위해서는 -> 변수를 따로 만들어 써보자\n",
    "\n",
    "def func_6(a, b, c) :\n",
    "    if c==1 :       \n",
    "        result =  a+b  \n",
    "    elif c==2 :\n",
    "        result =  a-b\n",
    "    else :\n",
    "        result =  'c의 값이 시발입니다'\n",
    "    \n",
    "    return result\n",
    "\n",
    "\n",
    "print(func_6(5,3,1))\n",
    "print(func_6(5,3,2))\n",
    "print(func_6(5,3,3))"
   ]
  },
  {
   "cell_type": "code",
   "execution_count": 78,
   "metadata": {},
   "outputs": [
    {
     "name": "stdout",
     "output_type": "stream",
     "text": [
      "1 2 3 4 5 6 7 8 9 10 "
     ]
    }
   ],
   "source": [
    "# 반복문 \n",
    "for i in range(1, 11, 1) : \n",
    "    print(i, end = \" \")"
   ]
  },
  {
   "cell_type": "code",
   "execution_count": 79,
   "metadata": {},
   "outputs": [
    {
     "name": "stdout",
     "output_type": "stream",
     "text": [
      "10\n",
      "20\n",
      "30\n",
      "40\n"
     ]
    }
   ],
   "source": [
    "_list = [10, 20, 30, 40]\n",
    "for i in _list :\n",
    "    print(i)"
   ]
  },
  {
   "cell_type": "code",
   "execution_count": 81,
   "metadata": {},
   "outputs": [
    {
     "name": "stdout",
     "output_type": "stream",
     "text": [
      "10\n",
      "20\n",
      "30\n",
      "40\n"
     ]
    }
   ],
   "source": [
    "for i in range(0, len(_list), 1) :\n",
    "    print(_list[i])"
   ]
  },
  {
   "attachments": {},
   "cell_type": "markdown",
   "metadata": {},
   "source": [
    "### 예제 문제\n",
    "1. 함수 생성 (매개변수 3개 : _min, _max)\n",
    "2. _min 부터 _max까지의 합계를 출력하는 함수\n",
    "    - 매개변수 2개 함수 생성\n",
    "    - 매개변수 2개가 print() 함수를 이용해서 출력\n",
    "    - for 문 생성 _min ~ _max 까지 반복해서 값을 출력\n",
    "    - 합계라는 변수를 하나 생성 해놓고 0대입\n",
    "    - 반복문에서 i값을 합계라는 변수에 더해주자 \n",
    "    - 합계를 리턴"
   ]
  },
  {
   "cell_type": "code",
   "execution_count": 89,
   "metadata": {},
   "outputs": [
    {
     "name": "stdout",
     "output_type": "stream",
     "text": [
      "55\n"
     ]
    }
   ],
   "source": [
    "def func_zn(_min, _max) :\n",
    "    result = 0\n",
    "    i=_min\n",
    "\n",
    "    while i >= _min and i <= _max :\n",
    "        result += i\n",
    "        i += 1\n",
    "    return result\n",
    "\n",
    "print(func_zn(1,10))"
   ]
  },
  {
   "cell_type": "code",
   "execution_count": 91,
   "metadata": {},
   "outputs": [
    {
     "name": "stdout",
     "output_type": "stream",
     "text": [
      "55\n"
     ]
    }
   ],
   "source": [
    "# for문\n",
    "\n",
    "def func_sy(_min, _max) :\n",
    "    result = 0\n",
    "    \n",
    "    for i in range(_min, _max +1, 1) :\n",
    "        result += i\n",
    "    return result\n",
    "\n",
    "print(func_sy(1,10))"
   ]
  },
  {
   "cell_type": "code",
   "execution_count": 118,
   "metadata": {},
   "outputs": [
    {
     "name": "stdout",
     "output_type": "stream",
     "text": [
      "55\n"
     ]
    }
   ],
   "source": [
    "# func 안에 매개변수 순서 상관없이 결과 잘 나오게 하려면? if문 사용해서 &  사용 안해도 가능 \n",
    "# if 문 사용해서  zn 해내버려따\n",
    "\n",
    "def func_good(_min, _max) :\n",
    "    result = 0\n",
    "\n",
    "    if _min <= _max :\n",
    "        i=_min\n",
    "\n",
    "        while i >= _min and i <= _max :\n",
    "            result += i\n",
    "            i += 1\n",
    "        return result\n",
    "    \n",
    "    \n",
    "    else :\n",
    "        for i in range(_max, _min +1, 1) :\n",
    "            result += i\n",
    "        return result\n",
    "    \n",
    "\n",
    "\n",
    "    \n",
    "\n",
    "print(func_good(1,10))"
   ]
  },
  {
   "cell_type": "code",
   "execution_count": null,
   "metadata": {},
   "outputs": [],
   "source": [
    "# Moon_Sol\n",
    "\n",
    "def func_7(_min, _max) :\n",
    "    print(_min)\n",
    "    print(_max)\n",
    "    result = 0\n",
    "\n",
    "    for i in range(_min, _max+1) :\n",
    "        print(i, end = \" \")\n",
    "        result += i\n",
    "    return result\n"
   ]
  },
  {
   "cell_type": "code",
   "execution_count": null,
   "metadata": {},
   "outputs": [
    {
     "name": "stdout",
     "output_type": "stream",
     "text": [
      "3\n",
      "10\n",
      "3 4 5 6 7 8 9 10 "
     ]
    },
    {
     "data": {
      "text/plain": [
       "52"
      ]
     },
     "execution_count": 112,
     "metadata": {},
     "output_type": "execute_result"
    }
   ],
   "source": [
    "func_7(3,10)"
   ]
  },
  {
   "cell_type": "code",
   "execution_count": 123,
   "metadata": {},
   "outputs": [
    {
     "name": "stdout",
     "output_type": "stream",
     "text": [
      "52\n",
      "52\n"
     ]
    }
   ],
   "source": [
    "def func_7(_min, _max) :\n",
    "    # print(_min)\n",
    "    # print(_max)\n",
    "    result = 0\n",
    "\n",
    "    #_max가 _min보다 큰 경우\n",
    "    if _min < _max :\n",
    "\n",
    "        for i in range(_min, _max+1) :\n",
    "            #print(i, end = \" \")    <- 이런거 지우지마 나중에 수정할때 Check list 같은 거야. 주석 남겨두자고~\n",
    "            result += i\n",
    "        return result\n",
    "\n",
    "    else :\n",
    "        for i in range(_max, _min +1) :\n",
    "            result += i\n",
    "        return result\n",
    "\n",
    "    \n",
    "print(func_7(10,3))\n",
    "print(func_7(3,10))"
   ]
  },
  {
   "cell_type": "code",
   "execution_count": 131,
   "metadata": {},
   "outputs": [
    {
     "name": "stdout",
     "output_type": "stream",
     "text": [
      "5050.0\n",
      "5050.0\n"
     ]
    }
   ],
   "source": [
    "# 절댓값 함수 abs() 이용하면 이렇게 할 수 있으나, 우리가 배운 걸로만 할 수가 있남 ? \n",
    "\n",
    "\n",
    "def func_zino(_min, _max) :\n",
    "    a= _min + _max\n",
    "\n",
    "    b = (abs(_max - _min) +1)/2\n",
    "\n",
    "    result = a * b \n",
    "\n",
    "    \n",
    "\n",
    "\n",
    "    return result\n",
    "\n",
    "print(func_zino(100,1))\n",
    "print(func_zino(1,100))"
   ]
  },
  {
   "cell_type": "code",
   "execution_count": 134,
   "metadata": {},
   "outputs": [
    {
     "name": "stdout",
     "output_type": "stream",
     "text": [
      "55\n",
      "55\n"
     ]
    }
   ],
   "source": [
    "# Moon_Sol\n",
    "\n",
    "def func_8(_min, _max) :\n",
    "    result = 0\n",
    "    for i in range(min(_min, _max), max(_min, _max) + 1) :  # min, max 함수를 활용하여 작은값, 큰값을 구분\n",
    "        result += i\n",
    "    return result\n",
    "\n",
    "print(func_8(1,10))\n",
    "print(func_8(10,1))"
   ]
  },
  {
   "cell_type": "code",
   "execution_count": 138,
   "metadata": {},
   "outputs": [
    {
     "name": "stdout",
     "output_type": "stream",
     "text": [
      "4\n",
      "None\n"
     ]
    }
   ],
   "source": [
    "# moon_sol\n",
    "# func_9 & 10의 차이\n",
    "# 둘다 인자값을 가져오는 건 동일하는데 9번은 출력, 10번은 값을 되돌려주는 것 \n",
    "# 파이썬() \n",
    "\n",
    "def func_9(a,b) :\n",
    "    result = a + b\n",
    "    print(result)\n",
    "    \n",
    "x = func_9(1,3)\n",
    "print(x)   # 함수에서 되돌려주는 값이 없으므로, none... "
   ]
  },
  {
   "cell_type": "code",
   "execution_count": 141,
   "metadata": {},
   "outputs": [
    {
     "ename": "NameError",
     "evalue": "name 'X' is not defined",
     "output_type": "error",
     "traceback": [
      "\u001b[1;31m---------------------------------------------------------------------------\u001b[0m",
      "\u001b[1;31mNameError\u001b[0m                                 Traceback (most recent call last)",
      "Cell \u001b[1;32mIn[141], line 9\u001b[0m\n\u001b[0;32m      3\u001b[0m     \u001b[39mreturn\u001b[39;00m result\n\u001b[0;32m      8\u001b[0m x \u001b[39m=\u001b[39m func_10(\u001b[39m1\u001b[39m,\u001b[39m3\u001b[39m)   \u001b[39m# 얘는 가상 환경 (주피터노트북)에서만 보여주는 것 한번 확인해봐 \u001b[39;00m\n\u001b[1;32m----> 9\u001b[0m \u001b[39mprint\u001b[39m(X)          \u001b[39m# 그래서 원래는 print로 다 출력 기입해줘야함\u001b[39;00m\n",
      "\u001b[1;31mNameError\u001b[0m: name 'X' is not defined"
     ]
    }
   ],
   "source": [
    "def func_10(a,b) :\n",
    "    result = a+b\n",
    "    return result\n",
    "\n",
    " \n",
    " \n",
    " \n",
    "x = func_10(1,3)   # 얘는 가상 환경 (주피터노트북)에서만 보여주는 것 한번 확인해봐 \n",
    "print(X)          # 그래서 원래는 print로 다 출력 기입해줘야함"
   ]
  },
  {
   "cell_type": "code",
   "execution_count": 144,
   "metadata": {},
   "outputs": [],
   "source": [
    "# 함수 생성 -> 인자의 개수가 가변인 경우 \n",
    "# *변수명  : *여기에는 아무 변수 가능 꼭 *args 라고 안해도 됩니다요\n",
    "\n",
    "\n",
    "def func_11(x, *_list) : # 첫번째 매개변수는 x 가 되고, 두번째 인자부터 출력\n",
    "    print(_list)\n"
   ]
  },
  {
   "cell_type": "code",
   "execution_count": 145,
   "metadata": {},
   "outputs": [
    {
     "name": "stdout",
     "output_type": "stream",
     "text": [
      "(2, 3, 4, 5)\n",
      "(2, 3)\n",
      "(2, 3, 4, 5, 6, 7, 8, 9, 10)\n"
     ]
    }
   ],
   "source": [
    "func_11(1,2,3,4,5)\n",
    "func_11(1,2,3)\n",
    "func_11(1,2,3,4,5,6,7,8,9,10)"
   ]
  },
  {
   "attachments": {},
   "cell_type": "markdown",
   "metadata": {},
   "source": [
    "- max(), min() 함수를 생성\n",
    "    1. 인자의 개수가 가변 -> *매개변수\n",
    "    2. 각각의 항목들을 비교해서 가장 큰 숫자를 출력-> return int형태 \n",
    "    3. 예컨대, 4개의 항목의 데이터가 대입\n",
    "        1. 첫번째 항목과 두번째 항목을 비교 후 큰값을 new변수에 대입\n",
    "        2. 1번의 new변수값과 세번째 항목을 비교하여 큰값을 다시 그 new변수 대입하여 업뎃\n",
    "        3. 2번의 그 변수값과 마지막 항목을 비교하여 큰값을 다시 그 변수 대입하여 업뎃\n",
    "        4. 최종 변수의 값을 return\n",
    "\n",
    "\n"
   ]
  },
  {
   "cell_type": "code",
   "execution_count": 148,
   "metadata": {},
   "outputs": [
    {
     "name": "stdout",
     "output_type": "stream",
     "text": [
      "123\n",
      "165\n"
     ]
    }
   ],
   "source": [
    "def custom_max(*_list) :\n",
    "    result = _list[0]  # 데이터가 한개만 들어와도 결과 출력 가능\n",
    "\n",
    "    #첫번째 원소를 출력 [0]\n",
    "    #_list[0] _list[1]\n",
    "    # 첫번째 원소와 두번째 원소 대소 비교 후 큰 값을 result 에 대입\n",
    "\n",
    "\n",
    "#    if _list[0] > _list[1] :   # _list[0] 대신 기존 입력되어있기때문에, result > _list[1] 하면 아래 과정과 통일 좋지요\n",
    " #       result = _list[0]\n",
    "  #  else :\n",
    "    #    result = _list[1]\n",
    "\n",
    "    # if result < _list[1] :\n",
    "        # result = list[1]                       #이게 더 낫네\n",
    "  \n",
    "    #result와 세번째 원소를 비교. \n",
    "\n",
    "    #if result > _list[2] :\n",
    "     #   result = result\n",
    "    #else :\n",
    "     #   result = _list[2]\n",
    "\n",
    "    # if result < _list[2] :\n",
    "        # result = _list[2] \n",
    "\n",
    "    # if 가정문 ㅈㄴ 반복되네? else정도만 어떻게 하면되지 않을까?\n",
    "\n",
    "\n",
    "    for i in range(1, len(_list), 1) :\n",
    "        if result < _list[i] :\n",
    "            result = _list[i]\n",
    "            \n",
    "    return result \n",
    "\n",
    "print(custom_max(1,6,5,123, -100))\n",
    "print(custom_max(123,14,12,31,23,165,54))"
   ]
  },
  {
   "cell_type": "code",
   "execution_count": 150,
   "metadata": {},
   "outputs": [
    {
     "name": "stdout",
     "output_type": "stream",
     "text": [
      "23.4\n"
     ]
    }
   ],
   "source": [
    "def custom_max(*_list) :\n",
    "    result = _list[0]\n",
    "\n",
    "    for i in _list : \n",
    "        if result < i :\n",
    "            result = i\n",
    "    return result\n",
    "\n",
    "print(custom_max(1,2,6,8,23.4))"
   ]
  },
  {
   "attachments": {},
   "cell_type": "markdown",
   "metadata": {},
   "source": [
    "### 문제\n",
    "\n",
    "- 평균을 출력해주는 함수 생성 \n",
    "    1. 인자 개수가 가변\n",
    "    2. 받아온 인자 값들 원소 하나씩 출력 - check 용\n",
    "    3. 각 원소들의 합계 \n",
    "        1. 합계라는 변수 생성 0 을 대입\n",
    "        2. 각 원소들의 값들을 합계에 추가 \n",
    "    4. (합계) / (인자의 갯수)  -> 평균이라는 변수에 대입\n",
    "    5. 평균값을 return \n"
   ]
  },
  {
   "cell_type": "code",
   "execution_count": 156,
   "metadata": {},
   "outputs": [
    {
     "name": "stdout",
     "output_type": "stream",
     "text": [
      "10.0\n"
     ]
    }
   ],
   "source": [
    "def func_znmean(*args) : \n",
    "    #print(args)\n",
    "    aggre = 0\n",
    "\n",
    "    for i in args : \n",
    "        aggre += i\n",
    "    zn_mean  = aggre / len(args)\n",
    "\n",
    "    return zn_mean\n",
    "\n",
    "print(func_znmean(1,10,5,22,12))"
   ]
  },
  {
   "cell_type": "code",
   "execution_count": 167,
   "metadata": {},
   "outputs": [],
   "source": [
    "# moon_sol\n",
    "\n",
    "def custom_mean(*_list) :\n",
    "    # while문\n",
    "    # 초기값 설정\n",
    "    i = 0\n",
    "    sum = 0  # 합계 변수\n",
    "\n",
    "    while i < len(_list) : \n",
    "        # print(_list[i])\n",
    "        \n",
    "        sum += _list[i]        \n",
    "       \n",
    "        # i값을 증가\n",
    "        i += 1\n",
    "    \n",
    "# print(sum)\n",
    "\n",
    "    result = sum / len(_list)\n",
    "    return result\n",
    "\n"
   ]
  },
  {
   "cell_type": "code",
   "execution_count": 168,
   "metadata": {},
   "outputs": [
    {
     "data": {
      "text/plain": [
       "3.0"
      ]
     },
     "execution_count": 168,
     "metadata": {},
     "output_type": "execute_result"
    }
   ],
   "source": [
    "custom_mean(1,2,3,4,5)"
   ]
  },
  {
   "attachments": {},
   "cell_type": "markdown",
   "metadata": {},
   "source": [
    "# 모듈화 \n",
    "\n",
    "- 기능별로 파일을 나눠 놓는다  ~ \n",
    "- 왜? 유지보수하기 편하자너 ~ \n",
    "- 코드 역시, 한 기능이 이상하면 그 기능담당하는 해당 파일만 수정하면 끝 ! \n",
    "- 위 custom_mean 함수를 파일에 저장해서 나중에도 불러올 수 있어\n"
   ]
  },
  {
   "cell_type": "code",
   "execution_count": 2,
   "metadata": {},
   "outputs": [],
   "source": [
    "import mod1"
   ]
  },
  {
   "cell_type": "code",
   "execution_count": 5,
   "metadata": {},
   "outputs": [
    {
     "ename": "AttributeError",
     "evalue": "module 'mod1' has no attribute 'custom_max'",
     "output_type": "error",
     "traceback": [
      "\u001b[1;31m---------------------------------------------------------------------------\u001b[0m",
      "\u001b[1;31mAttributeError\u001b[0m                            Traceback (most recent call last)",
      "Cell \u001b[1;32mIn[5], line 1\u001b[0m\n\u001b[1;32m----> 1\u001b[0m mod1\u001b[39m.\u001b[39;49mcustom_max(\u001b[39m1\u001b[39m,\u001b[39m2\u001b[39m,\u001b[39m3\u001b[39m,\u001b[39m4\u001b[39m,\u001b[39m5\u001b[39m) \n\u001b[0;32m      2\u001b[0m mod1\u001b[39m.\u001b[39mcustom_mean(\u001b[39m1\u001b[39m,\u001b[39m2\u001b[39m,\u001b[39m3\u001b[39m,\u001b[39m4\u001b[39m,\u001b[39m5\u001b[39m)\n",
      "\u001b[1;31mAttributeError\u001b[0m: module 'mod1' has no attribute 'custom_max'"
     ]
    }
   ],
   "source": [
    "mod1.custom_max(1,2,3,4,5) \n",
    "mod1.custom_mean(1,2,3,4,5)"
   ]
  },
  {
   "cell_type": "code",
   "execution_count": null,
   "metadata": {},
   "outputs": [],
   "source": []
  }
 ],
 "metadata": {
  "kernelspec": {
   "display_name": "Python 3",
   "language": "python",
   "name": "python3"
  },
  "language_info": {
   "codemirror_mode": {
    "name": "ipython",
    "version": 3
   },
   "file_extension": ".py",
   "mimetype": "text/x-python",
   "name": "python",
   "nbconvert_exporter": "python",
   "pygments_lexer": "ipython3",
   "version": "3.11.2"
  },
  "orig_nbformat": 4
 },
 "nbformat": 4,
 "nbformat_minor": 2
}
