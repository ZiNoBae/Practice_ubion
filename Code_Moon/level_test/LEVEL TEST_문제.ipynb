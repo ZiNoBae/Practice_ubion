{
 "cells": [
  {
   "cell_type": "code",
   "execution_count": 1,
   "metadata": {},
   "outputs": [],
   "source": [
    "import pandas as pd\n",
    "import numpy as np\n",
    "import matplotlib.pyplot as plt\n",
    "from datetime import datetime\n"
   ]
  },
  {
   "cell_type": "markdown",
   "metadata": {},
   "source": [
    "### 1번 문제\n",
    "> For문을 이용하여 구구단을 출력하라\n",
    "    2단부터 9단까지 구구단을 print를 이용하여 출력하라."
   ]
  },
  {
   "cell_type": "code",
   "execution_count": 8,
   "metadata": {},
   "outputs": [
    {
     "name": "stdout",
     "output_type": "stream",
     "text": [
      "2x1 = 2\n",
      "2x2 = 4\n",
      "2x3 = 6\n",
      "2x4 = 8\n",
      "2x5 = 10\n",
      "2x6 = 12\n",
      "2x7 = 14\n",
      "2x8 = 16\n",
      "2x9 = 18\n",
      "3x1 = 3\n",
      "3x2 = 6\n",
      "3x3 = 9\n",
      "3x4 = 12\n",
      "3x5 = 15\n",
      "3x6 = 18\n",
      "3x7 = 21\n",
      "3x8 = 24\n",
      "3x9 = 27\n",
      "4x1 = 4\n",
      "4x2 = 8\n",
      "4x3 = 12\n",
      "4x4 = 16\n",
      "4x5 = 20\n",
      "4x6 = 24\n",
      "4x7 = 28\n",
      "4x8 = 32\n",
      "4x9 = 36\n",
      "5x1 = 5\n",
      "5x2 = 10\n",
      "5x3 = 15\n",
      "5x4 = 20\n",
      "5x5 = 25\n",
      "5x6 = 30\n",
      "5x7 = 35\n",
      "5x8 = 40\n",
      "5x9 = 45\n",
      "6x1 = 6\n",
      "6x2 = 12\n",
      "6x3 = 18\n",
      "6x4 = 24\n",
      "6x5 = 30\n",
      "6x6 = 36\n",
      "6x7 = 42\n",
      "6x8 = 48\n",
      "6x9 = 54\n",
      "7x1 = 7\n",
      "7x2 = 14\n",
      "7x3 = 21\n",
      "7x4 = 28\n",
      "7x5 = 35\n",
      "7x6 = 42\n",
      "7x7 = 49\n",
      "7x8 = 56\n",
      "7x9 = 63\n",
      "8x1 = 8\n",
      "8x2 = 16\n",
      "8x3 = 24\n",
      "8x4 = 32\n",
      "8x5 = 40\n",
      "8x6 = 48\n",
      "8x7 = 56\n",
      "8x8 = 64\n",
      "8x9 = 72\n",
      "9x1 = 9\n",
      "9x2 = 18\n",
      "9x3 = 27\n",
      "9x4 = 36\n",
      "9x5 = 45\n",
      "9x6 = 54\n",
      "9x7 = 63\n",
      "9x8 = 72\n",
      "9x9 = 81\n"
     ]
    }
   ],
   "source": [
    "# f string \n",
    "\n",
    "for i in range(2, 10, 1) : \n",
    "    for j in range (1,10, 1) :\n",
    "        a = i * j\n",
    "        print(f\"{i}x{j} = {a}\")\n",
    "    \n",
    "    \n",
    "\n"
   ]
  },
  {
   "attachments": {},
   "cell_type": "markdown",
   "metadata": {},
   "source": [
    "### 2번 문제\n",
    "> 2부터 50까지 소수를 리스트의 형태로 출력하시오\n",
    "1. 첫번째 반복문에서는 2부터 50까지 반복을 하는 반복문을 구성하시오\n",
    "2. 소수는 1과 자기 자신 외에는 나누어지지 않는 수이다 \n",
    "3. 반복문 안에 bool의 형태의 데이터를 만들어서 True라 지정한다. \n",
    "4. 두번째 반복문을 이용하여 2부터 시작하여 (자기 자신 -1)까지 나누어 나머지 값이 0이면 3번 과정에서 만든 변수를 False로 변경한다.\n",
    "5. bool 형태의 변수를 조건문을 사용하여 True인 경우 리스트에 추가한다."
   ]
  },
  {
   "cell_type": "code",
   "execution_count": 7,
   "metadata": {},
   "outputs": [
    {
     "name": "stdout",
     "output_type": "stream",
     "text": [
      "[2, 3, 5, 7, 11, 13, 17, 19, 23, 29, 31, 37, 41, 43, 47]\n"
     ]
    }
   ],
   "source": [
    "# check \n",
    "    # i=2 일때, j, 2로 시작 but 1로 끝 ? -> just pass w/ x = True ?  (  )\n",
    "\n",
    "_prime = []\n",
    "\n",
    "for i in range(2, 51, 1) :\n",
    "    x = True\n",
    "    for j in range(2, i, 1) :\n",
    "        if i % j == 0 :\n",
    "            x = False\n",
    "            break \n",
    "    if x :\n",
    "        _prime += [i] \n",
    "\n",
    "print(_prime)\n",
    "\n"
   ]
  },
  {
   "cell_type": "markdown",
   "metadata": {},
   "source": [
    "### 3번 문제\n",
    "> Pandas를 이용하여 다음과 같은 데이터프레임을 만들고 데이터프레임을 수정하라.\n",
    "\n",
    "|   | 0 | 1 |  2 |\n",
    "|:-:|:-:|:-:|:--:|\n",
    "| 0 | 1 | 2 |  3 |\n",
    "| 1 | 7 | 8 |  9 |\n",
    "| 2 | 4 | 5 |  6 |\n",
    "| 3 | 3 | 5 | 10 |\n",
    "\n",
    "1. 컬럼의 이름을 A, B, C로 변경\n",
    "2. D라는 새로운 컬럼에 shift 함수를 이용하여 C 컬럼의 차를 D 컬럼에 생성(NaN값인 경우에는 0으로 대체)\n",
    "3. A 컬럼을 기준으로 오름차순 정렬\n",
    "4. 인덱스의 값을 새로 지정(기존의 인덱스는 삭제)\n",
    "5. 이 모든 과정은 원본의 데이터를 수정 "
   ]
  },
  {
   "cell_type": "code",
   "execution_count": 56,
   "metadata": {},
   "outputs": [
    {
     "data": {
      "text/html": [
       "<div>\n",
       "<style scoped>\n",
       "    .dataframe tbody tr th:only-of-type {\n",
       "        vertical-align: middle;\n",
       "    }\n",
       "\n",
       "    .dataframe tbody tr th {\n",
       "        vertical-align: top;\n",
       "    }\n",
       "\n",
       "    .dataframe thead th {\n",
       "        text-align: right;\n",
       "    }\n",
       "</style>\n",
       "<table border=\"1\" class=\"dataframe\">\n",
       "  <thead>\n",
       "    <tr style=\"text-align: right;\">\n",
       "      <th></th>\n",
       "      <th>A</th>\n",
       "      <th>B</th>\n",
       "      <th>C</th>\n",
       "      <th>D</th>\n",
       "    </tr>\n",
       "  </thead>\n",
       "  <tbody>\n",
       "    <tr>\n",
       "      <th>0</th>\n",
       "      <td>1</td>\n",
       "      <td>2</td>\n",
       "      <td>3</td>\n",
       "      <td>0.0</td>\n",
       "    </tr>\n",
       "    <tr>\n",
       "      <th>1</th>\n",
       "      <td>3</td>\n",
       "      <td>5</td>\n",
       "      <td>10</td>\n",
       "      <td>4.0</td>\n",
       "    </tr>\n",
       "    <tr>\n",
       "      <th>2</th>\n",
       "      <td>4</td>\n",
       "      <td>5</td>\n",
       "      <td>6</td>\n",
       "      <td>-3.0</td>\n",
       "    </tr>\n",
       "    <tr>\n",
       "      <th>3</th>\n",
       "      <td>7</td>\n",
       "      <td>8</td>\n",
       "      <td>9</td>\n",
       "      <td>6.0</td>\n",
       "    </tr>\n",
       "  </tbody>\n",
       "</table>\n",
       "</div>"
      ],
      "text/plain": [
       "   A  B   C    D\n",
       "0  1  2   3  0.0\n",
       "1  3  5  10  4.0\n",
       "2  4  5   6 -3.0\n",
       "3  7  8   9  6.0"
      ]
     },
     "execution_count": 56,
     "metadata": {},
     "output_type": "execute_result"
    }
   ],
   "source": [
    "# ZN idea\n",
    "    # 5. inplace\n",
    "# check\n",
    "    # 1 vs 2 중 2가 더 효율적? (1. 가독성 better이어도? )\n",
    "        # 1. (df - df.shift())['col'] \n",
    "        # 2. df['col'] - df.shift()['col']  \n",
    "        # 별도로, \"1.형태도 정상실행 가능\" 기억할 것 \n",
    "    # series, fillna() 가능\n",
    "    # sort_values('col') : 'col'기준으로 index 전체 재배열 -> 2번 왜 했지 & 다시해야하나\n",
    "\n",
    "\n",
    "a = [[1,2,3],[7,8,9],[4,5,6],[3,5,10]]\n",
    "df = pd.DataFrame(a)\n",
    "\n",
    "df.columns = ['A', 'B', 'C']\n",
    "# df\n",
    "\n",
    "df['D'] = (df - df.shift(1))['C'].fillna(0) \n",
    "# df\n",
    "\n",
    "df.sort_values('A', inplace = True)\n",
    "# df\n",
    "\n",
    "df.reset_index(drop = True, inplace=True)\n",
    "df\n"
   ]
  },
  {
   "attachments": {},
   "cell_type": "markdown",
   "metadata": {},
   "source": [
    "### 4번 문제\n",
    "> 2014,2015,2016 csv파일을 로드하여 데이터를 수정하라.\n",
    "\n",
    "1. 3개의 데이터프레임을 결합하시오 (유니언 결합)\n",
    "2. 구분 컬럼의 값을 datetime의 형태로 변환하라. \n",
    "3. 구분 컬럼에서 년도만 따로 출력하여 파생변수 년도를 생성하라.\n",
    "4. 년도 별 평균 사망자, 총 사망자를 출력하라. \n",
    "5. 년도 별 사고 대비 사망율( 사망(명) / 사고(건))을 출력하라."
   ]
  },
  {
   "cell_type": "code",
   "execution_count": null,
   "metadata": {},
   "outputs": [],
   "source": [
    "# concat, to_datetime or strptime, 4. print, 5. print  까먹지 말고 "
   ]
  },
  {
   "attachments": {},
   "cell_type": "markdown",
   "metadata": {},
   "source": [
    "### 5번 문제\n",
    "> 세종시.csv 파일을 pandas를 이용하여 read 후 데이터프레임을 수정하라.\n",
    "\n",
    "1. pandas를 이용하여 csv 파일을 로드한다. (주소는 상대경로로 지정)\n",
    "2. \"법정동코드\", \"특수지구분코드\", \"특수지구분명\", \"공동주택코드\", \"특수지명\" 컬럼을 삭제한다. \n",
    "3. \"기준연월\" 파생변수를 생성하여 \"기준연도\" + \"기준월\" 데이터를 삽입한다. \n",
    "4. pivot_table을 이용하여 인덱스는 \"기준연월\" 컬럼은 \"공동주택구분명\" 벨류는 \"공시가격\"으로 평균값을 구하고 결측치의 값은 0으로 한 뒤 바형 그래프로 출력한다. \n",
    "5. 한글이 포함되어 있음으로 한글을 표시가 될수 있도록 폰트를 변경하여 시각화를 한다."
   ]
  },
  {
   "cell_type": "code",
   "execution_count": null,
   "metadata": {},
   "outputs": [],
   "source": [
    "# 1. 상대경로\n",
    "# 2. 일일히 다 적지 않고 하는 방법도 있나?\n",
    "# 4. pivot_table (index_col? or set_index?) "
   ]
  },
  {
   "cell_type": "markdown",
   "metadata": {},
   "source": []
  }
 ],
 "metadata": {
  "kernelspec": {
   "display_name": "Python 3.10.4 64-bit",
   "language": "python",
   "name": "python3"
  },
  "language_info": {
   "codemirror_mode": {
    "name": "ipython",
    "version": 3
   },
   "file_extension": ".py",
   "mimetype": "text/x-python",
   "name": "python",
   "nbconvert_exporter": "python",
   "pygments_lexer": "ipython3",
   "version": "3.11.2"
  },
  "orig_nbformat": 4,
  "vscode": {
   "interpreter": {
    "hash": "eccee16ee1f2ca6b29c61e3c4642a90ff58e47b250cd293abf19e9e3b8422bd1"
   }
  }
 },
 "nbformat": 4,
 "nbformat_minor": 2
}
